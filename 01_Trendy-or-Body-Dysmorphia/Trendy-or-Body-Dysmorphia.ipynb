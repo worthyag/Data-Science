{
 "cells": [
  {
   "cell_type": "markdown",
   "metadata": {
    "pycharm": {
     "name": "#%% md\n"
    }
   },
   "source": [
    "# Trendy or Body Dysmorphia? Exploring the reasoning behind the increase in mental health illnesses amongst Generation Z"
   ]
  },
  {
   "cell_type": "markdown",
   "metadata": {
    "pycharm": {
     "name": "#%% md\n"
    }
   },
   "source": [
    "### Project Proposal"
   ]
  },
  {
   "cell_type": "markdown",
   "metadata": {
    "pycharm": {
     "name": "#%% md\n"
    },
    "tags": []
   },
   "source": [
    "# 1 Aims, objectives and background"
   ]
  },
  {
   "cell_type": "markdown",
   "metadata": {
    "pycharm": {
     "name": "#%% md\n"
    }
   },
   "source": [
    "## 1.1 Introduction"
   ]
  },
  {
   "cell_type": "markdown",
   "metadata": {
    "pycharm": {
     "name": "#%% md\n"
    }
   },
   "source": [
    "What can be said about the generation that grew up connected to the internet? Why is Generation Z so depressed?<br>\n",
    "A quick google search would reveal the gross number of articles simply centered around this question. What are the implications of this discovery?\n",
    "\n",
    "It is no secret that Gen Z is thought to be a troubled group. A study conducted by Mind Share Partners, SAP, and Qualtrics found that 75% of Gen Zers had left job roles in the past due to mental health issues. \\[1\\] Poor mental health is on the rise amongst this young generation, and I'll be delving into whys and hows of this terrible phenomenom in this project.\n",
    "\n",
    "Though I'll touch on mental health in general, I will single out anxiety, body dysmorphia disorder, and depression as they are all points of contention, especially for those who fall under the bracket of Generation Z, and seems to be a ramification of growing up tied to technology.\n",
    "\n",
    "I will begin by exploring the relationship between the internet and Generation Z. What are they using the internet for. Whether social media has replaced traditional forms of media and news. How integreted has social media become with their lives, and whether this is connected to the increase in mental illnesses."
   ]
  },
  {
   "cell_type": "markdown",
   "metadata": {
    "pycharm": {
     "name": "#%% md\n"
    },
    "tags": []
   },
   "source": [
    "## 1.2 Aims and objectives"
   ]
  },
  {
   "cell_type": "markdown",
   "metadata": {
    "pycharm": {
     "name": "#%% md\n"
    }
   },
   "source": [
    "**I will be exploring the following objectives in my project proposal:**\n",
    "- **The impact of a media influenced and technology driven world on Gen Z.**\n",
    "    - Measuring the forms of media that Gen Z take in, is it considered traditional?\n",
    "    - The way in which traditional media forms have adapted.\n",
    "    - Does media cause people to judge theirselves more unfairly.\n",
    "    - Is there a link between actively taking in media and body dysmorphia.\n",
    "- **Living with social media and its ramifications.**\n",
    "    - How often do people use social media.\n",
    "    - Are Gen Zers using the internet mostly for social media.\n",
    "    - Is there a relationship between the increase in social media, and the increase in poor mental health?"
   ]
  },
  {
   "cell_type": "markdown",
   "metadata": {
    "pycharm": {
     "name": "#%% md\n"
    }
   },
   "source": [
    "**The aims for this project are the following:**\n",
    "1. Find the data needed to explore my objectives.\n",
    "2. Consider the methods needed to extract said data.\n",
    "3. Once decided on the best approach, extract the data.\n",
    "4. Clean the acquired data so that it can be used for data analysis.\n",
    "5. Carry out exploratory data analysis, identifying links between data and potential flaws in the data."
   ]
  },
  {
   "cell_type": "markdown",
   "metadata": {
    "pycharm": {
     "name": "#%% md\n"
    },
    "tags": []
   },
   "source": [
    "## 1.3 Data"
   ]
  },
  {
   "cell_type": "markdown",
   "metadata": {
    "pycharm": {
     "name": "#%% md\n"
    }
   },
   "source": [
    "### 1.3.1 Data requirements"
   ]
  },
  {
   "cell_type": "markdown",
   "metadata": {
    "pycharm": {
     "name": "#%% md\n"
    }
   },
   "source": [
    "Finding revelant data for my topic of study was challenging. I found that searching specifically for a connection between body dysmorphia and social media within Generation Z was a bit of a wild goose chase. Everytime I finally found some piece of data that I thought would fit the bill, it either wasn't specific enough, or it was licensed. There have been a lot of articles on the use of social media, but not on the impact of growing up submerged in it, or how a person's view of theirselves could have been entired built or shifted based of images they were fed growing up.\n",
    "  \n",
    "After endless searching, I finally stumbled across some data that could be useful, though it didn't go as deep as I would have liked. I then decided that it would be better to broaden the basis of my proposal. Instead of picking a very niched topic, I decided that I would expand to mental illnesses in general, and look on the impact of technology as whole. Though I will say, finding appropriate data, still felt like pulling teeth.  \n",
    "\n",
    "I decided to extract data from multiple sources, and deduce whether there was a pattern, and whether I could formulate a conclusion from it. "
   ]
  },
  {
   "cell_type": "markdown",
   "metadata": {
    "pycharm": {
     "name": "#%% md\n"
    },
    "tags": []
   },
   "source": [
    "### 1.3.2 Limitations and constraints of the data"
   ]
  },
  {
   "cell_type": "markdown",
   "metadata": {
    "pycharm": {
     "name": "#%% md\n"
    }
   },
   "source": [
    "A lot of the data that I found that could be useful was locked, and required paid memberships to use. I had originally set out to find the perfect dataset specifically for what I was looking for. I found many articles on social media having an impact on people, but there weren't many that focused on giving statistics alongside their views, nor did they go into detail about body dysmorphia. I had hoped on honing in specifically on body dysmorphia and its connection with social media among Generation Z. It is something that I had noticed, and if I had more time on my hands, I would certainly dive into that topic specifically, and perhaps conduct my own study/survey so that I could get some raw trusted data.  "
   ]
  },
  {
   "cell_type": "markdown",
   "metadata": {
    "pycharm": {
     "name": "#%% md\n"
    },
    "tags": []
   },
   "source": [
    "## 1.4 Ethical considerations"
   ]
  },
  {
   "cell_type": "markdown",
   "metadata": {
    "pycharm": {
     "name": "#%% md\n"
    },
    "tags": []
   },
   "source": [
    "When it came to data acquisition I knew I had to be very careful. The way I see it is this: just because I can take it, it does not mean that I should take it. When finding data I had to ensure that I was following guidelines as best as I could. Data use guidelines varies from country to country, and there are many different licenses - therefore it is awfully easy for the lines to get blurred. In addition, the internet can only be policed to a certain extent, so it leaves the door open to moral conflict.  \n",
    "\n",
    "When starting a prosposal in which I acquire and analyse some data, I had to be mindful of its reach. Who was going to have access to my analysis, and what would they do with it. What were there intentions? Could my exploratory data analysis contain sensitive information? How would someone feel to see their personal data being used and deconstructed on the internet?  \n",
    "\n",
    "My first question was whether I was allowed to take the data. I extracted some data from The Annie E. Casey Foundation, who are a \"*charitable foundation focused on improving the well-being of American children according to their ideals.*\" \\[3\\]. Due to their drive to improve the livelihood of american children, I was allowed to obtain this data, as their organisation aims to educate, and by sharing data they hope that they can do just that. Is the data as thorough as the data that would come from another site, which isn't very clear about their licensing, or who impose restrictions- no. That being said, it all boils down to the principle, yes the data is a lot more extensive- but the lines around extracting it are blurry- I don't want to extract data that is restricted.  \n",
    "\n",
    "I also questioned the bias of the data that I had acquired. Was the study large enough? Was it diverse? If not, how could it represent an entire population that is millions of time larger and very much diverse? I mentioned earlier that it was hard to find data that fit my proposal topic. In addition, it was hard to find data from a large study. This poses the question, can the data I have acquired be valid? Shouldn't it be deemed analagous due to its small nature, perhaps only that small group of people felt that way, what if the study was double the size, will the results be completely different? I suggested diversity above, could a lack of diversity introduce bias, and what impact does this have on people, or on an organisation."
   ]
  },
  {
   "cell_type": "markdown",
   "metadata": {
    "pycharm": {
     "name": "#%% md\n"
    },
    "tags": []
   },
   "source": [
    "# 2 Data acquisition and Data cleaning"
   ]
  },
  {
   "cell_type": "markdown",
   "metadata": {
    "pycharm": {
     "name": "#%% md\n"
    }
   },
   "source": [
    "Below are the libraries that I will be using for this proposal."
   ]
  },
  {
   "cell_type": "code",
   "execution_count": 23,
   "metadata": {
    "pycharm": {
     "name": "#%%\n"
    }
   },
   "outputs": [],
   "source": [
    "# import libraries\n",
    "import pandas as pd\n",
    "from bs4 import BeautifulSoup\n",
    "import html5lib\n",
    "import matplotlib\n",
    "import matplotlib.pyplot as plt  \n",
    "import seaborn as sns"
   ]
  },
  {
   "cell_type": "markdown",
   "metadata": {
    "pycharm": {
     "name": "#%% md\n"
    },
    "tags": []
   },
   "source": [
    "## 2.1 Web scrapping and cleaning"
   ]
  },
  {
   "cell_type": "markdown",
   "metadata": {
    "jp-MarkdownHeadingCollapsed": true,
    "pycharm": {
     "name": "#%% md\n"
    },
    "tags": []
   },
   "source": [
    "**Table of URLs for data acquisition, data scrapping, data cleaning and their corresponding index**  \n",
    "This is a table of content for links to the places in which I obtained data. The index is very important, as I use them to refer to different sources, as the title of some of the datasets are super long, and hard to remember (I also paraphrase a number of the titles). The index also refers to and are linked to some of the created files, though that will be made clear throughout the proposal.\n",
    "\n",
    "Index | Name | URL\n",
    ":---:|:---: |:---\n",
    "0 | Frequency of using selected news sources among Generation Z in the United States as of February 2022 | https://www.statista.com/statistics/1124119/gen-z-news-consumption-us/\n",
    "1 | Number of Gen Z users in the United States on selected social media platforms from 2020 to 2025 | https://www.statista.com/statistics/1276021/instagram-snapchat-tiktok-gen-z-users/  \n",
    "2 | Activities performed online by Generation Z in Great Britain in 2020 | https://www.statista.com/statistics/1119977/gen-z-internet-activities-in-great-britain/ \n",
    "3 | Number of Gen Z that suffer from nerves, anxiety, and more in the US in 2020 | https://datacenter.kidscount.org/data/tables/11209-adults-ages-18-to-24-who-felt-nervous-anxious-or-on-edge-for-more-than-half-of-the-days-or-nearly-every-day-in-the-past-week\n",
    "4 | Number of Gen Z that are depressed and hopeless in the US in 2021 | https://datacenter.kidscount.org/data/tables/11211-adults-ages-18-to-24-who-felt-down-depressed-or-hopeless-for-more-than-half-of-the-days-or-nearly-every-day-for-the-past-two-weeks\n",
    "5 | Number of Gen Z reporting poor mental health | https://datacenter.kidscount.org/data/tables/11202-young-adults-ages-18-to-24-reporting-zero-poor-mental-health-days-in-the-past-month\n",
    "6 | The link between social media and body dysmorphia | https://www.ncbi.nlm.nih.gov/pmc/articles/PMC8001450/\n"
   ]
  },
  {
   "cell_type": "markdown",
   "metadata": {
    "pycharm": {
     "name": "#%% md\n"
    }
   },
   "source": [
    "**List of URLs to scrape**"
   ]
  },
  {
   "cell_type": "markdown",
   "metadata": {
    "pycharm": {
     "name": "#%% md\n"
    }
   },
   "source": [
    "Below are links to websites that I scrapped. The index in the list below matches that of the table above for convenience."
   ]
  },
  {
   "cell_type": "code",
   "execution_count": 3,
   "metadata": {
    "pycharm": {
     "name": "#%%\n"
    }
   },
   "outputs": [],
   "source": [
    "URL = [\"https://www.statista.com/statistics/1124119/gen-z-news-consumption-us/\",\n",
    "       \"https://www.statista.com/statistics/1276021/instagram-snapchat-tiktok-gen-z-users/\",\n",
    "       \"https://www.statista.com/statistics/1119977/gen-z-internet-activities-in-great-britain/\", \"\", \"\", \"\",\n",
    "       \"https://www.ncbi.nlm.nih.gov/pmc/articles/PMC8001450/\"]"
   ]
  },
  {
   "cell_type": "markdown",
   "metadata": {
    "pycharm": {
     "name": "#%% md\n"
    },
    "tags": []
   },
   "source": [
    "<hr>"
   ]
  },
  {
   "cell_type": "markdown",
   "metadata": {
    "pycharm": {
     "name": "#%% md\n"
    },
    "tags": []
   },
   "source": [
    "### URL[0] | Selected new sources"
   ]
  },
  {
   "cell_type": "markdown",
   "metadata": {
    "pycharm": {
     "name": "#%% md\n"
    },
    "tags": []
   },
   "source": [
    "#### Frequency of using selected news sources among Generation Z in the United States as of February 2022\n",
    "This source is from a survey conducted in February 2022, and it records where Generation Z news consumers frequently get their news from.  \n",
    "\n",
    "I had to create an account to access this data, and there is a limit to how many databases you have access to on this site. The next two sources are also from this site, and that was the cap on the number of databases I could access. However, I am allowed full access to this dataset, and the next two.  \n",
    "\n",
    "I was originally put off from this source, because of the idea of creating an account. However I quickly changed my mind, as I realised that beggers can't be choosers, and finding this dataset was like obtaining gold dust. The site also had other databases that I was interested in, that fit my proposal topic well, but I had to find other sources. I also felt as though it was important to show different techniques for data acquisition. If I had gotten all my data from this site, I wouldn't be able to display that, or it would get very repetitive.  \n",
    "\n",
    "This dataset is all about what sources Generation Zers use to obtain news. This was very much needed, as it helped to show just how integrated social media is with their lives, as it is their primary news source- though I will delve into that later.  \n",
    "\n",
    "I first began by scrapping the data. I first needed to see what I was to work with."
   ]
  },
  {
   "cell_type": "code",
   "execution_count": 4,
   "metadata": {
    "pycharm": {
     "name": "#%%\n"
    },
    "tags": []
   },
   "outputs": [
    {
     "data": {
      "text/plain": [
       "[           Characteristic Daily A few times per week Once per week  \\\n",
       " 0            Social media   50%                  18%            9%   \n",
       " 1                   Radio   17%                  17%            8%   \n",
       " 2  Online-only news sites   13%                  18%           14%   \n",
       " 3                Podcasts   13%                  14%            7%   \n",
       " 4            Network news    9%                  13%           12%   \n",
       " 5     Cable news networks    8%                  14%            9%   \n",
       " 6              Newspapers    5%                   4%            9%   \n",
       " \n",
       "   A few times per month Once per month Less than once per month Never  \n",
       " 0                   10%             3%                       4%    6%  \n",
       " 1                    8%             6%                      13%   31%  \n",
       " 2                   11%             6%                       9%   29%  \n",
       " 3                   11%             5%                      13%   38%  \n",
       " 4                    9%             6%                      12%   39%  \n",
       " 5                    7%             6%                      12%   44%  \n",
       " 6                    6%             6%                      17%   53%  ,\n",
       "                                           Unnamed: 0 Basic Account  \\\n",
       " 0  Our services  Click the question mark for furt...          Free   \n",
       " 1                                   Basic statistics           NaN   \n",
       " 2                                 Premium statistics           NaN   \n",
       " 3                                                NaN           NaN   \n",
       " 4                                     Graph download           NaN   \n",
       " 5                                       Download PDF           NaN   \n",
       " 6                                     Excel download           NaN   \n",
       " 7                                                NaN      Register   \n",
       " \n",
       "       Instant Access  Single Account  Unnamed: 3  \n",
       " 0  $39 per month*  (billed annually)         NaN  \n",
       " 1                                NaN         NaN  \n",
       " 2                                NaN         NaN  \n",
       " 3                                NaN         NaN  \n",
       " 4                                NaN         NaN  \n",
       " 5                                NaN         NaN  \n",
       " 6                                NaN         NaN  \n",
       " 7                       Purchase now         NaN  ]"
      ]
     },
     "execution_count": 4,
     "metadata": {},
     "output_type": "execute_result"
    }
   ],
   "source": [
    "df_0 = pd.read_html(URL[0], match=\".+\", header = 0)\n",
    "df_0"
   ]
  },
  {
   "cell_type": "markdown",
   "metadata": {
    "pycharm": {
     "name": "#%% md\n"
    }
   },
   "source": [
    "The data looked a little messy, so I decided to take a deeper look at what it was made up of.  \n",
    "**Checked how many tables there were.**"
   ]
  },
  {
   "cell_type": "code",
   "execution_count": 5,
   "metadata": {
    "pycharm": {
     "name": "#%%\n"
    }
   },
   "outputs": [
    {
     "data": {
      "text/plain": [
       "2"
      ]
     },
     "execution_count": 5,
     "metadata": {},
     "output_type": "execute_result"
    }
   ],
   "source": [
    "len(df_0)"
   ]
  },
  {
   "cell_type": "markdown",
   "metadata": {
    "pycharm": {
     "name": "#%% md\n"
    }
   },
   "source": [
    "**Took a look at the first table.**"
   ]
  },
  {
   "cell_type": "code",
   "execution_count": 6,
   "metadata": {
    "pycharm": {
     "name": "#%%\n"
    }
   },
   "outputs": [
    {
     "data": {
      "text/html": [
       "<div>\n",
       "<style scoped>\n",
       "    .dataframe tbody tr th:only-of-type {\n",
       "        vertical-align: middle;\n",
       "    }\n",
       "\n",
       "    .dataframe tbody tr th {\n",
       "        vertical-align: top;\n",
       "    }\n",
       "\n",
       "    .dataframe thead th {\n",
       "        text-align: right;\n",
       "    }\n",
       "</style>\n",
       "<table border=\"1\" class=\"dataframe\">\n",
       "  <thead>\n",
       "    <tr style=\"text-align: right;\">\n",
       "      <th></th>\n",
       "      <th>Characteristic</th>\n",
       "      <th>Daily</th>\n",
       "      <th>A few times per week</th>\n",
       "      <th>Once per week</th>\n",
       "      <th>A few times per month</th>\n",
       "      <th>Once per month</th>\n",
       "      <th>Less than once per month</th>\n",
       "      <th>Never</th>\n",
       "    </tr>\n",
       "  </thead>\n",
       "  <tbody>\n",
       "    <tr>\n",
       "      <th>0</th>\n",
       "      <td>Social media</td>\n",
       "      <td>50%</td>\n",
       "      <td>18%</td>\n",
       "      <td>9%</td>\n",
       "      <td>10%</td>\n",
       "      <td>3%</td>\n",
       "      <td>4%</td>\n",
       "      <td>6%</td>\n",
       "    </tr>\n",
       "    <tr>\n",
       "      <th>1</th>\n",
       "      <td>Radio</td>\n",
       "      <td>17%</td>\n",
       "      <td>17%</td>\n",
       "      <td>8%</td>\n",
       "      <td>8%</td>\n",
       "      <td>6%</td>\n",
       "      <td>13%</td>\n",
       "      <td>31%</td>\n",
       "    </tr>\n",
       "    <tr>\n",
       "      <th>2</th>\n",
       "      <td>Online-only news sites</td>\n",
       "      <td>13%</td>\n",
       "      <td>18%</td>\n",
       "      <td>14%</td>\n",
       "      <td>11%</td>\n",
       "      <td>6%</td>\n",
       "      <td>9%</td>\n",
       "      <td>29%</td>\n",
       "    </tr>\n",
       "    <tr>\n",
       "      <th>3</th>\n",
       "      <td>Podcasts</td>\n",
       "      <td>13%</td>\n",
       "      <td>14%</td>\n",
       "      <td>7%</td>\n",
       "      <td>11%</td>\n",
       "      <td>5%</td>\n",
       "      <td>13%</td>\n",
       "      <td>38%</td>\n",
       "    </tr>\n",
       "    <tr>\n",
       "      <th>4</th>\n",
       "      <td>Network news</td>\n",
       "      <td>9%</td>\n",
       "      <td>13%</td>\n",
       "      <td>12%</td>\n",
       "      <td>9%</td>\n",
       "      <td>6%</td>\n",
       "      <td>12%</td>\n",
       "      <td>39%</td>\n",
       "    </tr>\n",
       "    <tr>\n",
       "      <th>5</th>\n",
       "      <td>Cable news networks</td>\n",
       "      <td>8%</td>\n",
       "      <td>14%</td>\n",
       "      <td>9%</td>\n",
       "      <td>7%</td>\n",
       "      <td>6%</td>\n",
       "      <td>12%</td>\n",
       "      <td>44%</td>\n",
       "    </tr>\n",
       "    <tr>\n",
       "      <th>6</th>\n",
       "      <td>Newspapers</td>\n",
       "      <td>5%</td>\n",
       "      <td>4%</td>\n",
       "      <td>9%</td>\n",
       "      <td>6%</td>\n",
       "      <td>6%</td>\n",
       "      <td>17%</td>\n",
       "      <td>53%</td>\n",
       "    </tr>\n",
       "  </tbody>\n",
       "</table>\n",
       "</div>"
      ],
      "text/plain": [
       "           Characteristic Daily A few times per week Once per week  \\\n",
       "0            Social media   50%                  18%            9%   \n",
       "1                   Radio   17%                  17%            8%   \n",
       "2  Online-only news sites   13%                  18%           14%   \n",
       "3                Podcasts   13%                  14%            7%   \n",
       "4            Network news    9%                  13%           12%   \n",
       "5     Cable news networks    8%                  14%            9%   \n",
       "6              Newspapers    5%                   4%            9%   \n",
       "\n",
       "  A few times per month Once per month Less than once per month Never  \n",
       "0                   10%             3%                       4%    6%  \n",
       "1                    8%             6%                      13%   31%  \n",
       "2                   11%             6%                       9%   29%  \n",
       "3                   11%             5%                      13%   38%  \n",
       "4                    9%             6%                      12%   39%  \n",
       "5                    7%             6%                      12%   44%  \n",
       "6                    6%             6%                      17%   53%  "
      ]
     },
     "execution_count": 6,
     "metadata": {},
     "output_type": "execute_result"
    }
   ],
   "source": [
    "df_0[0]"
   ]
  },
  {
   "cell_type": "markdown",
   "metadata": {
    "pycharm": {
     "name": "#%% md\n"
    }
   },
   "source": [
    "**Took a look at the second table.**"
   ]
  },
  {
   "cell_type": "code",
   "execution_count": 7,
   "metadata": {
    "pycharm": {
     "name": "#%%\n"
    },
    "tags": []
   },
   "outputs": [
    {
     "data": {
      "text/html": [
       "<div>\n",
       "<style scoped>\n",
       "    .dataframe tbody tr th:only-of-type {\n",
       "        vertical-align: middle;\n",
       "    }\n",
       "\n",
       "    .dataframe tbody tr th {\n",
       "        vertical-align: top;\n",
       "    }\n",
       "\n",
       "    .dataframe thead th {\n",
       "        text-align: right;\n",
       "    }\n",
       "</style>\n",
       "<table border=\"1\" class=\"dataframe\">\n",
       "  <thead>\n",
       "    <tr style=\"text-align: right;\">\n",
       "      <th></th>\n",
       "      <th>Unnamed: 0</th>\n",
       "      <th>Basic Account</th>\n",
       "      <th>Instant Access  Single Account</th>\n",
       "      <th>Unnamed: 3</th>\n",
       "    </tr>\n",
       "  </thead>\n",
       "  <tbody>\n",
       "    <tr>\n",
       "      <th>0</th>\n",
       "      <td>Our services  Click the question mark for furt...</td>\n",
       "      <td>Free</td>\n",
       "      <td>$39 per month*  (billed annually)</td>\n",
       "      <td>NaN</td>\n",
       "    </tr>\n",
       "    <tr>\n",
       "      <th>1</th>\n",
       "      <td>Basic statistics</td>\n",
       "      <td>NaN</td>\n",
       "      <td>NaN</td>\n",
       "      <td>NaN</td>\n",
       "    </tr>\n",
       "    <tr>\n",
       "      <th>2</th>\n",
       "      <td>Premium statistics</td>\n",
       "      <td>NaN</td>\n",
       "      <td>NaN</td>\n",
       "      <td>NaN</td>\n",
       "    </tr>\n",
       "    <tr>\n",
       "      <th>3</th>\n",
       "      <td>NaN</td>\n",
       "      <td>NaN</td>\n",
       "      <td>NaN</td>\n",
       "      <td>NaN</td>\n",
       "    </tr>\n",
       "    <tr>\n",
       "      <th>4</th>\n",
       "      <td>Graph download</td>\n",
       "      <td>NaN</td>\n",
       "      <td>NaN</td>\n",
       "      <td>NaN</td>\n",
       "    </tr>\n",
       "    <tr>\n",
       "      <th>5</th>\n",
       "      <td>Download PDF</td>\n",
       "      <td>NaN</td>\n",
       "      <td>NaN</td>\n",
       "      <td>NaN</td>\n",
       "    </tr>\n",
       "    <tr>\n",
       "      <th>6</th>\n",
       "      <td>Excel download</td>\n",
       "      <td>NaN</td>\n",
       "      <td>NaN</td>\n",
       "      <td>NaN</td>\n",
       "    </tr>\n",
       "    <tr>\n",
       "      <th>7</th>\n",
       "      <td>NaN</td>\n",
       "      <td>Register</td>\n",
       "      <td>Purchase now</td>\n",
       "      <td>NaN</td>\n",
       "    </tr>\n",
       "  </tbody>\n",
       "</table>\n",
       "</div>"
      ],
      "text/plain": [
       "                                          Unnamed: 0 Basic Account  \\\n",
       "0  Our services  Click the question mark for furt...          Free   \n",
       "1                                   Basic statistics           NaN   \n",
       "2                                 Premium statistics           NaN   \n",
       "3                                                NaN           NaN   \n",
       "4                                     Graph download           NaN   \n",
       "5                                       Download PDF           NaN   \n",
       "6                                     Excel download           NaN   \n",
       "7                                                NaN      Register   \n",
       "\n",
       "      Instant Access  Single Account  Unnamed: 3  \n",
       "0  $39 per month*  (billed annually)         NaN  \n",
       "1                                NaN         NaN  \n",
       "2                                NaN         NaN  \n",
       "3                                NaN         NaN  \n",
       "4                                NaN         NaN  \n",
       "5                                NaN         NaN  \n",
       "6                                NaN         NaN  \n",
       "7                       Purchase now         NaN  "
      ]
     },
     "execution_count": 7,
     "metadata": {},
     "output_type": "execute_result"
    }
   ],
   "source": [
    "df_0[1]"
   ]
  },
  {
   "cell_type": "markdown",
   "metadata": {
    "pycharm": {
     "name": "#%% md\n"
    }
   },
   "source": [
    "I decided that I would not use the second table, as it didn't contain any data valuable for analysis.  \n",
    "**Reassigned the dataframe to only contain the first table.**"
   ]
  },
  {
   "cell_type": "code",
   "execution_count": 8,
   "metadata": {
    "pycharm": {
     "name": "#%%\n"
    }
   },
   "outputs": [],
   "source": [
    "df_0 = df_0[0]"
   ]
  },
  {
   "cell_type": "code",
   "execution_count": 9,
   "metadata": {
    "pycharm": {
     "name": "#%%\n"
    }
   },
   "outputs": [
    {
     "data": {
      "text/html": [
       "<div>\n",
       "<style scoped>\n",
       "    .dataframe tbody tr th:only-of-type {\n",
       "        vertical-align: middle;\n",
       "    }\n",
       "\n",
       "    .dataframe tbody tr th {\n",
       "        vertical-align: top;\n",
       "    }\n",
       "\n",
       "    .dataframe thead th {\n",
       "        text-align: right;\n",
       "    }\n",
       "</style>\n",
       "<table border=\"1\" class=\"dataframe\">\n",
       "  <thead>\n",
       "    <tr style=\"text-align: right;\">\n",
       "      <th></th>\n",
       "      <th>Characteristic</th>\n",
       "      <th>Daily</th>\n",
       "      <th>A few times per week</th>\n",
       "      <th>Once per week</th>\n",
       "      <th>A few times per month</th>\n",
       "      <th>Once per month</th>\n",
       "      <th>Less than once per month</th>\n",
       "      <th>Never</th>\n",
       "    </tr>\n",
       "  </thead>\n",
       "  <tbody>\n",
       "    <tr>\n",
       "      <th>0</th>\n",
       "      <td>Social media</td>\n",
       "      <td>50%</td>\n",
       "      <td>18%</td>\n",
       "      <td>9%</td>\n",
       "      <td>10%</td>\n",
       "      <td>3%</td>\n",
       "      <td>4%</td>\n",
       "      <td>6%</td>\n",
       "    </tr>\n",
       "    <tr>\n",
       "      <th>1</th>\n",
       "      <td>Radio</td>\n",
       "      <td>17%</td>\n",
       "      <td>17%</td>\n",
       "      <td>8%</td>\n",
       "      <td>8%</td>\n",
       "      <td>6%</td>\n",
       "      <td>13%</td>\n",
       "      <td>31%</td>\n",
       "    </tr>\n",
       "    <tr>\n",
       "      <th>2</th>\n",
       "      <td>Online-only news sites</td>\n",
       "      <td>13%</td>\n",
       "      <td>18%</td>\n",
       "      <td>14%</td>\n",
       "      <td>11%</td>\n",
       "      <td>6%</td>\n",
       "      <td>9%</td>\n",
       "      <td>29%</td>\n",
       "    </tr>\n",
       "    <tr>\n",
       "      <th>3</th>\n",
       "      <td>Podcasts</td>\n",
       "      <td>13%</td>\n",
       "      <td>14%</td>\n",
       "      <td>7%</td>\n",
       "      <td>11%</td>\n",
       "      <td>5%</td>\n",
       "      <td>13%</td>\n",
       "      <td>38%</td>\n",
       "    </tr>\n",
       "    <tr>\n",
       "      <th>4</th>\n",
       "      <td>Network news</td>\n",
       "      <td>9%</td>\n",
       "      <td>13%</td>\n",
       "      <td>12%</td>\n",
       "      <td>9%</td>\n",
       "      <td>6%</td>\n",
       "      <td>12%</td>\n",
       "      <td>39%</td>\n",
       "    </tr>\n",
       "    <tr>\n",
       "      <th>5</th>\n",
       "      <td>Cable news networks</td>\n",
       "      <td>8%</td>\n",
       "      <td>14%</td>\n",
       "      <td>9%</td>\n",
       "      <td>7%</td>\n",
       "      <td>6%</td>\n",
       "      <td>12%</td>\n",
       "      <td>44%</td>\n",
       "    </tr>\n",
       "    <tr>\n",
       "      <th>6</th>\n",
       "      <td>Newspapers</td>\n",
       "      <td>5%</td>\n",
       "      <td>4%</td>\n",
       "      <td>9%</td>\n",
       "      <td>6%</td>\n",
       "      <td>6%</td>\n",
       "      <td>17%</td>\n",
       "      <td>53%</td>\n",
       "    </tr>\n",
       "  </tbody>\n",
       "</table>\n",
       "</div>"
      ],
      "text/plain": [
       "           Characteristic Daily A few times per week Once per week  \\\n",
       "0            Social media   50%                  18%            9%   \n",
       "1                   Radio   17%                  17%            8%   \n",
       "2  Online-only news sites   13%                  18%           14%   \n",
       "3                Podcasts   13%                  14%            7%   \n",
       "4            Network news    9%                  13%           12%   \n",
       "5     Cable news networks    8%                  14%            9%   \n",
       "6              Newspapers    5%                   4%            9%   \n",
       "\n",
       "  A few times per month Once per month Less than once per month Never  \n",
       "0                   10%             3%                       4%    6%  \n",
       "1                    8%             6%                      13%   31%  \n",
       "2                   11%             6%                       9%   29%  \n",
       "3                   11%             5%                      13%   38%  \n",
       "4                    9%             6%                      12%   39%  \n",
       "5                    7%             6%                      12%   44%  \n",
       "6                    6%             6%                      17%   53%  "
      ]
     },
     "execution_count": 9,
     "metadata": {},
     "output_type": "execute_result"
    }
   ],
   "source": [
    "df_0"
   ]
  },
  {
   "cell_type": "markdown",
   "metadata": {
    "pycharm": {
     "name": "#%% md\n"
    }
   },
   "source": [
    "**Created the following function to make this process instantaneous.**"
   ]
  },
  {
   "cell_type": "code",
   "execution_count": 10,
   "metadata": {
    "pycharm": {
     "name": "#%%\n"
    }
   },
   "outputs": [],
   "source": [
    "def import_df_url(url, x):\n",
    "    temp = pd.read_html(url, match=\".+\", header = 0)\n",
    "    return temp[x]"
   ]
  },
  {
   "cell_type": "markdown",
   "metadata": {
    "pycharm": {
     "name": "#%% md\n"
    }
   },
   "source": [
    "Reviewing the table, led me to realise that 'Characteristic' was not the best way to the describe the column that represented the various sources from which the Gen Zers could consume media.  \n",
    "\n",
    "**Therefore I renamed Characteristic to Source, as it better describes the column.**"
   ]
  },
  {
   "cell_type": "code",
   "execution_count": 11,
   "metadata": {
    "pycharm": {
     "name": "#%%\n"
    }
   },
   "outputs": [
    {
     "data": {
      "text/html": [
       "<div>\n",
       "<style scoped>\n",
       "    .dataframe tbody tr th:only-of-type {\n",
       "        vertical-align: middle;\n",
       "    }\n",
       "\n",
       "    .dataframe tbody tr th {\n",
       "        vertical-align: top;\n",
       "    }\n",
       "\n",
       "    .dataframe thead th {\n",
       "        text-align: right;\n",
       "    }\n",
       "</style>\n",
       "<table border=\"1\" class=\"dataframe\">\n",
       "  <thead>\n",
       "    <tr style=\"text-align: right;\">\n",
       "      <th></th>\n",
       "      <th>Source</th>\n",
       "      <th>Daily</th>\n",
       "      <th>A few times per week</th>\n",
       "      <th>Once per week</th>\n",
       "      <th>A few times per month</th>\n",
       "      <th>Once per month</th>\n",
       "      <th>Less than once per month</th>\n",
       "      <th>Never</th>\n",
       "    </tr>\n",
       "  </thead>\n",
       "  <tbody>\n",
       "    <tr>\n",
       "      <th>0</th>\n",
       "      <td>Social media</td>\n",
       "      <td>50%</td>\n",
       "      <td>18%</td>\n",
       "      <td>9%</td>\n",
       "      <td>10%</td>\n",
       "      <td>3%</td>\n",
       "      <td>4%</td>\n",
       "      <td>6%</td>\n",
       "    </tr>\n",
       "    <tr>\n",
       "      <th>1</th>\n",
       "      <td>Radio</td>\n",
       "      <td>17%</td>\n",
       "      <td>17%</td>\n",
       "      <td>8%</td>\n",
       "      <td>8%</td>\n",
       "      <td>6%</td>\n",
       "      <td>13%</td>\n",
       "      <td>31%</td>\n",
       "    </tr>\n",
       "    <tr>\n",
       "      <th>2</th>\n",
       "      <td>Online-only news sites</td>\n",
       "      <td>13%</td>\n",
       "      <td>18%</td>\n",
       "      <td>14%</td>\n",
       "      <td>11%</td>\n",
       "      <td>6%</td>\n",
       "      <td>9%</td>\n",
       "      <td>29%</td>\n",
       "    </tr>\n",
       "    <tr>\n",
       "      <th>3</th>\n",
       "      <td>Podcasts</td>\n",
       "      <td>13%</td>\n",
       "      <td>14%</td>\n",
       "      <td>7%</td>\n",
       "      <td>11%</td>\n",
       "      <td>5%</td>\n",
       "      <td>13%</td>\n",
       "      <td>38%</td>\n",
       "    </tr>\n",
       "    <tr>\n",
       "      <th>4</th>\n",
       "      <td>Network news</td>\n",
       "      <td>9%</td>\n",
       "      <td>13%</td>\n",
       "      <td>12%</td>\n",
       "      <td>9%</td>\n",
       "      <td>6%</td>\n",
       "      <td>12%</td>\n",
       "      <td>39%</td>\n",
       "    </tr>\n",
       "    <tr>\n",
       "      <th>5</th>\n",
       "      <td>Cable news networks</td>\n",
       "      <td>8%</td>\n",
       "      <td>14%</td>\n",
       "      <td>9%</td>\n",
       "      <td>7%</td>\n",
       "      <td>6%</td>\n",
       "      <td>12%</td>\n",
       "      <td>44%</td>\n",
       "    </tr>\n",
       "    <tr>\n",
       "      <th>6</th>\n",
       "      <td>Newspapers</td>\n",
       "      <td>5%</td>\n",
       "      <td>4%</td>\n",
       "      <td>9%</td>\n",
       "      <td>6%</td>\n",
       "      <td>6%</td>\n",
       "      <td>17%</td>\n",
       "      <td>53%</td>\n",
       "    </tr>\n",
       "  </tbody>\n",
       "</table>\n",
       "</div>"
      ],
      "text/plain": [
       "                   Source Daily A few times per week Once per week  \\\n",
       "0            Social media   50%                  18%            9%   \n",
       "1                   Radio   17%                  17%            8%   \n",
       "2  Online-only news sites   13%                  18%           14%   \n",
       "3                Podcasts   13%                  14%            7%   \n",
       "4            Network news    9%                  13%           12%   \n",
       "5     Cable news networks    8%                  14%            9%   \n",
       "6              Newspapers    5%                   4%            9%   \n",
       "\n",
       "  A few times per month Once per month Less than once per month Never  \n",
       "0                   10%             3%                       4%    6%  \n",
       "1                    8%             6%                      13%   31%  \n",
       "2                   11%             6%                       9%   29%  \n",
       "3                   11%             5%                      13%   38%  \n",
       "4                    9%             6%                      12%   39%  \n",
       "5                    7%             6%                      12%   44%  \n",
       "6                    6%             6%                      17%   53%  "
      ]
     },
     "execution_count": 11,
     "metadata": {},
     "output_type": "execute_result"
    }
   ],
   "source": [
    "df_0 = df_0.rename(columns={'Characteristic': 'Source'})\n",
    "df_0"
   ]
  },
  {
   "cell_type": "code",
   "execution_count": 12,
   "metadata": {
    "pycharm": {
     "name": "#%%\n"
    }
   },
   "outputs": [
    {
     "data": {
      "text/plain": [
       "str"
      ]
     },
     "execution_count": 12,
     "metadata": {},
     "output_type": "execute_result"
    }
   ],
   "source": [
    "type(df_0['Daily'][0])"
   ]
  },
  {
   "cell_type": "markdown",
   "metadata": {
    "pycharm": {
     "name": "#%% md\n"
    }
   },
   "source": [
    "The data in the dataframe were strings, but in order to further process the data, I wanted them to be in integers. I wanted to also remove the percentage sign, and instead indicate the they were percentages, by adding the percentage symbol to the headers."
   ]
  },
  {
   "cell_type": "markdown",
   "metadata": {
    "pycharm": {
     "name": "#%% md\n"
    }
   },
   "source": [
    "**First I created a remove character function.**  \n",
    "This was so that if I needed to do another process like this again, I could reuse my code."
   ]
  },
  {
   "cell_type": "code",
   "execution_count": 13,
   "metadata": {
    "pycharm": {
     "name": "#%%\n"
    }
   },
   "outputs": [],
   "source": [
    "def remove_characters(values, char):\n",
    "    stripped = []\n",
    "    \n",
    "    for i in range(0, len(values)):\n",
    "        stripped.append(int(values[i].strip(char)))\n",
    "    return stripped"
   ]
  },
  {
   "cell_type": "markdown",
   "metadata": {
    "pycharm": {
     "name": "#%% md\n"
    }
   },
   "source": [
    "**Next I created an insert columns function.**  \n",
    "Again, this was so that I could reuse the code, and to make the code a little shorter."
   ]
  },
  {
   "cell_type": "code",
   "execution_count": 14,
   "metadata": {
    "pycharm": {
     "name": "#%%\n"
    }
   },
   "outputs": [],
   "source": [
    "def insert_columns(index, column, values, dataf):\n",
    "    dataf.insert(index, column, values, True)"
   ]
  },
  {
   "cell_type": "markdown",
   "metadata": {
    "pycharm": {
     "name": "#%% md\n"
    }
   },
   "source": [
    "**Finally I created a delete columns function.**  \n",
    "For the same reasons as above."
   ]
  },
  {
   "cell_type": "code",
   "execution_count": 15,
   "metadata": {
    "pycharm": {
     "name": "#%%\n"
    }
   },
   "outputs": [],
   "source": [
    "def delete_columns(columns, dataf):\n",
    "    dataf.drop(columns, inplace=True, axis=1)"
   ]
  },
  {
   "cell_type": "markdown",
   "metadata": {
    "pycharm": {
     "name": "#%% md\n"
    }
   },
   "source": [
    "There were originally 8 columns."
   ]
  },
  {
   "cell_type": "code",
   "execution_count": 16,
   "metadata": {
    "pycharm": {
     "name": "#%%\n"
    }
   },
   "outputs": [
    {
     "data": {
      "text/plain": [
       "(7, 8)"
      ]
     },
     "execution_count": 16,
     "metadata": {},
     "output_type": "execute_result"
    }
   ],
   "source": [
    "df_0.shape"
   ]
  },
  {
   "cell_type": "markdown",
   "metadata": {
    "pycharm": {
     "name": "#%% md\n"
    }
   },
   "source": [
    "**First I created the new columns.**"
   ]
  },
  {
   "cell_type": "markdown",
   "metadata": {
    "pycharm": {
     "name": "#%% md\n"
    }
   },
   "source": [
    "I called both the **insert_columns()** function and the **remove_characters()** function."
   ]
  },
  {
   "cell_type": "code",
   "execution_count": 17,
   "metadata": {
    "pycharm": {
     "name": "#%%\n"
    }
   },
   "outputs": [
    {
     "data": {
      "text/html": [
       "<div>\n",
       "<style scoped>\n",
       "    .dataframe tbody tr th:only-of-type {\n",
       "        vertical-align: middle;\n",
       "    }\n",
       "\n",
       "    .dataframe tbody tr th {\n",
       "        vertical-align: top;\n",
       "    }\n",
       "\n",
       "    .dataframe thead th {\n",
       "        text-align: right;\n",
       "    }\n",
       "</style>\n",
       "<table border=\"1\" class=\"dataframe\">\n",
       "  <thead>\n",
       "    <tr style=\"text-align: right;\">\n",
       "      <th></th>\n",
       "      <th>Source</th>\n",
       "      <th>Daily (%)</th>\n",
       "      <th>A few times per week (%)</th>\n",
       "      <th>Once per week (%)</th>\n",
       "      <th>A few times per month (%)</th>\n",
       "      <th>Once per month (%)</th>\n",
       "      <th>Less than once per month (%)</th>\n",
       "      <th>Never (%)</th>\n",
       "      <th>Daily</th>\n",
       "      <th>A few times per week</th>\n",
       "      <th>Once per week</th>\n",
       "      <th>A few times per month</th>\n",
       "      <th>Once per month</th>\n",
       "      <th>Less than once per month</th>\n",
       "      <th>Never</th>\n",
       "    </tr>\n",
       "  </thead>\n",
       "  <tbody>\n",
       "    <tr>\n",
       "      <th>0</th>\n",
       "      <td>Social media</td>\n",
       "      <td>50</td>\n",
       "      <td>18</td>\n",
       "      <td>9</td>\n",
       "      <td>10</td>\n",
       "      <td>3</td>\n",
       "      <td>4</td>\n",
       "      <td>6</td>\n",
       "      <td>50%</td>\n",
       "      <td>18%</td>\n",
       "      <td>9%</td>\n",
       "      <td>10%</td>\n",
       "      <td>3%</td>\n",
       "      <td>4%</td>\n",
       "      <td>6%</td>\n",
       "    </tr>\n",
       "    <tr>\n",
       "      <th>1</th>\n",
       "      <td>Radio</td>\n",
       "      <td>17</td>\n",
       "      <td>17</td>\n",
       "      <td>8</td>\n",
       "      <td>8</td>\n",
       "      <td>6</td>\n",
       "      <td>13</td>\n",
       "      <td>31</td>\n",
       "      <td>17%</td>\n",
       "      <td>17%</td>\n",
       "      <td>8%</td>\n",
       "      <td>8%</td>\n",
       "      <td>6%</td>\n",
       "      <td>13%</td>\n",
       "      <td>31%</td>\n",
       "    </tr>\n",
       "    <tr>\n",
       "      <th>2</th>\n",
       "      <td>Online-only news sites</td>\n",
       "      <td>13</td>\n",
       "      <td>18</td>\n",
       "      <td>14</td>\n",
       "      <td>11</td>\n",
       "      <td>6</td>\n",
       "      <td>9</td>\n",
       "      <td>29</td>\n",
       "      <td>13%</td>\n",
       "      <td>18%</td>\n",
       "      <td>14%</td>\n",
       "      <td>11%</td>\n",
       "      <td>6%</td>\n",
       "      <td>9%</td>\n",
       "      <td>29%</td>\n",
       "    </tr>\n",
       "    <tr>\n",
       "      <th>3</th>\n",
       "      <td>Podcasts</td>\n",
       "      <td>13</td>\n",
       "      <td>14</td>\n",
       "      <td>7</td>\n",
       "      <td>11</td>\n",
       "      <td>5</td>\n",
       "      <td>13</td>\n",
       "      <td>38</td>\n",
       "      <td>13%</td>\n",
       "      <td>14%</td>\n",
       "      <td>7%</td>\n",
       "      <td>11%</td>\n",
       "      <td>5%</td>\n",
       "      <td>13%</td>\n",
       "      <td>38%</td>\n",
       "    </tr>\n",
       "    <tr>\n",
       "      <th>4</th>\n",
       "      <td>Network news</td>\n",
       "      <td>9</td>\n",
       "      <td>13</td>\n",
       "      <td>12</td>\n",
       "      <td>9</td>\n",
       "      <td>6</td>\n",
       "      <td>12</td>\n",
       "      <td>39</td>\n",
       "      <td>9%</td>\n",
       "      <td>13%</td>\n",
       "      <td>12%</td>\n",
       "      <td>9%</td>\n",
       "      <td>6%</td>\n",
       "      <td>12%</td>\n",
       "      <td>39%</td>\n",
       "    </tr>\n",
       "    <tr>\n",
       "      <th>5</th>\n",
       "      <td>Cable news networks</td>\n",
       "      <td>8</td>\n",
       "      <td>14</td>\n",
       "      <td>9</td>\n",
       "      <td>7</td>\n",
       "      <td>6</td>\n",
       "      <td>12</td>\n",
       "      <td>44</td>\n",
       "      <td>8%</td>\n",
       "      <td>14%</td>\n",
       "      <td>9%</td>\n",
       "      <td>7%</td>\n",
       "      <td>6%</td>\n",
       "      <td>12%</td>\n",
       "      <td>44%</td>\n",
       "    </tr>\n",
       "    <tr>\n",
       "      <th>6</th>\n",
       "      <td>Newspapers</td>\n",
       "      <td>5</td>\n",
       "      <td>4</td>\n",
       "      <td>9</td>\n",
       "      <td>6</td>\n",
       "      <td>6</td>\n",
       "      <td>17</td>\n",
       "      <td>53</td>\n",
       "      <td>5%</td>\n",
       "      <td>4%</td>\n",
       "      <td>9%</td>\n",
       "      <td>6%</td>\n",
       "      <td>6%</td>\n",
       "      <td>17%</td>\n",
       "      <td>53%</td>\n",
       "    </tr>\n",
       "  </tbody>\n",
       "</table>\n",
       "</div>"
      ],
      "text/plain": [
       "                   Source  Daily (%)  A few times per week (%)  \\\n",
       "0            Social media         50                        18   \n",
       "1                   Radio         17                        17   \n",
       "2  Online-only news sites         13                        18   \n",
       "3                Podcasts         13                        14   \n",
       "4            Network news          9                        13   \n",
       "5     Cable news networks          8                        14   \n",
       "6              Newspapers          5                         4   \n",
       "\n",
       "   Once per week (%)  A few times per month (%)  Once per month (%)  \\\n",
       "0                  9                         10                   3   \n",
       "1                  8                          8                   6   \n",
       "2                 14                         11                   6   \n",
       "3                  7                         11                   5   \n",
       "4                 12                          9                   6   \n",
       "5                  9                          7                   6   \n",
       "6                  9                          6                   6   \n",
       "\n",
       "   Less than once per month (%)  Never (%) Daily A few times per week  \\\n",
       "0                             4          6   50%                  18%   \n",
       "1                            13         31   17%                  17%   \n",
       "2                             9         29   13%                  18%   \n",
       "3                            13         38   13%                  14%   \n",
       "4                            12         39    9%                  13%   \n",
       "5                            12         44    8%                  14%   \n",
       "6                            17         53    5%                   4%   \n",
       "\n",
       "  Once per week A few times per month Once per month Less than once per month  \\\n",
       "0            9%                   10%             3%                       4%   \n",
       "1            8%                    8%             6%                      13%   \n",
       "2           14%                   11%             6%                       9%   \n",
       "3            7%                   11%             5%                      13%   \n",
       "4           12%                    9%             6%                      12%   \n",
       "5            9%                    7%             6%                      12%   \n",
       "6            9%                    6%             6%                      17%   \n",
       "\n",
       "  Never  \n",
       "0    6%  \n",
       "1   31%  \n",
       "2   29%  \n",
       "3   38%  \n",
       "4   39%  \n",
       "5   44%  \n",
       "6   53%  "
      ]
     },
     "execution_count": 17,
     "metadata": {},
     "output_type": "execute_result"
    }
   ],
   "source": [
    "before = ['Daily', 'A few times per week', 'Once per week', 'A few times per month',\n",
    "          'Once per month', 'Less than once per month', 'Never']\n",
    "\n",
    "after = ['Daily (%)', 'A few times per week (%)', 'Once per week (%)', 'A few times per month (%)',\n",
    "          'Once per month (%)', 'Less than once per month (%)', 'Never (%)']\n",
    "\n",
    "for i in range((len(before) - 1), -1, -1):\n",
    "    insert_columns(1, after[i], remove_characters(df_0[before[i]], '%'), df_0)\n",
    "\n",
    "df_0"
   ]
  },
  {
   "cell_type": "code",
   "execution_count": 18,
   "metadata": {
    "pycharm": {
     "name": "#%%\n"
    }
   },
   "outputs": [
    {
     "data": {
      "text/plain": [
       "(7, 15)"
      ]
     },
     "execution_count": 18,
     "metadata": {},
     "output_type": "execute_result"
    }
   ],
   "source": [
    "df_0.shape"
   ]
  },
  {
   "cell_type": "markdown",
   "metadata": {
    "pycharm": {
     "name": "#%% md\n"
    }
   },
   "source": [
    "Now there was 15 columns."
   ]
  },
  {
   "cell_type": "markdown",
   "metadata": {
    "pycharm": {
     "name": "#%% md\n"
    }
   },
   "source": [
    "**Next I deleted the columns containing the old data.**"
   ]
  },
  {
   "cell_type": "markdown",
   "metadata": {
    "pycharm": {
     "name": "#%% md\n"
    }
   },
   "source": [
    "I am called the **delete_columns()** function."
   ]
  },
  {
   "cell_type": "code",
   "execution_count": 19,
   "metadata": {
    "pycharm": {
     "name": "#%%\n"
    }
   },
   "outputs": [
    {
     "data": {
      "text/html": [
       "<div>\n",
       "<style scoped>\n",
       "    .dataframe tbody tr th:only-of-type {\n",
       "        vertical-align: middle;\n",
       "    }\n",
       "\n",
       "    .dataframe tbody tr th {\n",
       "        vertical-align: top;\n",
       "    }\n",
       "\n",
       "    .dataframe thead th {\n",
       "        text-align: right;\n",
       "    }\n",
       "</style>\n",
       "<table border=\"1\" class=\"dataframe\">\n",
       "  <thead>\n",
       "    <tr style=\"text-align: right;\">\n",
       "      <th></th>\n",
       "      <th>Source</th>\n",
       "      <th>Daily (%)</th>\n",
       "      <th>A few times per week (%)</th>\n",
       "      <th>Once per week (%)</th>\n",
       "      <th>A few times per month (%)</th>\n",
       "      <th>Once per month (%)</th>\n",
       "      <th>Less than once per month (%)</th>\n",
       "      <th>Never (%)</th>\n",
       "    </tr>\n",
       "  </thead>\n",
       "  <tbody>\n",
       "    <tr>\n",
       "      <th>0</th>\n",
       "      <td>Social media</td>\n",
       "      <td>50</td>\n",
       "      <td>18</td>\n",
       "      <td>9</td>\n",
       "      <td>10</td>\n",
       "      <td>3</td>\n",
       "      <td>4</td>\n",
       "      <td>6</td>\n",
       "    </tr>\n",
       "    <tr>\n",
       "      <th>1</th>\n",
       "      <td>Radio</td>\n",
       "      <td>17</td>\n",
       "      <td>17</td>\n",
       "      <td>8</td>\n",
       "      <td>8</td>\n",
       "      <td>6</td>\n",
       "      <td>13</td>\n",
       "      <td>31</td>\n",
       "    </tr>\n",
       "    <tr>\n",
       "      <th>2</th>\n",
       "      <td>Online-only news sites</td>\n",
       "      <td>13</td>\n",
       "      <td>18</td>\n",
       "      <td>14</td>\n",
       "      <td>11</td>\n",
       "      <td>6</td>\n",
       "      <td>9</td>\n",
       "      <td>29</td>\n",
       "    </tr>\n",
       "    <tr>\n",
       "      <th>3</th>\n",
       "      <td>Podcasts</td>\n",
       "      <td>13</td>\n",
       "      <td>14</td>\n",
       "      <td>7</td>\n",
       "      <td>11</td>\n",
       "      <td>5</td>\n",
       "      <td>13</td>\n",
       "      <td>38</td>\n",
       "    </tr>\n",
       "    <tr>\n",
       "      <th>4</th>\n",
       "      <td>Network news</td>\n",
       "      <td>9</td>\n",
       "      <td>13</td>\n",
       "      <td>12</td>\n",
       "      <td>9</td>\n",
       "      <td>6</td>\n",
       "      <td>12</td>\n",
       "      <td>39</td>\n",
       "    </tr>\n",
       "    <tr>\n",
       "      <th>5</th>\n",
       "      <td>Cable news networks</td>\n",
       "      <td>8</td>\n",
       "      <td>14</td>\n",
       "      <td>9</td>\n",
       "      <td>7</td>\n",
       "      <td>6</td>\n",
       "      <td>12</td>\n",
       "      <td>44</td>\n",
       "    </tr>\n",
       "    <tr>\n",
       "      <th>6</th>\n",
       "      <td>Newspapers</td>\n",
       "      <td>5</td>\n",
       "      <td>4</td>\n",
       "      <td>9</td>\n",
       "      <td>6</td>\n",
       "      <td>6</td>\n",
       "      <td>17</td>\n",
       "      <td>53</td>\n",
       "    </tr>\n",
       "  </tbody>\n",
       "</table>\n",
       "</div>"
      ],
      "text/plain": [
       "                   Source  Daily (%)  A few times per week (%)  \\\n",
       "0            Social media         50                        18   \n",
       "1                   Radio         17                        17   \n",
       "2  Online-only news sites         13                        18   \n",
       "3                Podcasts         13                        14   \n",
       "4            Network news          9                        13   \n",
       "5     Cable news networks          8                        14   \n",
       "6              Newspapers          5                         4   \n",
       "\n",
       "   Once per week (%)  A few times per month (%)  Once per month (%)  \\\n",
       "0                  9                         10                   3   \n",
       "1                  8                          8                   6   \n",
       "2                 14                         11                   6   \n",
       "3                  7                         11                   5   \n",
       "4                 12                          9                   6   \n",
       "5                  9                          7                   6   \n",
       "6                  9                          6                   6   \n",
       "\n",
       "   Less than once per month (%)  Never (%)  \n",
       "0                             4          6  \n",
       "1                            13         31  \n",
       "2                             9         29  \n",
       "3                            13         38  \n",
       "4                            12         39  \n",
       "5                            12         44  \n",
       "6                            17         53  "
      ]
     },
     "execution_count": 19,
     "metadata": {},
     "output_type": "execute_result"
    }
   ],
   "source": [
    "for i in range(0, len(before)):\n",
    "    delete_columns([before[i]], df_0)\n",
    "df_0"
   ]
  },
  {
   "cell_type": "code",
   "execution_count": 20,
   "metadata": {
    "pycharm": {
     "name": "#%%\n"
    }
   },
   "outputs": [
    {
     "data": {
      "text/plain": [
       "(7, 8)"
      ]
     },
     "execution_count": 20,
     "metadata": {},
     "output_type": "execute_result"
    }
   ],
   "source": [
    "df_0.shape"
   ]
  },
  {
   "cell_type": "markdown",
   "metadata": {
    "pycharm": {
     "name": "#%% md\n"
    }
   },
   "source": [
    "Now there was 8 columns again."
   ]
  },
  {
   "cell_type": "markdown",
   "metadata": {
    "pycharm": {
     "name": "#%% md\n"
    }
   },
   "source": [
    "I then wrote the above data into a csv file, which is saved in the data folder. This was so that there was a concrete copy of the altered data.  \n",
    "Saving it in the data folder meant that all the data acquired is in one place and is easy to locate."
   ]
  },
  {
   "cell_type": "markdown",
   "metadata": {
    "pycharm": {
     "name": "#%% md\n"
    }
   },
   "source": [
    "**Wrote the table to a csv file**"
   ]
  },
  {
   "cell_type": "code",
   "execution_count": 21,
   "metadata": {
    "pycharm": {
     "name": "#%%\n"
    }
   },
   "outputs": [],
   "source": [
    "# Setting to false stops the index from being written out\n",
    "df_0.to_csv('./data/df_0.csv', index=False)"
   ]
  },
  {
   "cell_type": "markdown",
   "metadata": {
    "pycharm": {
     "name": "#%% md\n"
    }
   },
   "source": [
    "**Checked whether the file was created and written to successfully**"
   ]
  },
  {
   "cell_type": "code",
   "execution_count": 52,
   "metadata": {
    "pycharm": {
     "name": "#%%\n"
    }
   },
   "outputs": [
    {
     "name": "stdout",
     "output_type": "stream",
     "text": [
      "/Users/worthy/Desktop/PWD/midterm/data\n"
     ]
    }
   ],
   "source": [
    "cd data"
   ]
  },
  {
   "cell_type": "code",
   "execution_count": 53,
   "metadata": {
    "pycharm": {
     "name": "#%%\n"
    }
   },
   "outputs": [
    {
     "name": "stdout",
     "output_type": "stream",
     "text": [
      "df_0.csv df_1.csv df_2.csv\n"
     ]
    }
   ],
   "source": [
    "!ls"
   ]
  },
  {
   "cell_type": "code",
   "execution_count": 54,
   "metadata": {
    "pycharm": {
     "name": "#%%\n"
    }
   },
   "outputs": [
    {
     "name": "stdout",
     "output_type": "stream",
     "text": [
      "Source,Daily (%),A few times per week (%),Once per week (%),A few times per month (%),Once per month (%),Less than once per month (%),Never (%)\n",
      "Social media,50,18,9,10,3,4,6\n",
      "Radio,17,17,8,8,6,13,31\n",
      "Online-only news sites,13,18,14,11,6,9,29\n",
      "Podcasts,13,14,7,11,5,13,38\n",
      "Network news,9,13,12,9,6,12,39\n",
      "Cable news networks,8,14,9,7,6,12,44\n",
      "Newspapers,5,4,9,6,6,17,53\n"
     ]
    }
   ],
   "source": [
    "!cat df_0.csv"
   ]
  },
  {
   "cell_type": "code",
   "execution_count": 55,
   "metadata": {
    "pycharm": {
     "name": "#%%\n"
    }
   },
   "outputs": [
    {
     "name": "stdout",
     "output_type": "stream",
     "text": [
      "/Users/worthy/Desktop/PWD/midterm\n"
     ]
    }
   ],
   "source": [
    "cd -"
   ]
  },
  {
   "cell_type": "markdown",
   "metadata": {
    "pycharm": {
     "name": "#%% md\n"
    }
   },
   "source": [
    "The file was successfully created!"
   ]
  },
  {
   "cell_type": "markdown",
   "metadata": {
    "pycharm": {
     "name": "#%% md\n"
    }
   },
   "source": [
    "<hr>"
   ]
  },
  {
   "cell_type": "markdown",
   "metadata": {
    "pycharm": {
     "name": "#%% md\n"
    },
    "tags": []
   },
   "source": [
    "### URL[1] | Popular social platforms"
   ]
  },
  {
   "cell_type": "markdown",
   "metadata": {
    "pycharm": {
     "name": "#%% md\n"
    },
    "tags": []
   },
   "source": [
    "#### Number of Gen Z users in the United States on selected social media platforms from 2020 to 2025  \n",
    "This source records which social media platforms were most popular amongst Generation Z. (The data is in millions).  \n",
    "\n",
    "This was the second dataframe that I had access to from the I account that I had to create. This data was all about what social apps people used the most. This was a good dataset as the study size was huge, adding a greater amount of accuracy. This source was needed to draw a conclusion from the most popular social apps, by concluding why they were the most popular, and what that revealed about Generation Z.\n",
    "\n",
    "I again began by scrapping the data."
   ]
  },
  {
   "cell_type": "markdown",
   "metadata": {
    "pycharm": {
     "name": "#%% md\n"
    }
   },
   "source": [
    "**I set the database equal to the first table instantaneously using the import_df_url() function**"
   ]
  },
  {
   "cell_type": "code",
   "execution_count": 39,
   "metadata": {
    "pycharm": {
     "name": "#%%\n"
    },
    "tags": []
   },
   "outputs": [],
   "source": [
    "df_1 = import_df_url(URL[1], 0)"
   ]
  },
  {
   "cell_type": "code",
   "execution_count": 40,
   "metadata": {
    "pycharm": {
     "name": "#%%\n"
    }
   },
   "outputs": [
    {
     "data": {
      "text/html": [
       "<div>\n",
       "<style scoped>\n",
       "    .dataframe tbody tr th:only-of-type {\n",
       "        vertical-align: middle;\n",
       "    }\n",
       "\n",
       "    .dataframe tbody tr th {\n",
       "        vertical-align: top;\n",
       "    }\n",
       "\n",
       "    .dataframe thead th {\n",
       "        text-align: right;\n",
       "    }\n",
       "</style>\n",
       "<table border=\"1\" class=\"dataframe\">\n",
       "  <thead>\n",
       "    <tr style=\"text-align: right;\">\n",
       "      <th></th>\n",
       "      <th>Characteristic</th>\n",
       "      <th>Snapchat</th>\n",
       "      <th>Instagram</th>\n",
       "      <th>TikTok</th>\n",
       "      <th>Facebook</th>\n",
       "      <th>Pinterest</th>\n",
       "      <th>Twitter</th>\n",
       "      <th>Reddit</th>\n",
       "    </tr>\n",
       "  </thead>\n",
       "  <tbody>\n",
       "    <tr>\n",
       "      <th>0</th>\n",
       "      <td>2025*</td>\n",
       "      <td>49.5</td>\n",
       "      <td>48.3</td>\n",
       "      <td>48.8</td>\n",
       "      <td>40.7</td>\n",
       "      <td>26.1</td>\n",
       "      <td>19.2</td>\n",
       "      <td>17.1</td>\n",
       "    </tr>\n",
       "    <tr>\n",
       "      <th>1</th>\n",
       "      <td>2024*</td>\n",
       "      <td>49.6</td>\n",
       "      <td>45.7</td>\n",
       "      <td>48.2</td>\n",
       "      <td>38.3</td>\n",
       "      <td>25.1</td>\n",
       "      <td>18.8</td>\n",
       "      <td>15.4</td>\n",
       "    </tr>\n",
       "    <tr>\n",
       "      <th>2</th>\n",
       "      <td>2023*</td>\n",
       "      <td>47.0</td>\n",
       "      <td>41.4</td>\n",
       "      <td>45.0</td>\n",
       "      <td>35.0</td>\n",
       "      <td>23.0</td>\n",
       "      <td>17.8</td>\n",
       "      <td>13.6</td>\n",
       "    </tr>\n",
       "    <tr>\n",
       "      <th>3</th>\n",
       "      <td>2022*</td>\n",
       "      <td>44.5</td>\n",
       "      <td>37.3</td>\n",
       "      <td>41.4</td>\n",
       "      <td>31.8</td>\n",
       "      <td>20.9</td>\n",
       "      <td>16.7</td>\n",
       "      <td>11.9</td>\n",
       "    </tr>\n",
       "    <tr>\n",
       "      <th>4</th>\n",
       "      <td>2021*</td>\n",
       "      <td>42.0</td>\n",
       "      <td>33.3</td>\n",
       "      <td>37.3</td>\n",
       "      <td>28.7</td>\n",
       "      <td>18.9</td>\n",
       "      <td>15.8</td>\n",
       "      <td>10.3</td>\n",
       "    </tr>\n",
       "    <tr>\n",
       "      <th>5</th>\n",
       "      <td>2020</td>\n",
       "      <td>38.1</td>\n",
       "      <td>30.0</td>\n",
       "      <td>29.5</td>\n",
       "      <td>26.8</td>\n",
       "      <td>16.7</td>\n",
       "      <td>14.4</td>\n",
       "      <td>8.4</td>\n",
       "    </tr>\n",
       "  </tbody>\n",
       "</table>\n",
       "</div>"
      ],
      "text/plain": [
       "  Characteristic  Snapchat  Instagram  TikTok  Facebook  Pinterest  Twitter  \\\n",
       "0          2025*      49.5       48.3    48.8      40.7       26.1     19.2   \n",
       "1          2024*      49.6       45.7    48.2      38.3       25.1     18.8   \n",
       "2          2023*      47.0       41.4    45.0      35.0       23.0     17.8   \n",
       "3          2022*      44.5       37.3    41.4      31.8       20.9     16.7   \n",
       "4          2021*      42.0       33.3    37.3      28.7       18.9     15.8   \n",
       "5           2020      38.1       30.0    29.5      26.8       16.7     14.4   \n",
       "\n",
       "   Reddit  \n",
       "0    17.1  \n",
       "1    15.4  \n",
       "2    13.6  \n",
       "3    11.9  \n",
       "4    10.3  \n",
       "5     8.4  "
      ]
     },
     "execution_count": 40,
     "metadata": {},
     "output_type": "execute_result"
    }
   ],
   "source": [
    "df_1"
   ]
  },
  {
   "cell_type": "markdown",
   "metadata": {
    "pycharm": {
     "name": "#%% md\n"
    }
   },
   "source": [
    "**I renamed 'Characteristic' to 'Year' to properly represent the column.**"
   ]
  },
  {
   "cell_type": "code",
   "execution_count": 41,
   "metadata": {
    "pycharm": {
     "name": "#%%\n"
    }
   },
   "outputs": [
    {
     "data": {
      "text/html": [
       "<div>\n",
       "<style scoped>\n",
       "    .dataframe tbody tr th:only-of-type {\n",
       "        vertical-align: middle;\n",
       "    }\n",
       "\n",
       "    .dataframe tbody tr th {\n",
       "        vertical-align: top;\n",
       "    }\n",
       "\n",
       "    .dataframe thead th {\n",
       "        text-align: right;\n",
       "    }\n",
       "</style>\n",
       "<table border=\"1\" class=\"dataframe\">\n",
       "  <thead>\n",
       "    <tr style=\"text-align: right;\">\n",
       "      <th></th>\n",
       "      <th>Year</th>\n",
       "      <th>Snapchat</th>\n",
       "      <th>Instagram</th>\n",
       "      <th>TikTok</th>\n",
       "      <th>Facebook</th>\n",
       "      <th>Pinterest</th>\n",
       "      <th>Twitter</th>\n",
       "      <th>Reddit</th>\n",
       "    </tr>\n",
       "  </thead>\n",
       "  <tbody>\n",
       "    <tr>\n",
       "      <th>0</th>\n",
       "      <td>2025*</td>\n",
       "      <td>49.5</td>\n",
       "      <td>48.3</td>\n",
       "      <td>48.8</td>\n",
       "      <td>40.7</td>\n",
       "      <td>26.1</td>\n",
       "      <td>19.2</td>\n",
       "      <td>17.1</td>\n",
       "    </tr>\n",
       "    <tr>\n",
       "      <th>1</th>\n",
       "      <td>2024*</td>\n",
       "      <td>49.6</td>\n",
       "      <td>45.7</td>\n",
       "      <td>48.2</td>\n",
       "      <td>38.3</td>\n",
       "      <td>25.1</td>\n",
       "      <td>18.8</td>\n",
       "      <td>15.4</td>\n",
       "    </tr>\n",
       "    <tr>\n",
       "      <th>2</th>\n",
       "      <td>2023*</td>\n",
       "      <td>47.0</td>\n",
       "      <td>41.4</td>\n",
       "      <td>45.0</td>\n",
       "      <td>35.0</td>\n",
       "      <td>23.0</td>\n",
       "      <td>17.8</td>\n",
       "      <td>13.6</td>\n",
       "    </tr>\n",
       "    <tr>\n",
       "      <th>3</th>\n",
       "      <td>2022*</td>\n",
       "      <td>44.5</td>\n",
       "      <td>37.3</td>\n",
       "      <td>41.4</td>\n",
       "      <td>31.8</td>\n",
       "      <td>20.9</td>\n",
       "      <td>16.7</td>\n",
       "      <td>11.9</td>\n",
       "    </tr>\n",
       "    <tr>\n",
       "      <th>4</th>\n",
       "      <td>2021*</td>\n",
       "      <td>42.0</td>\n",
       "      <td>33.3</td>\n",
       "      <td>37.3</td>\n",
       "      <td>28.7</td>\n",
       "      <td>18.9</td>\n",
       "      <td>15.8</td>\n",
       "      <td>10.3</td>\n",
       "    </tr>\n",
       "    <tr>\n",
       "      <th>5</th>\n",
       "      <td>2020</td>\n",
       "      <td>38.1</td>\n",
       "      <td>30.0</td>\n",
       "      <td>29.5</td>\n",
       "      <td>26.8</td>\n",
       "      <td>16.7</td>\n",
       "      <td>14.4</td>\n",
       "      <td>8.4</td>\n",
       "    </tr>\n",
       "  </tbody>\n",
       "</table>\n",
       "</div>"
      ],
      "text/plain": [
       "    Year  Snapchat  Instagram  TikTok  Facebook  Pinterest  Twitter  Reddit\n",
       "0  2025*      49.5       48.3    48.8      40.7       26.1     19.2    17.1\n",
       "1  2024*      49.6       45.7    48.2      38.3       25.1     18.8    15.4\n",
       "2  2023*      47.0       41.4    45.0      35.0       23.0     17.8    13.6\n",
       "3  2022*      44.5       37.3    41.4      31.8       20.9     16.7    11.9\n",
       "4  2021*      42.0       33.3    37.3      28.7       18.9     15.8    10.3\n",
       "5   2020      38.1       30.0    29.5      26.8       16.7     14.4     8.4"
      ]
     },
     "execution_count": 41,
     "metadata": {},
     "output_type": "execute_result"
    }
   ],
   "source": [
    "df_1 = df_1.rename(columns={'Characteristic': 'Year'})\n",
    "df_1"
   ]
  },
  {
   "cell_type": "markdown",
   "metadata": {
    "pycharm": {
     "name": "#%% md\n"
    }
   },
   "source": [
    "Looking at the data above, I saw that the 'Year' column had some weird data type.  \n",
    "I then ran the following code to learn the type."
   ]
  },
  {
   "cell_type": "code",
   "execution_count": 42,
   "metadata": {
    "pycharm": {
     "name": "#%%\n"
    }
   },
   "outputs": [
    {
     "data": {
      "text/plain": [
       "str"
      ]
     },
     "execution_count": 42,
     "metadata": {},
     "output_type": "execute_result"
    }
   ],
   "source": [
    "type(df_1['Year'][0])"
   ]
  },
  {
   "cell_type": "markdown",
   "metadata": {
    "pycharm": {
     "name": "#%% md\n"
    }
   },
   "source": [
    "The data was in the form of a string, but I wanted it in the form of an integer.  \n",
    "Therefore I ran the following code:"
   ]
  },
  {
   "cell_type": "code",
   "execution_count": 43,
   "metadata": {
    "pycharm": {
     "name": "#%%\n"
    }
   },
   "outputs": [
    {
     "data": {
      "text/html": [
       "<div>\n",
       "<style scoped>\n",
       "    .dataframe tbody tr th:only-of-type {\n",
       "        vertical-align: middle;\n",
       "    }\n",
       "\n",
       "    .dataframe tbody tr th {\n",
       "        vertical-align: top;\n",
       "    }\n",
       "\n",
       "    .dataframe thead th {\n",
       "        text-align: right;\n",
       "    }\n",
       "</style>\n",
       "<table border=\"1\" class=\"dataframe\">\n",
       "  <thead>\n",
       "    <tr style=\"text-align: right;\">\n",
       "      <th></th>\n",
       "      <th>Year</th>\n",
       "      <th>Snapchat</th>\n",
       "      <th>Instagram</th>\n",
       "      <th>TikTok</th>\n",
       "      <th>Facebook</th>\n",
       "      <th>Pinterest</th>\n",
       "      <th>Twitter</th>\n",
       "      <th>Reddit</th>\n",
       "    </tr>\n",
       "  </thead>\n",
       "  <tbody>\n",
       "    <tr>\n",
       "      <th>0</th>\n",
       "      <td>2025</td>\n",
       "      <td>49.5</td>\n",
       "      <td>48.3</td>\n",
       "      <td>48.8</td>\n",
       "      <td>40.7</td>\n",
       "      <td>26.1</td>\n",
       "      <td>19.2</td>\n",
       "      <td>17.1</td>\n",
       "    </tr>\n",
       "    <tr>\n",
       "      <th>1</th>\n",
       "      <td>2024</td>\n",
       "      <td>49.6</td>\n",
       "      <td>45.7</td>\n",
       "      <td>48.2</td>\n",
       "      <td>38.3</td>\n",
       "      <td>25.1</td>\n",
       "      <td>18.8</td>\n",
       "      <td>15.4</td>\n",
       "    </tr>\n",
       "    <tr>\n",
       "      <th>2</th>\n",
       "      <td>2023</td>\n",
       "      <td>47.0</td>\n",
       "      <td>41.4</td>\n",
       "      <td>45.0</td>\n",
       "      <td>35.0</td>\n",
       "      <td>23.0</td>\n",
       "      <td>17.8</td>\n",
       "      <td>13.6</td>\n",
       "    </tr>\n",
       "    <tr>\n",
       "      <th>3</th>\n",
       "      <td>2022</td>\n",
       "      <td>44.5</td>\n",
       "      <td>37.3</td>\n",
       "      <td>41.4</td>\n",
       "      <td>31.8</td>\n",
       "      <td>20.9</td>\n",
       "      <td>16.7</td>\n",
       "      <td>11.9</td>\n",
       "    </tr>\n",
       "    <tr>\n",
       "      <th>4</th>\n",
       "      <td>2021</td>\n",
       "      <td>42.0</td>\n",
       "      <td>33.3</td>\n",
       "      <td>37.3</td>\n",
       "      <td>28.7</td>\n",
       "      <td>18.9</td>\n",
       "      <td>15.8</td>\n",
       "      <td>10.3</td>\n",
       "    </tr>\n",
       "    <tr>\n",
       "      <th>5</th>\n",
       "      <td>2020</td>\n",
       "      <td>38.1</td>\n",
       "      <td>30.0</td>\n",
       "      <td>29.5</td>\n",
       "      <td>26.8</td>\n",
       "      <td>16.7</td>\n",
       "      <td>14.4</td>\n",
       "      <td>8.4</td>\n",
       "    </tr>\n",
       "  </tbody>\n",
       "</table>\n",
       "</div>"
      ],
      "text/plain": [
       "   Year  Snapchat  Instagram  TikTok  Facebook  Pinterest  Twitter  Reddit\n",
       "0  2025      49.5       48.3    48.8      40.7       26.1     19.2    17.1\n",
       "1  2024      49.6       45.7    48.2      38.3       25.1     18.8    15.4\n",
       "2  2023      47.0       41.4    45.0      35.0       23.0     17.8    13.6\n",
       "3  2022      44.5       37.3    41.4      31.8       20.9     16.7    11.9\n",
       "4  2021      42.0       33.3    37.3      28.7       18.9     15.8    10.3\n",
       "5  2020      38.1       30.0    29.5      26.8       16.7     14.4     8.4"
      ]
     },
     "execution_count": 43,
     "metadata": {},
     "output_type": "execute_result"
    }
   ],
   "source": [
    "update_df_1 = pd.DataFrame({'Year': [2025, 2024, 2023, 2022, 2021, 2020]})\n",
    "\n",
    "df_1.update(update_df_1)\n",
    "df_1"
   ]
  },
  {
   "cell_type": "markdown",
   "metadata": {
    "pycharm": {
     "name": "#%% md\n"
    }
   },
   "source": [
    "**I reordered the data so that the year was in ascending order rather than descending order.**"
   ]
  },
  {
   "cell_type": "code",
   "execution_count": 44,
   "metadata": {
    "pycharm": {
     "name": "#%%\n"
    }
   },
   "outputs": [
    {
     "data": {
      "text/html": [
       "<div>\n",
       "<style scoped>\n",
       "    .dataframe tbody tr th:only-of-type {\n",
       "        vertical-align: middle;\n",
       "    }\n",
       "\n",
       "    .dataframe tbody tr th {\n",
       "        vertical-align: top;\n",
       "    }\n",
       "\n",
       "    .dataframe thead th {\n",
       "        text-align: right;\n",
       "    }\n",
       "</style>\n",
       "<table border=\"1\" class=\"dataframe\">\n",
       "  <thead>\n",
       "    <tr style=\"text-align: right;\">\n",
       "      <th></th>\n",
       "      <th>Year</th>\n",
       "      <th>Snapchat</th>\n",
       "      <th>Instagram</th>\n",
       "      <th>TikTok</th>\n",
       "      <th>Facebook</th>\n",
       "      <th>Pinterest</th>\n",
       "      <th>Twitter</th>\n",
       "      <th>Reddit</th>\n",
       "    </tr>\n",
       "  </thead>\n",
       "  <tbody>\n",
       "    <tr>\n",
       "      <th>5</th>\n",
       "      <td>2020</td>\n",
       "      <td>38.1</td>\n",
       "      <td>30.0</td>\n",
       "      <td>29.5</td>\n",
       "      <td>26.8</td>\n",
       "      <td>16.7</td>\n",
       "      <td>14.4</td>\n",
       "      <td>8.4</td>\n",
       "    </tr>\n",
       "    <tr>\n",
       "      <th>4</th>\n",
       "      <td>2021</td>\n",
       "      <td>42.0</td>\n",
       "      <td>33.3</td>\n",
       "      <td>37.3</td>\n",
       "      <td>28.7</td>\n",
       "      <td>18.9</td>\n",
       "      <td>15.8</td>\n",
       "      <td>10.3</td>\n",
       "    </tr>\n",
       "    <tr>\n",
       "      <th>3</th>\n",
       "      <td>2022</td>\n",
       "      <td>44.5</td>\n",
       "      <td>37.3</td>\n",
       "      <td>41.4</td>\n",
       "      <td>31.8</td>\n",
       "      <td>20.9</td>\n",
       "      <td>16.7</td>\n",
       "      <td>11.9</td>\n",
       "    </tr>\n",
       "    <tr>\n",
       "      <th>2</th>\n",
       "      <td>2023</td>\n",
       "      <td>47.0</td>\n",
       "      <td>41.4</td>\n",
       "      <td>45.0</td>\n",
       "      <td>35.0</td>\n",
       "      <td>23.0</td>\n",
       "      <td>17.8</td>\n",
       "      <td>13.6</td>\n",
       "    </tr>\n",
       "    <tr>\n",
       "      <th>1</th>\n",
       "      <td>2024</td>\n",
       "      <td>49.6</td>\n",
       "      <td>45.7</td>\n",
       "      <td>48.2</td>\n",
       "      <td>38.3</td>\n",
       "      <td>25.1</td>\n",
       "      <td>18.8</td>\n",
       "      <td>15.4</td>\n",
       "    </tr>\n",
       "    <tr>\n",
       "      <th>0</th>\n",
       "      <td>2025</td>\n",
       "      <td>49.5</td>\n",
       "      <td>48.3</td>\n",
       "      <td>48.8</td>\n",
       "      <td>40.7</td>\n",
       "      <td>26.1</td>\n",
       "      <td>19.2</td>\n",
       "      <td>17.1</td>\n",
       "    </tr>\n",
       "  </tbody>\n",
       "</table>\n",
       "</div>"
      ],
      "text/plain": [
       "   Year  Snapchat  Instagram  TikTok  Facebook  Pinterest  Twitter  Reddit\n",
       "5  2020      38.1       30.0    29.5      26.8       16.7     14.4     8.4\n",
       "4  2021      42.0       33.3    37.3      28.7       18.9     15.8    10.3\n",
       "3  2022      44.5       37.3    41.4      31.8       20.9     16.7    11.9\n",
       "2  2023      47.0       41.4    45.0      35.0       23.0     17.8    13.6\n",
       "1  2024      49.6       45.7    48.2      38.3       25.1     18.8    15.4\n",
       "0  2025      49.5       48.3    48.8      40.7       26.1     19.2    17.1"
      ]
     },
     "execution_count": 44,
     "metadata": {},
     "output_type": "execute_result"
    }
   ],
   "source": [
    "df_1_reorder = df_1.sort_values('Year', inplace = True)\n",
    "df_1.update(df_1_reorder)\n",
    "df_1"
   ]
  },
  {
   "cell_type": "markdown",
   "metadata": {
    "pycharm": {
     "name": "#%% md\n"
    }
   },
   "source": [
    "**I wrote the table to a csv file**"
   ]
  },
  {
   "cell_type": "code",
   "execution_count": 45,
   "metadata": {
    "pycharm": {
     "name": "#%%\n"
    }
   },
   "outputs": [],
   "source": [
    "# Setting to false stops the index from being written out\n",
    "df_1.to_csv('./data/df_1.csv', index=False)"
   ]
  },
  {
   "cell_type": "markdown",
   "metadata": {
    "pycharm": {
     "name": "#%% md\n"
    }
   },
   "source": [
    "**I read the data to ensure that the changes were successfully met**"
   ]
  },
  {
   "cell_type": "code",
   "execution_count": 46,
   "metadata": {
    "pycharm": {
     "name": "#%%\n"
    }
   },
   "outputs": [],
   "source": [
    "df_1 = pd.read_csv('./data/df_1.csv')"
   ]
  },
  {
   "cell_type": "code",
   "execution_count": 47,
   "metadata": {
    "pycharm": {
     "name": "#%%\n"
    }
   },
   "outputs": [
    {
     "data": {
      "text/html": [
       "<div>\n",
       "<style scoped>\n",
       "    .dataframe tbody tr th:only-of-type {\n",
       "        vertical-align: middle;\n",
       "    }\n",
       "\n",
       "    .dataframe tbody tr th {\n",
       "        vertical-align: top;\n",
       "    }\n",
       "\n",
       "    .dataframe thead th {\n",
       "        text-align: right;\n",
       "    }\n",
       "</style>\n",
       "<table border=\"1\" class=\"dataframe\">\n",
       "  <thead>\n",
       "    <tr style=\"text-align: right;\">\n",
       "      <th></th>\n",
       "      <th>Year</th>\n",
       "      <th>Snapchat</th>\n",
       "      <th>Instagram</th>\n",
       "      <th>TikTok</th>\n",
       "      <th>Facebook</th>\n",
       "      <th>Pinterest</th>\n",
       "      <th>Twitter</th>\n",
       "      <th>Reddit</th>\n",
       "    </tr>\n",
       "  </thead>\n",
       "  <tbody>\n",
       "    <tr>\n",
       "      <th>0</th>\n",
       "      <td>2020</td>\n",
       "      <td>38.1</td>\n",
       "      <td>30.0</td>\n",
       "      <td>29.5</td>\n",
       "      <td>26.8</td>\n",
       "      <td>16.7</td>\n",
       "      <td>14.4</td>\n",
       "      <td>8.4</td>\n",
       "    </tr>\n",
       "    <tr>\n",
       "      <th>1</th>\n",
       "      <td>2021</td>\n",
       "      <td>42.0</td>\n",
       "      <td>33.3</td>\n",
       "      <td>37.3</td>\n",
       "      <td>28.7</td>\n",
       "      <td>18.9</td>\n",
       "      <td>15.8</td>\n",
       "      <td>10.3</td>\n",
       "    </tr>\n",
       "    <tr>\n",
       "      <th>2</th>\n",
       "      <td>2022</td>\n",
       "      <td>44.5</td>\n",
       "      <td>37.3</td>\n",
       "      <td>41.4</td>\n",
       "      <td>31.8</td>\n",
       "      <td>20.9</td>\n",
       "      <td>16.7</td>\n",
       "      <td>11.9</td>\n",
       "    </tr>\n",
       "    <tr>\n",
       "      <th>3</th>\n",
       "      <td>2023</td>\n",
       "      <td>47.0</td>\n",
       "      <td>41.4</td>\n",
       "      <td>45.0</td>\n",
       "      <td>35.0</td>\n",
       "      <td>23.0</td>\n",
       "      <td>17.8</td>\n",
       "      <td>13.6</td>\n",
       "    </tr>\n",
       "    <tr>\n",
       "      <th>4</th>\n",
       "      <td>2024</td>\n",
       "      <td>49.6</td>\n",
       "      <td>45.7</td>\n",
       "      <td>48.2</td>\n",
       "      <td>38.3</td>\n",
       "      <td>25.1</td>\n",
       "      <td>18.8</td>\n",
       "      <td>15.4</td>\n",
       "    </tr>\n",
       "    <tr>\n",
       "      <th>5</th>\n",
       "      <td>2025</td>\n",
       "      <td>49.5</td>\n",
       "      <td>48.3</td>\n",
       "      <td>48.8</td>\n",
       "      <td>40.7</td>\n",
       "      <td>26.1</td>\n",
       "      <td>19.2</td>\n",
       "      <td>17.1</td>\n",
       "    </tr>\n",
       "  </tbody>\n",
       "</table>\n",
       "</div>"
      ],
      "text/plain": [
       "   Year  Snapchat  Instagram  TikTok  Facebook  Pinterest  Twitter  Reddit\n",
       "0  2020      38.1       30.0    29.5      26.8       16.7     14.4     8.4\n",
       "1  2021      42.0       33.3    37.3      28.7       18.9     15.8    10.3\n",
       "2  2022      44.5       37.3    41.4      31.8       20.9     16.7    11.9\n",
       "3  2023      47.0       41.4    45.0      35.0       23.0     17.8    13.6\n",
       "4  2024      49.6       45.7    48.2      38.3       25.1     18.8    15.4\n",
       "5  2025      49.5       48.3    48.8      40.7       26.1     19.2    17.1"
      ]
     },
     "execution_count": 47,
     "metadata": {},
     "output_type": "execute_result"
    }
   ],
   "source": [
    "df_1"
   ]
  },
  {
   "cell_type": "markdown",
   "metadata": {
    "pycharm": {
     "name": "#%% md\n"
    }
   },
   "source": [
    "<hr>"
   ]
  },
  {
   "cell_type": "markdown",
   "metadata": {
    "pycharm": {
     "name": "#%% md\n"
    },
    "tags": []
   },
   "source": [
    "### URL[2] | Online activities"
   ]
  },
  {
   "cell_type": "markdown",
   "metadata": {
    "pycharm": {
     "name": "#%% md\n"
    },
    "tags": []
   },
   "source": [
    "#### Activities performed online by Generation Z in Great Britain in 2020\n",
    "This source records the activities carried out online by Generation Z. It was drawn from a survey conducted in 2020. This was the final dataset I had access to from the source I had to login to access.\n",
    "\n",
    "I felt as though I wasn't able to draw the strongest conclusion from this data, as it was really ambigious. However, I go into more detail on this later.  \n",
    "\n",
    "**I first began by using my created function to scrap the data.**"
   ]
  },
  {
   "cell_type": "code",
   "execution_count": 50,
   "metadata": {
    "pycharm": {
     "name": "#%%\n"
    },
    "tags": []
   },
   "outputs": [
    {
     "data": {
      "text/html": [
       "<div>\n",
       "<style scoped>\n",
       "    .dataframe tbody tr th:only-of-type {\n",
       "        vertical-align: middle;\n",
       "    }\n",
       "\n",
       "    .dataframe tbody tr th {\n",
       "        vertical-align: top;\n",
       "    }\n",
       "\n",
       "    .dataframe thead th {\n",
       "        text-align: right;\n",
       "    }\n",
       "</style>\n",
       "<table border=\"1\" class=\"dataframe\">\n",
       "  <thead>\n",
       "    <tr style=\"text-align: right;\">\n",
       "      <th></th>\n",
       "      <th>Characteristic</th>\n",
       "      <th>Share of respondents</th>\n",
       "    </tr>\n",
       "  </thead>\n",
       "  <tbody>\n",
       "    <tr>\n",
       "      <th>0</th>\n",
       "      <td>Social networking</td>\n",
       "      <td>97%</td>\n",
       "    </tr>\n",
       "    <tr>\n",
       "      <th>1</th>\n",
       "      <td>Using instant messaging services</td>\n",
       "      <td>92%</td>\n",
       "    </tr>\n",
       "    <tr>\n",
       "      <th>2</th>\n",
       "      <td>Listening to/downloading music</td>\n",
       "      <td>93%</td>\n",
       "    </tr>\n",
       "    <tr>\n",
       "      <th>3</th>\n",
       "      <td>Sending/receiving emails</td>\n",
       "      <td>94%</td>\n",
       "    </tr>\n",
       "    <tr>\n",
       "      <th>4</th>\n",
       "      <td>Internet banking</td>\n",
       "      <td>90%</td>\n",
       "    </tr>\n",
       "    <tr>\n",
       "      <th>5</th>\n",
       "      <td>Finding information about goods and services</td>\n",
       "      <td>84%</td>\n",
       "    </tr>\n",
       "    <tr>\n",
       "      <th>6</th>\n",
       "      <td>Reading online news, newspapers or magazines</td>\n",
       "      <td>78%</td>\n",
       "    </tr>\n",
       "    <tr>\n",
       "      <th>7</th>\n",
       "      <td>Making video or voice calls over the internet</td>\n",
       "      <td>70%</td>\n",
       "    </tr>\n",
       "    <tr>\n",
       "      <th>8</th>\n",
       "      <td>Uploading content created by you to a website ...</td>\n",
       "      <td>56%</td>\n",
       "    </tr>\n",
       "    <tr>\n",
       "      <th>9</th>\n",
       "      <td>Selling goods or services over the internet</td>\n",
       "      <td>22%</td>\n",
       "    </tr>\n",
       "    <tr>\n",
       "      <th>10</th>\n",
       "      <td>Watching video content from services such as Y...</td>\n",
       "      <td>95%</td>\n",
       "    </tr>\n",
       "  </tbody>\n",
       "</table>\n",
       "</div>"
      ],
      "text/plain": [
       "                                       Characteristic Share of respondents\n",
       "0                                   Social networking                  97%\n",
       "1                    Using instant messaging services                  92%\n",
       "2                      Listening to/downloading music                  93%\n",
       "3                            Sending/receiving emails                  94%\n",
       "4                                    Internet banking                  90%\n",
       "5        Finding information about goods and services                  84%\n",
       "6        Reading online news, newspapers or magazines                  78%\n",
       "7       Making video or voice calls over the internet                  70%\n",
       "8   Uploading content created by you to a website ...                  56%\n",
       "9         Selling goods or services over the internet                  22%\n",
       "10  Watching video content from services such as Y...                  95%"
      ]
     },
     "execution_count": 50,
     "metadata": {},
     "output_type": "execute_result"
    }
   ],
   "source": [
    "df_2 = import_df_url(URL[2], 0)\n",
    "df_2"
   ]
  },
  {
   "cell_type": "markdown",
   "metadata": {
    "pycharm": {
     "name": "#%% md\n"
    }
   },
   "source": [
    "**I renamed 'Characteristic' to 'Activity' to properly represent the column.**"
   ]
  },
  {
   "cell_type": "code",
   "execution_count": 51,
   "metadata": {
    "pycharm": {
     "name": "#%%\n"
    }
   },
   "outputs": [
    {
     "data": {
      "text/html": [
       "<div>\n",
       "<style scoped>\n",
       "    .dataframe tbody tr th:only-of-type {\n",
       "        vertical-align: middle;\n",
       "    }\n",
       "\n",
       "    .dataframe tbody tr th {\n",
       "        vertical-align: top;\n",
       "    }\n",
       "\n",
       "    .dataframe thead th {\n",
       "        text-align: right;\n",
       "    }\n",
       "</style>\n",
       "<table border=\"1\" class=\"dataframe\">\n",
       "  <thead>\n",
       "    <tr style=\"text-align: right;\">\n",
       "      <th></th>\n",
       "      <th>Activity</th>\n",
       "      <th>Share of respondents</th>\n",
       "    </tr>\n",
       "  </thead>\n",
       "  <tbody>\n",
       "    <tr>\n",
       "      <th>0</th>\n",
       "      <td>Social networking</td>\n",
       "      <td>97%</td>\n",
       "    </tr>\n",
       "    <tr>\n",
       "      <th>1</th>\n",
       "      <td>Using instant messaging services</td>\n",
       "      <td>92%</td>\n",
       "    </tr>\n",
       "    <tr>\n",
       "      <th>2</th>\n",
       "      <td>Listening to/downloading music</td>\n",
       "      <td>93%</td>\n",
       "    </tr>\n",
       "    <tr>\n",
       "      <th>3</th>\n",
       "      <td>Sending/receiving emails</td>\n",
       "      <td>94%</td>\n",
       "    </tr>\n",
       "    <tr>\n",
       "      <th>4</th>\n",
       "      <td>Internet banking</td>\n",
       "      <td>90%</td>\n",
       "    </tr>\n",
       "    <tr>\n",
       "      <th>5</th>\n",
       "      <td>Finding information about goods and services</td>\n",
       "      <td>84%</td>\n",
       "    </tr>\n",
       "    <tr>\n",
       "      <th>6</th>\n",
       "      <td>Reading online news, newspapers or magazines</td>\n",
       "      <td>78%</td>\n",
       "    </tr>\n",
       "    <tr>\n",
       "      <th>7</th>\n",
       "      <td>Making video or voice calls over the internet</td>\n",
       "      <td>70%</td>\n",
       "    </tr>\n",
       "    <tr>\n",
       "      <th>8</th>\n",
       "      <td>Uploading content created by you to a website ...</td>\n",
       "      <td>56%</td>\n",
       "    </tr>\n",
       "    <tr>\n",
       "      <th>9</th>\n",
       "      <td>Selling goods or services over the internet</td>\n",
       "      <td>22%</td>\n",
       "    </tr>\n",
       "    <tr>\n",
       "      <th>10</th>\n",
       "      <td>Watching video content from services such as Y...</td>\n",
       "      <td>95%</td>\n",
       "    </tr>\n",
       "  </tbody>\n",
       "</table>\n",
       "</div>"
      ],
      "text/plain": [
       "                                             Activity Share of respondents\n",
       "0                                   Social networking                  97%\n",
       "1                    Using instant messaging services                  92%\n",
       "2                      Listening to/downloading music                  93%\n",
       "3                            Sending/receiving emails                  94%\n",
       "4                                    Internet banking                  90%\n",
       "5        Finding information about goods and services                  84%\n",
       "6        Reading online news, newspapers or magazines                  78%\n",
       "7       Making video or voice calls over the internet                  70%\n",
       "8   Uploading content created by you to a website ...                  56%\n",
       "9         Selling goods or services over the internet                  22%\n",
       "10  Watching video content from services such as Y...                  95%"
      ]
     },
     "execution_count": 51,
     "metadata": {},
     "output_type": "execute_result"
    }
   ],
   "source": [
    "df_2 = df_2.rename(columns={'Characteristic': 'Activity'})\n",
    "df_2"
   ]
  },
  {
   "cell_type": "markdown",
   "metadata": {
    "pycharm": {
     "name": "#%% md\n"
    }
   },
   "source": [
    "I wanted to create 2 more columns in the above dataframe (I also removed one). I wanted the float version of the percentages, as I believed that I can work more with floats. I also wanted a new column for the percentages where the values are not strings but integers, so that I could work with the data."
   ]
  },
  {
   "cell_type": "markdown",
   "metadata": {
    "pycharm": {
     "name": "#%% md\n"
    }
   },
   "source": [
    "**First I created the values that would go in the columns.**"
   ]
  },
  {
   "cell_type": "markdown",
   "metadata": {
    "pycharm": {
     "name": "#%% md\n"
    }
   },
   "source": [
    "I utilised the **remove_characters()** function for this."
   ]
  },
  {
   "cell_type": "code",
   "execution_count": 52,
   "metadata": {
    "pycharm": {
     "name": "#%%\n"
    }
   },
   "outputs": [
    {
     "name": "stdout",
     "output_type": "stream",
     "text": [
      "Percentages  = [97, 92, 93, 94, 90, 84, 78, 70, 56, 22, 95]\n",
      "Floats       = [0.97, 0.92, 0.93, 0.94, 0.9, 0.84, 0.78, 0.7, 0.56, 0.22, 0.95]\n"
     ]
    }
   ],
   "source": [
    "# sor stands for share of respondents\n",
    "sor_percentage = remove_characters(df_2['Share of respondents'], '%')\n",
    "sor_float = []\n",
    "\n",
    "for i in range(0, len(sor_percentage)):\n",
    "    sor_float.append(float(format(sor_percentage[i]/100, '.2f')))\n",
    "\n",
    "print(\"Percentages  =\", sor_percentage)\n",
    "print(\"Floats       =\", sor_float)"
   ]
  },
  {
   "cell_type": "markdown",
   "metadata": {
    "pycharm": {
     "name": "#%% md\n"
    }
   },
   "source": [
    "**I then removed the 'Share of respondents' column.**"
   ]
  },
  {
   "cell_type": "markdown",
   "metadata": {
    "pycharm": {
     "name": "#%% md\n"
    }
   },
   "source": [
    "I utilised the **delete_columns()** function for this."
   ]
  },
  {
   "cell_type": "code",
   "execution_count": 53,
   "metadata": {
    "pycharm": {
     "name": "#%%\n"
    }
   },
   "outputs": [
    {
     "data": {
      "text/html": [
       "<div>\n",
       "<style scoped>\n",
       "    .dataframe tbody tr th:only-of-type {\n",
       "        vertical-align: middle;\n",
       "    }\n",
       "\n",
       "    .dataframe tbody tr th {\n",
       "        vertical-align: top;\n",
       "    }\n",
       "\n",
       "    .dataframe thead th {\n",
       "        text-align: right;\n",
       "    }\n",
       "</style>\n",
       "<table border=\"1\" class=\"dataframe\">\n",
       "  <thead>\n",
       "    <tr style=\"text-align: right;\">\n",
       "      <th></th>\n",
       "      <th>Activity</th>\n",
       "    </tr>\n",
       "  </thead>\n",
       "  <tbody>\n",
       "    <tr>\n",
       "      <th>0</th>\n",
       "      <td>Social networking</td>\n",
       "    </tr>\n",
       "    <tr>\n",
       "      <th>1</th>\n",
       "      <td>Using instant messaging services</td>\n",
       "    </tr>\n",
       "    <tr>\n",
       "      <th>2</th>\n",
       "      <td>Listening to/downloading music</td>\n",
       "    </tr>\n",
       "    <tr>\n",
       "      <th>3</th>\n",
       "      <td>Sending/receiving emails</td>\n",
       "    </tr>\n",
       "    <tr>\n",
       "      <th>4</th>\n",
       "      <td>Internet banking</td>\n",
       "    </tr>\n",
       "    <tr>\n",
       "      <th>5</th>\n",
       "      <td>Finding information about goods and services</td>\n",
       "    </tr>\n",
       "    <tr>\n",
       "      <th>6</th>\n",
       "      <td>Reading online news, newspapers or magazines</td>\n",
       "    </tr>\n",
       "    <tr>\n",
       "      <th>7</th>\n",
       "      <td>Making video or voice calls over the internet</td>\n",
       "    </tr>\n",
       "    <tr>\n",
       "      <th>8</th>\n",
       "      <td>Uploading content created by you to a website ...</td>\n",
       "    </tr>\n",
       "    <tr>\n",
       "      <th>9</th>\n",
       "      <td>Selling goods or services over the internet</td>\n",
       "    </tr>\n",
       "    <tr>\n",
       "      <th>10</th>\n",
       "      <td>Watching video content from services such as Y...</td>\n",
       "    </tr>\n",
       "  </tbody>\n",
       "</table>\n",
       "</div>"
      ],
      "text/plain": [
       "                                             Activity\n",
       "0                                   Social networking\n",
       "1                    Using instant messaging services\n",
       "2                      Listening to/downloading music\n",
       "3                            Sending/receiving emails\n",
       "4                                    Internet banking\n",
       "5        Finding information about goods and services\n",
       "6        Reading online news, newspapers or magazines\n",
       "7       Making video or voice calls over the internet\n",
       "8   Uploading content created by you to a website ...\n",
       "9         Selling goods or services over the internet\n",
       "10  Watching video content from services such as Y..."
      ]
     },
     "execution_count": 53,
     "metadata": {},
     "output_type": "execute_result"
    }
   ],
   "source": [
    "delete_columns('Share of respondents', df_2)\n",
    "df_2"
   ]
  },
  {
   "cell_type": "markdown",
   "metadata": {
    "pycharm": {
     "name": "#%% md\n"
    }
   },
   "source": [
    "**I then created the two new columns.**"
   ]
  },
  {
   "cell_type": "markdown",
   "metadata": {
    "pycharm": {
     "name": "#%% md\n"
    }
   },
   "source": [
    "I utilised the **insert_columns()** function for this."
   ]
  },
  {
   "cell_type": "code",
   "execution_count": 54,
   "metadata": {
    "pycharm": {
     "name": "#%%\n"
    }
   },
   "outputs": [
    {
     "data": {
      "text/html": [
       "<div>\n",
       "<style scoped>\n",
       "    .dataframe tbody tr th:only-of-type {\n",
       "        vertical-align: middle;\n",
       "    }\n",
       "\n",
       "    .dataframe tbody tr th {\n",
       "        vertical-align: top;\n",
       "    }\n",
       "\n",
       "    .dataframe thead th {\n",
       "        text-align: right;\n",
       "    }\n",
       "</style>\n",
       "<table border=\"1\" class=\"dataframe\">\n",
       "  <thead>\n",
       "    <tr style=\"text-align: right;\">\n",
       "      <th></th>\n",
       "      <th>Activity</th>\n",
       "      <th>Share of respondents (f)</th>\n",
       "      <th>Share of respondents (%)</th>\n",
       "    </tr>\n",
       "  </thead>\n",
       "  <tbody>\n",
       "    <tr>\n",
       "      <th>0</th>\n",
       "      <td>Social networking</td>\n",
       "      <td>0.97</td>\n",
       "      <td>97</td>\n",
       "    </tr>\n",
       "    <tr>\n",
       "      <th>1</th>\n",
       "      <td>Using instant messaging services</td>\n",
       "      <td>0.92</td>\n",
       "      <td>92</td>\n",
       "    </tr>\n",
       "    <tr>\n",
       "      <th>2</th>\n",
       "      <td>Listening to/downloading music</td>\n",
       "      <td>0.93</td>\n",
       "      <td>93</td>\n",
       "    </tr>\n",
       "    <tr>\n",
       "      <th>3</th>\n",
       "      <td>Sending/receiving emails</td>\n",
       "      <td>0.94</td>\n",
       "      <td>94</td>\n",
       "    </tr>\n",
       "    <tr>\n",
       "      <th>4</th>\n",
       "      <td>Internet banking</td>\n",
       "      <td>0.90</td>\n",
       "      <td>90</td>\n",
       "    </tr>\n",
       "    <tr>\n",
       "      <th>5</th>\n",
       "      <td>Finding information about goods and services</td>\n",
       "      <td>0.84</td>\n",
       "      <td>84</td>\n",
       "    </tr>\n",
       "    <tr>\n",
       "      <th>6</th>\n",
       "      <td>Reading online news, newspapers or magazines</td>\n",
       "      <td>0.78</td>\n",
       "      <td>78</td>\n",
       "    </tr>\n",
       "    <tr>\n",
       "      <th>7</th>\n",
       "      <td>Making video or voice calls over the internet</td>\n",
       "      <td>0.70</td>\n",
       "      <td>70</td>\n",
       "    </tr>\n",
       "    <tr>\n",
       "      <th>8</th>\n",
       "      <td>Uploading content created by you to a website ...</td>\n",
       "      <td>0.56</td>\n",
       "      <td>56</td>\n",
       "    </tr>\n",
       "    <tr>\n",
       "      <th>9</th>\n",
       "      <td>Selling goods or services over the internet</td>\n",
       "      <td>0.22</td>\n",
       "      <td>22</td>\n",
       "    </tr>\n",
       "    <tr>\n",
       "      <th>10</th>\n",
       "      <td>Watching video content from services such as Y...</td>\n",
       "      <td>0.95</td>\n",
       "      <td>95</td>\n",
       "    </tr>\n",
       "  </tbody>\n",
       "</table>\n",
       "</div>"
      ],
      "text/plain": [
       "                                             Activity  \\\n",
       "0                                   Social networking   \n",
       "1                    Using instant messaging services   \n",
       "2                      Listening to/downloading music   \n",
       "3                            Sending/receiving emails   \n",
       "4                                    Internet banking   \n",
       "5        Finding information about goods and services   \n",
       "6        Reading online news, newspapers or magazines   \n",
       "7       Making video or voice calls over the internet   \n",
       "8   Uploading content created by you to a website ...   \n",
       "9         Selling goods or services over the internet   \n",
       "10  Watching video content from services such as Y...   \n",
       "\n",
       "    Share of respondents (f)  Share of respondents (%)  \n",
       "0                       0.97                        97  \n",
       "1                       0.92                        92  \n",
       "2                       0.93                        93  \n",
       "3                       0.94                        94  \n",
       "4                       0.90                        90  \n",
       "5                       0.84                        84  \n",
       "6                       0.78                        78  \n",
       "7                       0.70                        70  \n",
       "8                       0.56                        56  \n",
       "9                       0.22                        22  \n",
       "10                      0.95                        95  "
      ]
     },
     "execution_count": 54,
     "metadata": {},
     "output_type": "execute_result"
    }
   ],
   "source": [
    "insert_columns(1, \"Share of respondents (f)\", sor_float, df_2)\n",
    "insert_columns(2, \"Share of respondents (%)\", sor_percentage, df_2)\n",
    "df_2"
   ]
  },
  {
   "cell_type": "markdown",
   "metadata": {
    "pycharm": {
     "name": "#%% md\n"
    }
   },
   "source": [
    "**I wrote the table to a csv file**"
   ]
  },
  {
   "cell_type": "code",
   "execution_count": 55,
   "metadata": {
    "pycharm": {
     "name": "#%%\n"
    }
   },
   "outputs": [],
   "source": [
    "# Setting to false stops the index from being written out\n",
    "df_2.to_csv('./data/df_2.csv', index=False)"
   ]
  },
  {
   "cell_type": "markdown",
   "metadata": {
    "pycharm": {
     "name": "#%% md\n"
    }
   },
   "source": [
    "**I read the data to ensure that the changes were successfully met**"
   ]
  },
  {
   "cell_type": "code",
   "execution_count": 56,
   "metadata": {
    "pycharm": {
     "name": "#%%\n"
    }
   },
   "outputs": [],
   "source": [
    "df_2 = pd.read_csv('./data/df_2.csv')"
   ]
  },
  {
   "cell_type": "code",
   "execution_count": 57,
   "metadata": {
    "pycharm": {
     "name": "#%%\n"
    }
   },
   "outputs": [
    {
     "data": {
      "text/html": [
       "<div>\n",
       "<style scoped>\n",
       "    .dataframe tbody tr th:only-of-type {\n",
       "        vertical-align: middle;\n",
       "    }\n",
       "\n",
       "    .dataframe tbody tr th {\n",
       "        vertical-align: top;\n",
       "    }\n",
       "\n",
       "    .dataframe thead th {\n",
       "        text-align: right;\n",
       "    }\n",
       "</style>\n",
       "<table border=\"1\" class=\"dataframe\">\n",
       "  <thead>\n",
       "    <tr style=\"text-align: right;\">\n",
       "      <th></th>\n",
       "      <th>Activity</th>\n",
       "      <th>Share of respondents (f)</th>\n",
       "      <th>Share of respondents (%)</th>\n",
       "    </tr>\n",
       "  </thead>\n",
       "  <tbody>\n",
       "    <tr>\n",
       "      <th>0</th>\n",
       "      <td>Social networking</td>\n",
       "      <td>0.97</td>\n",
       "      <td>97</td>\n",
       "    </tr>\n",
       "    <tr>\n",
       "      <th>1</th>\n",
       "      <td>Using instant messaging services</td>\n",
       "      <td>0.92</td>\n",
       "      <td>92</td>\n",
       "    </tr>\n",
       "    <tr>\n",
       "      <th>2</th>\n",
       "      <td>Listening to/downloading music</td>\n",
       "      <td>0.93</td>\n",
       "      <td>93</td>\n",
       "    </tr>\n",
       "    <tr>\n",
       "      <th>3</th>\n",
       "      <td>Sending/receiving emails</td>\n",
       "      <td>0.94</td>\n",
       "      <td>94</td>\n",
       "    </tr>\n",
       "    <tr>\n",
       "      <th>4</th>\n",
       "      <td>Internet banking</td>\n",
       "      <td>0.90</td>\n",
       "      <td>90</td>\n",
       "    </tr>\n",
       "    <tr>\n",
       "      <th>5</th>\n",
       "      <td>Finding information about goods and services</td>\n",
       "      <td>0.84</td>\n",
       "      <td>84</td>\n",
       "    </tr>\n",
       "    <tr>\n",
       "      <th>6</th>\n",
       "      <td>Reading online news, newspapers or magazines</td>\n",
       "      <td>0.78</td>\n",
       "      <td>78</td>\n",
       "    </tr>\n",
       "    <tr>\n",
       "      <th>7</th>\n",
       "      <td>Making video or voice calls over the internet</td>\n",
       "      <td>0.70</td>\n",
       "      <td>70</td>\n",
       "    </tr>\n",
       "    <tr>\n",
       "      <th>8</th>\n",
       "      <td>Uploading content created by you to a website ...</td>\n",
       "      <td>0.56</td>\n",
       "      <td>56</td>\n",
       "    </tr>\n",
       "    <tr>\n",
       "      <th>9</th>\n",
       "      <td>Selling goods or services over the internet</td>\n",
       "      <td>0.22</td>\n",
       "      <td>22</td>\n",
       "    </tr>\n",
       "    <tr>\n",
       "      <th>10</th>\n",
       "      <td>Watching video content from services such as Y...</td>\n",
       "      <td>0.95</td>\n",
       "      <td>95</td>\n",
       "    </tr>\n",
       "  </tbody>\n",
       "</table>\n",
       "</div>"
      ],
      "text/plain": [
       "                                             Activity  \\\n",
       "0                                   Social networking   \n",
       "1                    Using instant messaging services   \n",
       "2                      Listening to/downloading music   \n",
       "3                            Sending/receiving emails   \n",
       "4                                    Internet banking   \n",
       "5        Finding information about goods and services   \n",
       "6        Reading online news, newspapers or magazines   \n",
       "7       Making video or voice calls over the internet   \n",
       "8   Uploading content created by you to a website ...   \n",
       "9         Selling goods or services over the internet   \n",
       "10  Watching video content from services such as Y...   \n",
       "\n",
       "    Share of respondents (f)  Share of respondents (%)  \n",
       "0                       0.97                        97  \n",
       "1                       0.92                        92  \n",
       "2                       0.93                        93  \n",
       "3                       0.94                        94  \n",
       "4                       0.90                        90  \n",
       "5                       0.84                        84  \n",
       "6                       0.78                        78  \n",
       "7                       0.70                        70  \n",
       "8                       0.56                        56  \n",
       "9                       0.22                        22  \n",
       "10                      0.95                        95  "
      ]
     },
     "execution_count": 57,
     "metadata": {},
     "output_type": "execute_result"
    }
   ],
   "source": [
    "df_2"
   ]
  },
  {
   "cell_type": "markdown",
   "metadata": {
    "pycharm": {
     "name": "#%% md\n"
    }
   },
   "source": [
    "<hr>"
   ]
  },
  {
   "cell_type": "markdown",
   "metadata": {
    "pycharm": {
     "name": "#%% md\n"
    },
    "tags": []
   },
   "source": [
    "### URL[6] | Social media and body dysmorphia  \n",
    "This source was very helpful, however it required a lot sanitisation. I was able to create 4 dataframes from this one dataset."
   ]
  },
  {
   "cell_type": "markdown",
   "metadata": {
    "pycharm": {
     "name": "#%% md\n"
    },
    "tags": []
   },
   "source": [
    "#### The link between social media and body dysmorphia"
   ]
  },
  {
   "cell_type": "markdown",
   "metadata": {
    "pycharm": {
     "name": "#%% md\n"
    }
   },
   "source": [
    "I began by scrapping the data the traditional way, so that I could get a look at it as a whole."
   ]
  },
  {
   "cell_type": "code",
   "execution_count": 62,
   "metadata": {
    "collapsed": true,
    "jupyter": {
     "outputs_hidden": true
    },
    "pycharm": {
     "name": "#%%\n"
    },
    "tags": []
   },
   "outputs": [
    {
     "data": {
      "text/plain": [
       "[                                   Drive for Thinness Always(=3) Usually(=2)  \\\n",
       " 0   1—I eat sweets and carbohydrates without feeli...          □           □   \n",
       " 1                             2—I think about dieting          □           □   \n",
       " 2          3—I feel extremely guilty after overeating          □           □   \n",
       " 3                  4—I am terrified of gaining weight          □           □   \n",
       " 4   5—I exaggerate or magnify the importance of we...          □           □   \n",
       " 5    6—I am preoccupied with the desire to be thinner          □           □   \n",
       " 6   7—If I gain a pound, I worry that I will keep ...          □           □   \n",
       " 7                                Body Dissatisfaction     Always     Usually   \n",
       " 8            1—I think that my stomach is too big (+)          □           □   \n",
       " 9          2—I think that my thighs are too large (+)          □           □   \n",
       " 10  3—I think that my stomach is just the right si...          □           □   \n",
       " 11   4—I feel satisfied with the shape of my body (−)          □           □   \n",
       " 12              5—I like the shape of my buttocks (−)          □           □   \n",
       " 13                  6—I think my hips are too big (+)          □           □   \n",
       " 14  7—I think that my thighs are just the right si...          □           □   \n",
       " 15            8—I think my buttocks are too large (+)          □           □   \n",
       " 16  9—I think that my hips are just the right size...          □           □   \n",
       " \n",
       "    Often(=1) Sometimes(=0) Seldom(=0) Never(=0)  \n",
       " 0          □             □          □         □  \n",
       " 1          □             □          □         □  \n",
       " 2          □             □          □         □  \n",
       " 3          □             □          □         □  \n",
       " 4          □             □          □         □  \n",
       " 5          □             □          □         □  \n",
       " 6          □             □          □         □  \n",
       " 7      Often     Sometimes     Seldom     Never  \n",
       " 8          □             □          □         □  \n",
       " 9          □             □          □         □  \n",
       " 10         □             □          □         □  \n",
       " 11         □             □          □         □  \n",
       " 12         □             □          □         □  \n",
       " 13         □             □          □         □  \n",
       " 14         □             □          □         □  \n",
       " 15         □             □          □         □  \n",
       " 16         □             □          □         □  ,\n",
       "                                           Unnamed: 0 Yes No\n",
       " 0  1—Do you make yourself sick because you feel u...   □  □\n",
       " 1  2—Do you worry you have lost control over how ...   □  □\n",
       " 2  3—Have you recently lost over 1 stone (14 lb) ...   □  □\n",
       " 3  4—Do you believe yourself to be fat when other...   □  □\n",
       " 4     5—Would you say that food dominates your life?   □  □,\n",
       "                           Unnamed: 0         Final Sample (n = 1331)  \\\n",
       " 0                                NaN  Mean or Number of Participants   \n",
       " 1   SOCIODEMOGRAPHIC CHARACTERISTICS                             NaN   \n",
       " 2                                Age                            24.2   \n",
       " 3                                NaN                             NaN   \n",
       " 4                                Sex                             NaN   \n",
       " 5                             Female                            1300   \n",
       " 6                               Male                              31   \n",
       " 7                      Studies level                             NaN   \n",
       " 8                 Less than Level 12                              71   \n",
       " 9                           Level 12                             229   \n",
       " 10                Level 12 + 2 years                             208   \n",
       " 11  Level 12 + 3 (Bachelor’s degree)                             320   \n",
       " 12    Level 12 + 5 (Master’s degree)                             380   \n",
       " 13          Degree over Level 12 + 5                             123   \n",
       " 14                  SOCIAL MEDIA USE                             NaN   \n",
       " 15                         Frequency                             NaN   \n",
       " 16                   Max. once a day                              64   \n",
       " 17               2 to 10 times a day                             578   \n",
       " 18              10 to 20 times a day                             439   \n",
       " 19               Over 20 times a day                             250   \n",
       " 20                        Time spent                             NaN   \n",
       " 21                     Less than 1 h                             232   \n",
       " 22                 Between 1 and 5 h                            1048   \n",
       " 23                          Over 5 h                              51   \n",
       " 24                   Body comparison                             NaN   \n",
       " 25                             Never                              33   \n",
       " 26                            Seldom                             114   \n",
       " 27                         Sometimes                             317   \n",
       " 28                             Often                             523   \n",
       " 29                            Always                             344   \n",
       " 30                   Posting selfies                             NaN   \n",
       " 31                             Never                             457   \n",
       " 32              1 or 2 times a month                             756   \n",
       " 33                       Once a week                              93   \n",
       " 34               3 to 4 times a week                              18   \n",
       " 35                             Daily                               7   \n",
       " 36                  EATING DISORDERS                             NaN   \n",
       " 37                            EDI-BD                            12.4   \n",
       " 38                               NaN                             NaN   \n",
       " 39                            EDI-DT                             8.9   \n",
       " 40                               NaN                             NaN   \n",
       " 41                       Average BMI                            22.3   \n",
       " 42                               NaN                             NaN   \n",
       " 43                 Categories of BMI                             NaN   \n",
       " 44                             <17.5                              96   \n",
       " 45                         [17.5–25]                             981   \n",
       " 46                               ≥25                             254   \n",
       " \n",
       "            Final Sample (n = 1331).1                SCOFF− (n = 378)  \\\n",
       " 0   Standard Deviation or Percentage  Mean or Number of Participants   \n",
       " 1                                NaN                             NaN   \n",
       " 2                                4.2                            25.1   \n",
       " 3                                NaN                             NaN   \n",
       " 4                                NaN                             NaN   \n",
       " 5                              97.7%                             363   \n",
       " 6                               2.3%                              15   \n",
       " 7                                NaN                             NaN   \n",
       " 8                               5.3%                              16   \n",
       " 9                              17.2%                              62   \n",
       " 10                             15.6%                              50   \n",
       " 11                             24.0%                              89   \n",
       " 12                             0.285                              96   \n",
       " 13                             0.092                              65   \n",
       " 14                               NaN                             NaN   \n",
       " 15                               NaN                             NaN   \n",
       " 16                                5%                              17   \n",
       " 17                               43%                             194   \n",
       " 18                               33%                             115   \n",
       " 19                               19%                              52   \n",
       " 20                               NaN                             NaN   \n",
       " 21                               17%                              81   \n",
       " 22                               79%                             289   \n",
       " 23                                4%                               8   \n",
       " 24                               NaN                             NaN   \n",
       " 25                                2%                              18   \n",
       " 26                                9%                              56   \n",
       " 27                               24%                             130   \n",
       " 28                               39%                             133   \n",
       " 29                               26%                              41   \n",
       " 30                               NaN                             NaN   \n",
       " 31                               34%                             146   \n",
       " 32                               57%                             199   \n",
       " 33                                7%                              24   \n",
       " 34                                1%                               7   \n",
       " 35                                1%                               2   \n",
       " 36                               NaN                             NaN   \n",
       " 37                               7.5                             7.9   \n",
       " 38                               NaN                             NaN   \n",
       " 39                                 6                             4.1   \n",
       " 40                               NaN                             NaN   \n",
       " 41                               4.2                            22.2   \n",
       " 42                               NaN                             NaN   \n",
       " 43                               NaN                             NaN   \n",
       " 44                              7.2%                               9   \n",
       " 45                             73.7%                             306   \n",
       " 46                             19.1%                              63   \n",
       " \n",
       "                   SCOFF− (n = 378).1                SCOFF+ (n = 953)  \\\n",
       " 0   Standard Deviation or Percentage  Mean or Number of Participants   \n",
       " 1                                NaN                             NaN   \n",
       " 2                                4.2                            23.9   \n",
       " 3                                NaN                             NaN   \n",
       " 4                                NaN                             NaN   \n",
       " 5                              96.0%                             937   \n",
       " 6                               4.0%                              16   \n",
       " 7                                NaN                             NaN   \n",
       " 8                                 4%                              55   \n",
       " 9                                16%                             167   \n",
       " 10                               13%                             158   \n",
       " 11                               24%                             231   \n",
       " 12                               25%                             284   \n",
       " 13                               17%                              58   \n",
       " 14                               NaN                             NaN   \n",
       " 15                               NaN                             NaN   \n",
       " 16                                4%                              47   \n",
       " 17                               51%                             384   \n",
       " 18                               30%                             324   \n",
       " 19                               14%                             198   \n",
       " 20                               NaN                             NaN   \n",
       " 21                               21%                             151   \n",
       " 22                               76%                             759   \n",
       " 23                                2%                              43   \n",
       " 24                               NaN                             NaN   \n",
       " 25                                5%                              15   \n",
       " 26                               15%                              58   \n",
       " 27                               34%                             187   \n",
       " 28                               35%                             390   \n",
       " 29                               11%                             303   \n",
       " 30                               NaN                             NaN   \n",
       " 31                               39%                             311   \n",
       " 32                               53%                             557   \n",
       " 33                                6%                              69   \n",
       " 34                                2%                              11   \n",
       " 35                                1%                               5   \n",
       " 36                               NaN                             NaN   \n",
       " 37                               6.6                            14.2   \n",
       " 38                               NaN                             NaN   \n",
       " 39                               4.2                            10.8   \n",
       " 40                               NaN                             NaN   \n",
       " 41                               3.5                            22.3   \n",
       " 42                               NaN                             NaN   \n",
       " 43                               NaN                             NaN   \n",
       " 44                              2.4%                              87   \n",
       " 45                             81.0%                             675   \n",
       " 46                             16.7%                             191   \n",
       " \n",
       "                   SCOFF+ (n = 953).1              p Value  \n",
       " 0   Standard Deviation or Percentage                  NaN  \n",
       " 1                                NaN                  NaN  \n",
       " 2                                4.2           <0.001 ***  \n",
       " 3                                NaN   (Student’s t-test)  \n",
       " 4                                NaN              0.012 *  \n",
       " 5                              98.3%   (Chi-squared test)  \n",
       " 6                               1.7%                  NaN  \n",
       " 7                                NaN           <0.001 ***  \n",
       " 8                                 6%   (Chi-squared test)  \n",
       " 9                                18%                  NaN  \n",
       " 10                               17%                  NaN  \n",
       " 11                               24%                  NaN  \n",
       " 12                               30%                  NaN  \n",
       " 13                                6%                  NaN  \n",
       " 14                               NaN                  NaN  \n",
       " 15                               NaN           <0.001 ***  \n",
       " 16                                5%   (Chi-squared test)  \n",
       " 17                               40%                  NaN  \n",
       " 18                               34%                  NaN  \n",
       " 19                               21%                  NaN  \n",
       " 20                               NaN             0.010 **  \n",
       " 21                               16%   (Chi-squared test)  \n",
       " 22                               80%                  NaN  \n",
       " 23                                5%                  NaN  \n",
       " 24                               NaN           <0.001 ***  \n",
       " 25                                2%   (Chi-squared test)  \n",
       " 26                                6%                  NaN  \n",
       " 27                               20%                  NaN  \n",
       " 28                               41%                  NaN  \n",
       " 29                               32%                  NaN  \n",
       " 30                               NaN           <0.001 ***  \n",
       " 31                               33%  (Fisher exact test)  \n",
       " 32                               58%                  NaN  \n",
       " 33                                7%                  NaN  \n",
       " 34                                1%                  NaN  \n",
       " 35                                1%                  NaN  \n",
       " 36                               NaN                  NaN  \n",
       " 37                                 7           <0.001 ***  \n",
       " 38                               NaN       (Student test)  \n",
       " 39                               5.5           <0.001 ***  \n",
       " 40                               NaN       (Student test)  \n",
       " 41                               4.5                0.575  \n",
       " 42                               NaN       (Student test)  \n",
       " 43                               NaN           <0.001 ***  \n",
       " 44                              9.1%   (Chi-squared test)  \n",
       " 45                             70.8%                  NaN  \n",
       " 46                             20.0%                  NaN  ,\n",
       "                                           Unnamed: 0  Chi-Squared Test  \\\n",
       " 0  Frequency of comparing one’s own physical appe...            38.165   \n",
       " \n",
       "     p-Value  \n",
       " 0  0.008 **  ,\n",
       "                                         Unnamed: 0 Estimates         p-Value\n",
       " 0                                        Intercept    13.620  <2 × 10−16 ***\n",
       " 1                Studies level: Less than level 12       NaN             NaN\n",
       " 2                          Studies level: Level 12    −0.672           0.507\n",
       " 3                Studies level: Level 12 + 2 years    −0.778           0.447\n",
       " 4  Studies level: Level 12 + 3 (Bachelor’s degree)    −1.560           0.110\n",
       " 5    Studies level: Level 12 + 5 (Master’s degree)    −1.307           0.175\n",
       " 6                         Degree over Level 12 + 5    −2.538         0.022 *,\n",
       "                                         Unnamed: 0 Estimates         p-Value\n",
       " 0                                        Intercept    10.141  <2 × 10−16 ***\n",
       " 1                Studies level: Less than level 12       NaN             NaN\n",
       " 2                          Studies level: Level 12    −0.730           0.368\n",
       " 3                Studies level: Level 12 + 2 years    −0.477           0.561\n",
       " 4  Studies level: Level 12 + 3 (Bachelor’s degree)    −1.328           0.090\n",
       " 5    Studies level: Level 12 + 5 (Master’s degree)    −1.451           0.061\n",
       " 6                         Degree over Level 12 + 5    −3.019      0.0007 ***,\n",
       "                    Unnamed: 0  Estimates         p-Value\n",
       " 0                   Intercept     21.109  <2 × 10−16 ***\n",
       " 1      Body comparison: Never        NaN             NaN\n",
       " 2     Body comparison: Seldom      1.002           0.233\n",
       " 3  Body comparison: Sometimes      1.049           0.177\n",
       " 4      Body comparison: Often      1.155           0.130\n",
       " 5     Body comparison: Always      1.384           0.074,\n",
       "   Unnamed: 0 Coefficient de Correlation de PearsonAvec son IC à 95%  \\\n",
       " 0     EDI-DT                              0.071 [0.017; 0.1239]       \n",
       " 1     EDI-BD                               0.253 [0.202; 0.302]       \n",
       " \n",
       "       p-Value  \n",
       " 0   0.0099 **  \n",
       " 1  <0.001 ***  ,\n",
       "                                          Unnamed: 0 Estimates  \\\n",
       " 0                                         Intercept     5.859   \n",
       " 1                            Body comparison: Never       NaN   \n",
       " 2                           Body comparison: Seldom     0.438   \n",
       " 3                        Body comparison: Sometimes     2.021   \n",
       " 4                            Body comparison: Often     5.314   \n",
       " 5                           Body comparison: Always     8.421   \n",
       " 6                 Studies level: Less than level 12       NaN   \n",
       " 7                           Studies level: Level 12    −1.399   \n",
       " 8                 Studies level: Level 12 + 2 years    −1.415   \n",
       " 9   Studies level: Level 12 + 3 (Bachelor’s degree)    −1.723   \n",
       " 10    Studies level: Level 12 + 5 (Master’s degree)    −1.999   \n",
       " 11                         Degree over Level 12 + 5    −2.936   \n",
       " \n",
       "              p-Value  \n",
       " 0     8.7 × 10−8 ***  \n",
       " 1                NaN  \n",
       " 2              0.678  \n",
       " 3            0.038 *  \n",
       " 4     3.4 × 10−8 ***  \n",
       " 5   <2.2 × 10−16 ***  \n",
       " 6                NaN  \n",
       " 7              0.053  \n",
       " 8             0.0539  \n",
       " 9           0.0138 *  \n",
       " 10         0.0038 **  \n",
       " 11        0.0002 ***  ,\n",
       "                                          Unnamed: 0 Estimates          p-Value\n",
       " 0                                         Intercept     9.087  1.1 × 10−10 ***\n",
       " 1                            Body comparison: Never       NaN              NaN\n",
       " 2                           Body comparison: Seldom     1.225            0.365\n",
       " 3                        Body comparison: Sometimes     1.768            0.158\n",
       " 4                            Body comparison: Often     5.564   6.5 × 10−6 ***\n",
       " 5                           Body comparison: Always     9.226  2.4 × 10−13 ***\n",
       " 6                 Studies level: Less than level 12       NaN              NaN\n",
       " 7                           Studies level: Level 12    −1.437            0.122\n",
       " 8                 Studies level: Level 12 + 2 years    −1.785            0.058\n",
       " 9   Studies level: Level 12 + 3 (Bachelor’s degree)    −1.986          0.027 *\n",
       " 10    Studies level: Level 12 + 5 (Master’s degree)    −1.940          0.029 *\n",
       " 11                         Degree over Level 12 + 5    −2.471          0.016 *]"
      ]
     },
     "execution_count": 62,
     "metadata": {},
     "output_type": "execute_result"
    }
   ],
   "source": [
    "temp = pd.read_html(URL[6], match=\".+\", header = 0)\n",
    "temp"
   ]
  },
  {
   "cell_type": "markdown",
   "metadata": {
    "pycharm": {
     "name": "#%% md\n"
    }
   },
   "source": [
    "The data looked very messy, but I could deduce that I would be using the third table, so index 2.  \n",
    "**I then used the import_df_url() function to attain the data in the third table.**"
   ]
  },
  {
   "cell_type": "code",
   "execution_count": 63,
   "metadata": {
    "pycharm": {
     "name": "#%%\n"
    },
    "tags": []
   },
   "outputs": [
    {
     "data": {
      "text/html": [
       "<div>\n",
       "<style scoped>\n",
       "    .dataframe tbody tr th:only-of-type {\n",
       "        vertical-align: middle;\n",
       "    }\n",
       "\n",
       "    .dataframe tbody tr th {\n",
       "        vertical-align: top;\n",
       "    }\n",
       "\n",
       "    .dataframe thead th {\n",
       "        text-align: right;\n",
       "    }\n",
       "</style>\n",
       "<table border=\"1\" class=\"dataframe\">\n",
       "  <thead>\n",
       "    <tr style=\"text-align: right;\">\n",
       "      <th></th>\n",
       "      <th>Unnamed: 0</th>\n",
       "      <th>Final Sample (n = 1331)</th>\n",
       "      <th>Final Sample (n = 1331).1</th>\n",
       "      <th>SCOFF− (n = 378)</th>\n",
       "      <th>SCOFF− (n = 378).1</th>\n",
       "      <th>SCOFF+ (n = 953)</th>\n",
       "      <th>SCOFF+ (n = 953).1</th>\n",
       "      <th>p Value</th>\n",
       "    </tr>\n",
       "  </thead>\n",
       "  <tbody>\n",
       "    <tr>\n",
       "      <th>0</th>\n",
       "      <td>NaN</td>\n",
       "      <td>Mean or Number of Participants</td>\n",
       "      <td>Standard Deviation or Percentage</td>\n",
       "      <td>Mean or Number of Participants</td>\n",
       "      <td>Standard Deviation or Percentage</td>\n",
       "      <td>Mean or Number of Participants</td>\n",
       "      <td>Standard Deviation or Percentage</td>\n",
       "      <td>NaN</td>\n",
       "    </tr>\n",
       "    <tr>\n",
       "      <th>1</th>\n",
       "      <td>SOCIODEMOGRAPHIC CHARACTERISTICS</td>\n",
       "      <td>NaN</td>\n",
       "      <td>NaN</td>\n",
       "      <td>NaN</td>\n",
       "      <td>NaN</td>\n",
       "      <td>NaN</td>\n",
       "      <td>NaN</td>\n",
       "      <td>NaN</td>\n",
       "    </tr>\n",
       "    <tr>\n",
       "      <th>2</th>\n",
       "      <td>Age</td>\n",
       "      <td>24.2</td>\n",
       "      <td>4.2</td>\n",
       "      <td>25.1</td>\n",
       "      <td>4.2</td>\n",
       "      <td>23.9</td>\n",
       "      <td>4.2</td>\n",
       "      <td>&lt;0.001 ***</td>\n",
       "    </tr>\n",
       "    <tr>\n",
       "      <th>3</th>\n",
       "      <td>NaN</td>\n",
       "      <td>NaN</td>\n",
       "      <td>NaN</td>\n",
       "      <td>NaN</td>\n",
       "      <td>NaN</td>\n",
       "      <td>NaN</td>\n",
       "      <td>NaN</td>\n",
       "      <td>(Student’s t-test)</td>\n",
       "    </tr>\n",
       "    <tr>\n",
       "      <th>4</th>\n",
       "      <td>Sex</td>\n",
       "      <td>NaN</td>\n",
       "      <td>NaN</td>\n",
       "      <td>NaN</td>\n",
       "      <td>NaN</td>\n",
       "      <td>NaN</td>\n",
       "      <td>NaN</td>\n",
       "      <td>0.012 *</td>\n",
       "    </tr>\n",
       "    <tr>\n",
       "      <th>5</th>\n",
       "      <td>Female</td>\n",
       "      <td>1300</td>\n",
       "      <td>97.7%</td>\n",
       "      <td>363</td>\n",
       "      <td>96.0%</td>\n",
       "      <td>937</td>\n",
       "      <td>98.3%</td>\n",
       "      <td>(Chi-squared test)</td>\n",
       "    </tr>\n",
       "    <tr>\n",
       "      <th>6</th>\n",
       "      <td>Male</td>\n",
       "      <td>31</td>\n",
       "      <td>2.3%</td>\n",
       "      <td>15</td>\n",
       "      <td>4.0%</td>\n",
       "      <td>16</td>\n",
       "      <td>1.7%</td>\n",
       "      <td>NaN</td>\n",
       "    </tr>\n",
       "    <tr>\n",
       "      <th>7</th>\n",
       "      <td>Studies level</td>\n",
       "      <td>NaN</td>\n",
       "      <td>NaN</td>\n",
       "      <td>NaN</td>\n",
       "      <td>NaN</td>\n",
       "      <td>NaN</td>\n",
       "      <td>NaN</td>\n",
       "      <td>&lt;0.001 ***</td>\n",
       "    </tr>\n",
       "    <tr>\n",
       "      <th>8</th>\n",
       "      <td>Less than Level 12</td>\n",
       "      <td>71</td>\n",
       "      <td>5.3%</td>\n",
       "      <td>16</td>\n",
       "      <td>4%</td>\n",
       "      <td>55</td>\n",
       "      <td>6%</td>\n",
       "      <td>(Chi-squared test)</td>\n",
       "    </tr>\n",
       "    <tr>\n",
       "      <th>9</th>\n",
       "      <td>Level 12</td>\n",
       "      <td>229</td>\n",
       "      <td>17.2%</td>\n",
       "      <td>62</td>\n",
       "      <td>16%</td>\n",
       "      <td>167</td>\n",
       "      <td>18%</td>\n",
       "      <td>NaN</td>\n",
       "    </tr>\n",
       "    <tr>\n",
       "      <th>10</th>\n",
       "      <td>Level 12 + 2 years</td>\n",
       "      <td>208</td>\n",
       "      <td>15.6%</td>\n",
       "      <td>50</td>\n",
       "      <td>13%</td>\n",
       "      <td>158</td>\n",
       "      <td>17%</td>\n",
       "      <td>NaN</td>\n",
       "    </tr>\n",
       "    <tr>\n",
       "      <th>11</th>\n",
       "      <td>Level 12 + 3 (Bachelor’s degree)</td>\n",
       "      <td>320</td>\n",
       "      <td>24.0%</td>\n",
       "      <td>89</td>\n",
       "      <td>24%</td>\n",
       "      <td>231</td>\n",
       "      <td>24%</td>\n",
       "      <td>NaN</td>\n",
       "    </tr>\n",
       "    <tr>\n",
       "      <th>12</th>\n",
       "      <td>Level 12 + 5 (Master’s degree)</td>\n",
       "      <td>380</td>\n",
       "      <td>0.285</td>\n",
       "      <td>96</td>\n",
       "      <td>25%</td>\n",
       "      <td>284</td>\n",
       "      <td>30%</td>\n",
       "      <td>NaN</td>\n",
       "    </tr>\n",
       "    <tr>\n",
       "      <th>13</th>\n",
       "      <td>Degree over Level 12 + 5</td>\n",
       "      <td>123</td>\n",
       "      <td>0.092</td>\n",
       "      <td>65</td>\n",
       "      <td>17%</td>\n",
       "      <td>58</td>\n",
       "      <td>6%</td>\n",
       "      <td>NaN</td>\n",
       "    </tr>\n",
       "    <tr>\n",
       "      <th>14</th>\n",
       "      <td>SOCIAL MEDIA USE</td>\n",
       "      <td>NaN</td>\n",
       "      <td>NaN</td>\n",
       "      <td>NaN</td>\n",
       "      <td>NaN</td>\n",
       "      <td>NaN</td>\n",
       "      <td>NaN</td>\n",
       "      <td>NaN</td>\n",
       "    </tr>\n",
       "    <tr>\n",
       "      <th>15</th>\n",
       "      <td>Frequency</td>\n",
       "      <td>NaN</td>\n",
       "      <td>NaN</td>\n",
       "      <td>NaN</td>\n",
       "      <td>NaN</td>\n",
       "      <td>NaN</td>\n",
       "      <td>NaN</td>\n",
       "      <td>&lt;0.001 ***</td>\n",
       "    </tr>\n",
       "    <tr>\n",
       "      <th>16</th>\n",
       "      <td>Max. once a day</td>\n",
       "      <td>64</td>\n",
       "      <td>5%</td>\n",
       "      <td>17</td>\n",
       "      <td>4%</td>\n",
       "      <td>47</td>\n",
       "      <td>5%</td>\n",
       "      <td>(Chi-squared test)</td>\n",
       "    </tr>\n",
       "    <tr>\n",
       "      <th>17</th>\n",
       "      <td>2 to 10 times a day</td>\n",
       "      <td>578</td>\n",
       "      <td>43%</td>\n",
       "      <td>194</td>\n",
       "      <td>51%</td>\n",
       "      <td>384</td>\n",
       "      <td>40%</td>\n",
       "      <td>NaN</td>\n",
       "    </tr>\n",
       "    <tr>\n",
       "      <th>18</th>\n",
       "      <td>10 to 20 times a day</td>\n",
       "      <td>439</td>\n",
       "      <td>33%</td>\n",
       "      <td>115</td>\n",
       "      <td>30%</td>\n",
       "      <td>324</td>\n",
       "      <td>34%</td>\n",
       "      <td>NaN</td>\n",
       "    </tr>\n",
       "    <tr>\n",
       "      <th>19</th>\n",
       "      <td>Over 20 times a day</td>\n",
       "      <td>250</td>\n",
       "      <td>19%</td>\n",
       "      <td>52</td>\n",
       "      <td>14%</td>\n",
       "      <td>198</td>\n",
       "      <td>21%</td>\n",
       "      <td>NaN</td>\n",
       "    </tr>\n",
       "    <tr>\n",
       "      <th>20</th>\n",
       "      <td>Time spent</td>\n",
       "      <td>NaN</td>\n",
       "      <td>NaN</td>\n",
       "      <td>NaN</td>\n",
       "      <td>NaN</td>\n",
       "      <td>NaN</td>\n",
       "      <td>NaN</td>\n",
       "      <td>0.010 **</td>\n",
       "    </tr>\n",
       "    <tr>\n",
       "      <th>21</th>\n",
       "      <td>Less than 1 h</td>\n",
       "      <td>232</td>\n",
       "      <td>17%</td>\n",
       "      <td>81</td>\n",
       "      <td>21%</td>\n",
       "      <td>151</td>\n",
       "      <td>16%</td>\n",
       "      <td>(Chi-squared test)</td>\n",
       "    </tr>\n",
       "    <tr>\n",
       "      <th>22</th>\n",
       "      <td>Between 1 and 5 h</td>\n",
       "      <td>1048</td>\n",
       "      <td>79%</td>\n",
       "      <td>289</td>\n",
       "      <td>76%</td>\n",
       "      <td>759</td>\n",
       "      <td>80%</td>\n",
       "      <td>NaN</td>\n",
       "    </tr>\n",
       "    <tr>\n",
       "      <th>23</th>\n",
       "      <td>Over 5 h</td>\n",
       "      <td>51</td>\n",
       "      <td>4%</td>\n",
       "      <td>8</td>\n",
       "      <td>2%</td>\n",
       "      <td>43</td>\n",
       "      <td>5%</td>\n",
       "      <td>NaN</td>\n",
       "    </tr>\n",
       "    <tr>\n",
       "      <th>24</th>\n",
       "      <td>Body comparison</td>\n",
       "      <td>NaN</td>\n",
       "      <td>NaN</td>\n",
       "      <td>NaN</td>\n",
       "      <td>NaN</td>\n",
       "      <td>NaN</td>\n",
       "      <td>NaN</td>\n",
       "      <td>&lt;0.001 ***</td>\n",
       "    </tr>\n",
       "    <tr>\n",
       "      <th>25</th>\n",
       "      <td>Never</td>\n",
       "      <td>33</td>\n",
       "      <td>2%</td>\n",
       "      <td>18</td>\n",
       "      <td>5%</td>\n",
       "      <td>15</td>\n",
       "      <td>2%</td>\n",
       "      <td>(Chi-squared test)</td>\n",
       "    </tr>\n",
       "    <tr>\n",
       "      <th>26</th>\n",
       "      <td>Seldom</td>\n",
       "      <td>114</td>\n",
       "      <td>9%</td>\n",
       "      <td>56</td>\n",
       "      <td>15%</td>\n",
       "      <td>58</td>\n",
       "      <td>6%</td>\n",
       "      <td>NaN</td>\n",
       "    </tr>\n",
       "    <tr>\n",
       "      <th>27</th>\n",
       "      <td>Sometimes</td>\n",
       "      <td>317</td>\n",
       "      <td>24%</td>\n",
       "      <td>130</td>\n",
       "      <td>34%</td>\n",
       "      <td>187</td>\n",
       "      <td>20%</td>\n",
       "      <td>NaN</td>\n",
       "    </tr>\n",
       "    <tr>\n",
       "      <th>28</th>\n",
       "      <td>Often</td>\n",
       "      <td>523</td>\n",
       "      <td>39%</td>\n",
       "      <td>133</td>\n",
       "      <td>35%</td>\n",
       "      <td>390</td>\n",
       "      <td>41%</td>\n",
       "      <td>NaN</td>\n",
       "    </tr>\n",
       "    <tr>\n",
       "      <th>29</th>\n",
       "      <td>Always</td>\n",
       "      <td>344</td>\n",
       "      <td>26%</td>\n",
       "      <td>41</td>\n",
       "      <td>11%</td>\n",
       "      <td>303</td>\n",
       "      <td>32%</td>\n",
       "      <td>NaN</td>\n",
       "    </tr>\n",
       "    <tr>\n",
       "      <th>30</th>\n",
       "      <td>Posting selfies</td>\n",
       "      <td>NaN</td>\n",
       "      <td>NaN</td>\n",
       "      <td>NaN</td>\n",
       "      <td>NaN</td>\n",
       "      <td>NaN</td>\n",
       "      <td>NaN</td>\n",
       "      <td>&lt;0.001 ***</td>\n",
       "    </tr>\n",
       "    <tr>\n",
       "      <th>31</th>\n",
       "      <td>Never</td>\n",
       "      <td>457</td>\n",
       "      <td>34%</td>\n",
       "      <td>146</td>\n",
       "      <td>39%</td>\n",
       "      <td>311</td>\n",
       "      <td>33%</td>\n",
       "      <td>(Fisher exact test)</td>\n",
       "    </tr>\n",
       "    <tr>\n",
       "      <th>32</th>\n",
       "      <td>1 or 2 times a month</td>\n",
       "      <td>756</td>\n",
       "      <td>57%</td>\n",
       "      <td>199</td>\n",
       "      <td>53%</td>\n",
       "      <td>557</td>\n",
       "      <td>58%</td>\n",
       "      <td>NaN</td>\n",
       "    </tr>\n",
       "    <tr>\n",
       "      <th>33</th>\n",
       "      <td>Once a week</td>\n",
       "      <td>93</td>\n",
       "      <td>7%</td>\n",
       "      <td>24</td>\n",
       "      <td>6%</td>\n",
       "      <td>69</td>\n",
       "      <td>7%</td>\n",
       "      <td>NaN</td>\n",
       "    </tr>\n",
       "    <tr>\n",
       "      <th>34</th>\n",
       "      <td>3 to 4 times a week</td>\n",
       "      <td>18</td>\n",
       "      <td>1%</td>\n",
       "      <td>7</td>\n",
       "      <td>2%</td>\n",
       "      <td>11</td>\n",
       "      <td>1%</td>\n",
       "      <td>NaN</td>\n",
       "    </tr>\n",
       "    <tr>\n",
       "      <th>35</th>\n",
       "      <td>Daily</td>\n",
       "      <td>7</td>\n",
       "      <td>1%</td>\n",
       "      <td>2</td>\n",
       "      <td>1%</td>\n",
       "      <td>5</td>\n",
       "      <td>1%</td>\n",
       "      <td>NaN</td>\n",
       "    </tr>\n",
       "    <tr>\n",
       "      <th>36</th>\n",
       "      <td>EATING DISORDERS</td>\n",
       "      <td>NaN</td>\n",
       "      <td>NaN</td>\n",
       "      <td>NaN</td>\n",
       "      <td>NaN</td>\n",
       "      <td>NaN</td>\n",
       "      <td>NaN</td>\n",
       "      <td>NaN</td>\n",
       "    </tr>\n",
       "    <tr>\n",
       "      <th>37</th>\n",
       "      <td>EDI-BD</td>\n",
       "      <td>12.4</td>\n",
       "      <td>7.5</td>\n",
       "      <td>7.9</td>\n",
       "      <td>6.6</td>\n",
       "      <td>14.2</td>\n",
       "      <td>7</td>\n",
       "      <td>&lt;0.001 ***</td>\n",
       "    </tr>\n",
       "    <tr>\n",
       "      <th>38</th>\n",
       "      <td>NaN</td>\n",
       "      <td>NaN</td>\n",
       "      <td>NaN</td>\n",
       "      <td>NaN</td>\n",
       "      <td>NaN</td>\n",
       "      <td>NaN</td>\n",
       "      <td>NaN</td>\n",
       "      <td>(Student test)</td>\n",
       "    </tr>\n",
       "    <tr>\n",
       "      <th>39</th>\n",
       "      <td>EDI-DT</td>\n",
       "      <td>8.9</td>\n",
       "      <td>6</td>\n",
       "      <td>4.1</td>\n",
       "      <td>4.2</td>\n",
       "      <td>10.8</td>\n",
       "      <td>5.5</td>\n",
       "      <td>&lt;0.001 ***</td>\n",
       "    </tr>\n",
       "    <tr>\n",
       "      <th>40</th>\n",
       "      <td>NaN</td>\n",
       "      <td>NaN</td>\n",
       "      <td>NaN</td>\n",
       "      <td>NaN</td>\n",
       "      <td>NaN</td>\n",
       "      <td>NaN</td>\n",
       "      <td>NaN</td>\n",
       "      <td>(Student test)</td>\n",
       "    </tr>\n",
       "    <tr>\n",
       "      <th>41</th>\n",
       "      <td>Average BMI</td>\n",
       "      <td>22.3</td>\n",
       "      <td>4.2</td>\n",
       "      <td>22.2</td>\n",
       "      <td>3.5</td>\n",
       "      <td>22.3</td>\n",
       "      <td>4.5</td>\n",
       "      <td>0.575</td>\n",
       "    </tr>\n",
       "    <tr>\n",
       "      <th>42</th>\n",
       "      <td>NaN</td>\n",
       "      <td>NaN</td>\n",
       "      <td>NaN</td>\n",
       "      <td>NaN</td>\n",
       "      <td>NaN</td>\n",
       "      <td>NaN</td>\n",
       "      <td>NaN</td>\n",
       "      <td>(Student test)</td>\n",
       "    </tr>\n",
       "    <tr>\n",
       "      <th>43</th>\n",
       "      <td>Categories of BMI</td>\n",
       "      <td>NaN</td>\n",
       "      <td>NaN</td>\n",
       "      <td>NaN</td>\n",
       "      <td>NaN</td>\n",
       "      <td>NaN</td>\n",
       "      <td>NaN</td>\n",
       "      <td>&lt;0.001 ***</td>\n",
       "    </tr>\n",
       "    <tr>\n",
       "      <th>44</th>\n",
       "      <td>&lt;17.5</td>\n",
       "      <td>96</td>\n",
       "      <td>7.2%</td>\n",
       "      <td>9</td>\n",
       "      <td>2.4%</td>\n",
       "      <td>87</td>\n",
       "      <td>9.1%</td>\n",
       "      <td>(Chi-squared test)</td>\n",
       "    </tr>\n",
       "    <tr>\n",
       "      <th>45</th>\n",
       "      <td>[17.5–25]</td>\n",
       "      <td>981</td>\n",
       "      <td>73.7%</td>\n",
       "      <td>306</td>\n",
       "      <td>81.0%</td>\n",
       "      <td>675</td>\n",
       "      <td>70.8%</td>\n",
       "      <td>NaN</td>\n",
       "    </tr>\n",
       "    <tr>\n",
       "      <th>46</th>\n",
       "      <td>≥25</td>\n",
       "      <td>254</td>\n",
       "      <td>19.1%</td>\n",
       "      <td>63</td>\n",
       "      <td>16.7%</td>\n",
       "      <td>191</td>\n",
       "      <td>20.0%</td>\n",
       "      <td>NaN</td>\n",
       "    </tr>\n",
       "  </tbody>\n",
       "</table>\n",
       "</div>"
      ],
      "text/plain": [
       "                          Unnamed: 0         Final Sample (n = 1331)  \\\n",
       "0                                NaN  Mean or Number of Participants   \n",
       "1   SOCIODEMOGRAPHIC CHARACTERISTICS                             NaN   \n",
       "2                                Age                            24.2   \n",
       "3                                NaN                             NaN   \n",
       "4                                Sex                             NaN   \n",
       "5                             Female                            1300   \n",
       "6                               Male                              31   \n",
       "7                      Studies level                             NaN   \n",
       "8                 Less than Level 12                              71   \n",
       "9                           Level 12                             229   \n",
       "10                Level 12 + 2 years                             208   \n",
       "11  Level 12 + 3 (Bachelor’s degree)                             320   \n",
       "12    Level 12 + 5 (Master’s degree)                             380   \n",
       "13          Degree over Level 12 + 5                             123   \n",
       "14                  SOCIAL MEDIA USE                             NaN   \n",
       "15                         Frequency                             NaN   \n",
       "16                   Max. once a day                              64   \n",
       "17               2 to 10 times a day                             578   \n",
       "18              10 to 20 times a day                             439   \n",
       "19               Over 20 times a day                             250   \n",
       "20                        Time spent                             NaN   \n",
       "21                     Less than 1 h                             232   \n",
       "22                 Between 1 and 5 h                            1048   \n",
       "23                          Over 5 h                              51   \n",
       "24                   Body comparison                             NaN   \n",
       "25                             Never                              33   \n",
       "26                            Seldom                             114   \n",
       "27                         Sometimes                             317   \n",
       "28                             Often                             523   \n",
       "29                            Always                             344   \n",
       "30                   Posting selfies                             NaN   \n",
       "31                             Never                             457   \n",
       "32              1 or 2 times a month                             756   \n",
       "33                       Once a week                              93   \n",
       "34               3 to 4 times a week                              18   \n",
       "35                             Daily                               7   \n",
       "36                  EATING DISORDERS                             NaN   \n",
       "37                            EDI-BD                            12.4   \n",
       "38                               NaN                             NaN   \n",
       "39                            EDI-DT                             8.9   \n",
       "40                               NaN                             NaN   \n",
       "41                       Average BMI                            22.3   \n",
       "42                               NaN                             NaN   \n",
       "43                 Categories of BMI                             NaN   \n",
       "44                             <17.5                              96   \n",
       "45                         [17.5–25]                             981   \n",
       "46                               ≥25                             254   \n",
       "\n",
       "           Final Sample (n = 1331).1                SCOFF− (n = 378)  \\\n",
       "0   Standard Deviation or Percentage  Mean or Number of Participants   \n",
       "1                                NaN                             NaN   \n",
       "2                                4.2                            25.1   \n",
       "3                                NaN                             NaN   \n",
       "4                                NaN                             NaN   \n",
       "5                              97.7%                             363   \n",
       "6                               2.3%                              15   \n",
       "7                                NaN                             NaN   \n",
       "8                               5.3%                              16   \n",
       "9                              17.2%                              62   \n",
       "10                             15.6%                              50   \n",
       "11                             24.0%                              89   \n",
       "12                             0.285                              96   \n",
       "13                             0.092                              65   \n",
       "14                               NaN                             NaN   \n",
       "15                               NaN                             NaN   \n",
       "16                                5%                              17   \n",
       "17                               43%                             194   \n",
       "18                               33%                             115   \n",
       "19                               19%                              52   \n",
       "20                               NaN                             NaN   \n",
       "21                               17%                              81   \n",
       "22                               79%                             289   \n",
       "23                                4%                               8   \n",
       "24                               NaN                             NaN   \n",
       "25                                2%                              18   \n",
       "26                                9%                              56   \n",
       "27                               24%                             130   \n",
       "28                               39%                             133   \n",
       "29                               26%                              41   \n",
       "30                               NaN                             NaN   \n",
       "31                               34%                             146   \n",
       "32                               57%                             199   \n",
       "33                                7%                              24   \n",
       "34                                1%                               7   \n",
       "35                                1%                               2   \n",
       "36                               NaN                             NaN   \n",
       "37                               7.5                             7.9   \n",
       "38                               NaN                             NaN   \n",
       "39                                 6                             4.1   \n",
       "40                               NaN                             NaN   \n",
       "41                               4.2                            22.2   \n",
       "42                               NaN                             NaN   \n",
       "43                               NaN                             NaN   \n",
       "44                              7.2%                               9   \n",
       "45                             73.7%                             306   \n",
       "46                             19.1%                              63   \n",
       "\n",
       "                  SCOFF− (n = 378).1                SCOFF+ (n = 953)  \\\n",
       "0   Standard Deviation or Percentage  Mean or Number of Participants   \n",
       "1                                NaN                             NaN   \n",
       "2                                4.2                            23.9   \n",
       "3                                NaN                             NaN   \n",
       "4                                NaN                             NaN   \n",
       "5                              96.0%                             937   \n",
       "6                               4.0%                              16   \n",
       "7                                NaN                             NaN   \n",
       "8                                 4%                              55   \n",
       "9                                16%                             167   \n",
       "10                               13%                             158   \n",
       "11                               24%                             231   \n",
       "12                               25%                             284   \n",
       "13                               17%                              58   \n",
       "14                               NaN                             NaN   \n",
       "15                               NaN                             NaN   \n",
       "16                                4%                              47   \n",
       "17                               51%                             384   \n",
       "18                               30%                             324   \n",
       "19                               14%                             198   \n",
       "20                               NaN                             NaN   \n",
       "21                               21%                             151   \n",
       "22                               76%                             759   \n",
       "23                                2%                              43   \n",
       "24                               NaN                             NaN   \n",
       "25                                5%                              15   \n",
       "26                               15%                              58   \n",
       "27                               34%                             187   \n",
       "28                               35%                             390   \n",
       "29                               11%                             303   \n",
       "30                               NaN                             NaN   \n",
       "31                               39%                             311   \n",
       "32                               53%                             557   \n",
       "33                                6%                              69   \n",
       "34                                2%                              11   \n",
       "35                                1%                               5   \n",
       "36                               NaN                             NaN   \n",
       "37                               6.6                            14.2   \n",
       "38                               NaN                             NaN   \n",
       "39                               4.2                            10.8   \n",
       "40                               NaN                             NaN   \n",
       "41                               3.5                            22.3   \n",
       "42                               NaN                             NaN   \n",
       "43                               NaN                             NaN   \n",
       "44                              2.4%                              87   \n",
       "45                             81.0%                             675   \n",
       "46                             16.7%                             191   \n",
       "\n",
       "                  SCOFF+ (n = 953).1              p Value  \n",
       "0   Standard Deviation or Percentage                  NaN  \n",
       "1                                NaN                  NaN  \n",
       "2                                4.2           <0.001 ***  \n",
       "3                                NaN   (Student’s t-test)  \n",
       "4                                NaN              0.012 *  \n",
       "5                              98.3%   (Chi-squared test)  \n",
       "6                               1.7%                  NaN  \n",
       "7                                NaN           <0.001 ***  \n",
       "8                                 6%   (Chi-squared test)  \n",
       "9                                18%                  NaN  \n",
       "10                               17%                  NaN  \n",
       "11                               24%                  NaN  \n",
       "12                               30%                  NaN  \n",
       "13                                6%                  NaN  \n",
       "14                               NaN                  NaN  \n",
       "15                               NaN           <0.001 ***  \n",
       "16                                5%   (Chi-squared test)  \n",
       "17                               40%                  NaN  \n",
       "18                               34%                  NaN  \n",
       "19                               21%                  NaN  \n",
       "20                               NaN             0.010 **  \n",
       "21                               16%   (Chi-squared test)  \n",
       "22                               80%                  NaN  \n",
       "23                                5%                  NaN  \n",
       "24                               NaN           <0.001 ***  \n",
       "25                                2%   (Chi-squared test)  \n",
       "26                                6%                  NaN  \n",
       "27                               20%                  NaN  \n",
       "28                               41%                  NaN  \n",
       "29                               32%                  NaN  \n",
       "30                               NaN           <0.001 ***  \n",
       "31                               33%  (Fisher exact test)  \n",
       "32                               58%                  NaN  \n",
       "33                                7%                  NaN  \n",
       "34                                1%                  NaN  \n",
       "35                                1%                  NaN  \n",
       "36                               NaN                  NaN  \n",
       "37                                 7           <0.001 ***  \n",
       "38                               NaN       (Student test)  \n",
       "39                               5.5           <0.001 ***  \n",
       "40                               NaN       (Student test)  \n",
       "41                               4.5                0.575  \n",
       "42                               NaN       (Student test)  \n",
       "43                               NaN           <0.001 ***  \n",
       "44                              9.1%   (Chi-squared test)  \n",
       "45                             70.8%                  NaN  \n",
       "46                             20.0%                  NaN  "
      ]
     },
     "execution_count": 63,
     "metadata": {},
     "output_type": "execute_result"
    }
   ],
   "source": [
    "records = import_df_url(URL[6], 2)\n",
    "records"
   ]
  },
  {
   "cell_type": "markdown",
   "metadata": {
    "pycharm": {
     "name": "#%% md\n"
    }
   },
   "source": [
    "The data was still messy, but there was now less data to work with.  \n",
    "After scanning through the dataframe, I decided that I would be take different parts from the table and group them, to make different dataframes."
   ]
  },
  {
   "cell_type": "code",
   "execution_count": 64,
   "metadata": {
    "pycharm": {
     "name": "#%%\n"
    }
   },
   "outputs": [
    {
     "data": {
      "text/plain": [
       "(47, 8)"
      ]
     },
     "execution_count": 64,
     "metadata": {},
     "output_type": "execute_result"
    }
   ],
   "source": [
    "records.shape"
   ]
  },
  {
   "cell_type": "markdown",
   "metadata": {
    "pycharm": {
     "name": "#%% md\n"
    }
   },
   "source": [
    "There were 47 rows, and 8 columns. Though I worked with only two of the columns.  \n",
    "The first data that I extracted and attempted to group was the social media use. I split the data into two dataframes, one on the frequency of social media use. The other on the spent on social media."
   ]
  },
  {
   "cell_type": "markdown",
   "metadata": {
    "pycharm": {
     "name": "#%% md\n"
    }
   },
   "source": [
    "I first extracted the data from the two columns that I was using. I then put them into two separate lists."
   ]
  },
  {
   "cell_type": "markdown",
   "metadata": {
    "pycharm": {
     "name": "#%% md\n"
    }
   },
   "source": [
    "**Column 1: Categories**"
   ]
  },
  {
   "cell_type": "code",
   "execution_count": 65,
   "metadata": {
    "pycharm": {
     "name": "#%%\n"
    },
    "tags": []
   },
   "outputs": [
    {
     "data": {
      "text/plain": [
       "0                                  NaN\n",
       "1     SOCIODEMOGRAPHIC CHARACTERISTICS\n",
       "2                                  Age\n",
       "3                                  NaN\n",
       "4                                  Sex\n",
       "5                               Female\n",
       "6                                 Male\n",
       "7                        Studies level\n",
       "8                   Less than Level 12\n",
       "9                             Level 12\n",
       "10                  Level 12 + 2 years\n",
       "11    Level 12 + 3 (Bachelor’s degree)\n",
       "12      Level 12 + 5 (Master’s degree)\n",
       "13            Degree over Level 12 + 5\n",
       "14                    SOCIAL MEDIA USE\n",
       "15                           Frequency\n",
       "16                     Max. once a day\n",
       "17                 2 to 10 times a day\n",
       "18                10 to 20 times a day\n",
       "19                 Over 20 times a day\n",
       "20                          Time spent\n",
       "21                       Less than 1 h\n",
       "22                   Between 1 and 5 h\n",
       "23                            Over 5 h\n",
       "24                     Body comparison\n",
       "25                               Never\n",
       "26                              Seldom\n",
       "27                           Sometimes\n",
       "28                               Often\n",
       "29                              Always\n",
       "30                     Posting selfies\n",
       "31                               Never\n",
       "32                1 or 2 times a month\n",
       "33                         Once a week\n",
       "34                 3 to 4 times a week\n",
       "35                               Daily\n",
       "36                    EATING DISORDERS\n",
       "37                              EDI-BD\n",
       "38                                 NaN\n",
       "39                              EDI-DT\n",
       "40                                 NaN\n",
       "41                         Average BMI\n",
       "42                                 NaN\n",
       "43                   Categories of BMI\n",
       "44                               <17.5\n",
       "45                           [17.5–25]\n",
       "46                                 ≥25\n",
       "Name: Unnamed: 0, dtype: object"
      ]
     },
     "execution_count": 65,
     "metadata": {},
     "output_type": "execute_result"
    }
   ],
   "source": [
    "categories = records['Unnamed: 0']\n",
    "categories"
   ]
  },
  {
   "cell_type": "markdown",
   "metadata": {
    "pycharm": {
     "name": "#%% md\n"
    }
   },
   "source": [
    "**Column 2: Feedback**"
   ]
  },
  {
   "cell_type": "code",
   "execution_count": 66,
   "metadata": {
    "pycharm": {
     "name": "#%%\n"
    },
    "tags": []
   },
   "outputs": [
    {
     "data": {
      "text/plain": [
       "0     Mean or Number of Participants\n",
       "1                                NaN\n",
       "2                               24.2\n",
       "3                                NaN\n",
       "4                                NaN\n",
       "5                               1300\n",
       "6                                 31\n",
       "7                                NaN\n",
       "8                                 71\n",
       "9                                229\n",
       "10                               208\n",
       "11                               320\n",
       "12                               380\n",
       "13                               123\n",
       "14                               NaN\n",
       "15                               NaN\n",
       "16                                64\n",
       "17                               578\n",
       "18                               439\n",
       "19                               250\n",
       "20                               NaN\n",
       "21                               232\n",
       "22                              1048\n",
       "23                                51\n",
       "24                               NaN\n",
       "25                                33\n",
       "26                               114\n",
       "27                               317\n",
       "28                               523\n",
       "29                               344\n",
       "30                               NaN\n",
       "31                               457\n",
       "32                               756\n",
       "33                                93\n",
       "34                                18\n",
       "35                                 7\n",
       "36                               NaN\n",
       "37                              12.4\n",
       "38                               NaN\n",
       "39                               8.9\n",
       "40                               NaN\n",
       "41                              22.3\n",
       "42                               NaN\n",
       "43                               NaN\n",
       "44                                96\n",
       "45                               981\n",
       "46                               254\n",
       "Name: Final Sample (n = 1331), dtype: object"
      ]
     },
     "execution_count": 66,
     "metadata": {},
     "output_type": "execute_result"
    }
   ],
   "source": [
    "feedback = records['Final Sample (n = 1331)']\n",
    "feedback"
   ]
  },
  {
   "cell_type": "markdown",
   "metadata": {
    "pycharm": {
     "name": "#%% md\n"
    }
   },
   "source": [
    "You can see that the data in categories is more so describing what the data in column 2 represents.  \n",
    "\n",
    "**I then checked the length of the lists.**  \n",
    "This was so that I could ensure that there was no errors in the copying of data, and so that I could see whether there was any missing data."
   ]
  },
  {
   "cell_type": "code",
   "execution_count": 67,
   "metadata": {
    "pycharm": {
     "name": "#%%\n"
    }
   },
   "outputs": [
    {
     "name": "stdout",
     "output_type": "stream",
     "text": [
      "47 47\n"
     ]
    }
   ],
   "source": [
    "print(len(categories), len(feedback))"
   ]
  },
  {
   "cell_type": "markdown",
   "metadata": {
    "pycharm": {
     "name": "#%% md\n"
    }
   },
   "source": [
    "Since the lists were equal in length, I moved on.  \n",
    "\n",
    "I began by creating a function that would extract data from either the categories list, or the column list, based of the inputs it was given. This saved me time, as I didn't need to continuosly write the same thing.  \n",
    "\n",
    "**The create data function**"
   ]
  },
  {
   "cell_type": "code",
   "execution_count": 68,
   "metadata": {
    "pycharm": {
     "name": "#%%\n"
    }
   },
   "outputs": [],
   "source": [
    "def create_data(start, end, char='c'):\n",
    "    if char == 'c':\n",
    "        temp = [categories[x] for x in range(start, end)]\n",
    "    elif char == 'f':\n",
    "        temp = [feedback[x] for x in range(start, end)]\n",
    "    return temp"
   ]
  },
  {
   "cell_type": "markdown",
   "metadata": {
    "pycharm": {
     "name": "#%% md\n"
    }
   },
   "source": [
    "The above function will automatically extract from the categories list unless told otherwise.  "
   ]
  },
  {
   "cell_type": "markdown",
   "metadata": {
    "pycharm": {
     "name": "#%% md\n"
    },
    "tags": []
   },
   "source": [
    "#### Social media use (frequency)"
   ]
  },
  {
   "cell_type": "markdown",
   "metadata": {
    "pycharm": {
     "name": "#%% md\n"
    }
   },
   "source": [
    "**Then I created the dataframe that I would be putting the data into.**"
   ]
  },
  {
   "cell_type": "code",
   "execution_count": 69,
   "metadata": {
    "pycharm": {
     "name": "#%%\n"
    }
   },
   "outputs": [],
   "source": [
    "social_media_use_f = pd.DataFrame()"
   ]
  },
  {
   "cell_type": "markdown",
   "metadata": {
    "pycharm": {
     "name": "#%% md\n"
    }
   },
   "source": [
    "**Then I created the data, and inserted it into the dataframe, using the functions that I created earlier.**"
   ]
  },
  {
   "cell_type": "code",
   "execution_count": 70,
   "metadata": {
    "pycharm": {
     "name": "#%%\n"
    }
   },
   "outputs": [],
   "source": [
    "social = create_data(14, 24, 'c')\n",
    "insert_columns(0, 'Frequency', social[2:6], social_media_use_f)"
   ]
  },
  {
   "cell_type": "code",
   "execution_count": 71,
   "metadata": {
    "pycharm": {
     "name": "#%%\n"
    }
   },
   "outputs": [
    {
     "data": {
      "text/html": [
       "<div>\n",
       "<style scoped>\n",
       "    .dataframe tbody tr th:only-of-type {\n",
       "        vertical-align: middle;\n",
       "    }\n",
       "\n",
       "    .dataframe tbody tr th {\n",
       "        vertical-align: top;\n",
       "    }\n",
       "\n",
       "    .dataframe thead th {\n",
       "        text-align: right;\n",
       "    }\n",
       "</style>\n",
       "<table border=\"1\" class=\"dataframe\">\n",
       "  <thead>\n",
       "    <tr style=\"text-align: right;\">\n",
       "      <th></th>\n",
       "      <th>Frequency</th>\n",
       "    </tr>\n",
       "  </thead>\n",
       "  <tbody>\n",
       "    <tr>\n",
       "      <th>0</th>\n",
       "      <td>Max. once a day</td>\n",
       "    </tr>\n",
       "    <tr>\n",
       "      <th>1</th>\n",
       "      <td>2 to 10 times a day</td>\n",
       "    </tr>\n",
       "    <tr>\n",
       "      <th>2</th>\n",
       "      <td>10 to 20 times a day</td>\n",
       "    </tr>\n",
       "    <tr>\n",
       "      <th>3</th>\n",
       "      <td>Over 20 times a day</td>\n",
       "    </tr>\n",
       "  </tbody>\n",
       "</table>\n",
       "</div>"
      ],
      "text/plain": [
       "              Frequency\n",
       "0       Max. once a day\n",
       "1   2 to 10 times a day\n",
       "2  10 to 20 times a day\n",
       "3   Over 20 times a day"
      ]
     },
     "execution_count": 71,
     "metadata": {},
     "output_type": "execute_result"
    }
   ],
   "source": [
    "# Let's look at the dataframe so far.\n",
    "social_media_use_f"
   ]
  },
  {
   "cell_type": "markdown",
   "metadata": {
    "pycharm": {
     "name": "#%% md\n"
    }
   },
   "source": [
    "The first column was now complete. I then transformed the data needed for the second column.  \n",
    "\n",
    "**To begin with I extracted the data into a list.**"
   ]
  },
  {
   "cell_type": "code",
   "execution_count": 72,
   "metadata": {
    "pycharm": {
     "name": "#%%\n"
    }
   },
   "outputs": [
    {
     "data": {
      "text/plain": [
       "[nan, nan, '64', '578', '439', '250', nan, '232', '1048', '51']"
      ]
     },
     "execution_count": 72,
     "metadata": {},
     "output_type": "execute_result"
    }
   ],
   "source": [
    "social_data = create_data(14, 24, 'f')\n",
    "social_data"
   ]
  },
  {
   "cell_type": "markdown",
   "metadata": {
    "pycharm": {
     "name": "#%% md\n"
    }
   },
   "source": [
    "I only used a part of the list, so I could ignore the NaNs, as they were not part of the data that I required.  \n",
    "I then collected the part of the list that I wanted. Converted them into integers, and then calculated the percentage. I then calculated the percentage by suming the number of responses, and calculated the fraction for each response by dividing them by the sum."
   ]
  },
  {
   "cell_type": "code",
   "execution_count": 73,
   "metadata": {
    "pycharm": {
     "name": "#%%\n"
    }
   },
   "outputs": [
    {
     "data": {
      "text/plain": [
       "['64', '578', '439', '250']"
      ]
     },
     "execution_count": 73,
     "metadata": {},
     "output_type": "execute_result"
    }
   ],
   "source": [
    "# splicing the list\n",
    "social_data_splice = social_data[2:6]\n",
    "social_data_splice"
   ]
  },
  {
   "cell_type": "code",
   "execution_count": 74,
   "metadata": {
    "pycharm": {
     "name": "#%%\n"
    }
   },
   "outputs": [
    {
     "data": {
      "text/plain": [
       "[64, 578, 439, 250]"
      ]
     },
     "execution_count": 74,
     "metadata": {},
     "output_type": "execute_result"
    }
   ],
   "source": [
    "# converting into integers\n",
    "social_data_int = [int(social_data_splice[x]) for x in range(0, len(social_data_splice))]\n",
    "social_data_int"
   ]
  },
  {
   "cell_type": "code",
   "execution_count": 75,
   "metadata": {
    "pycharm": {
     "name": "#%%\n"
    }
   },
   "outputs": [
    {
     "data": {
      "text/plain": [
       "1331"
      ]
     },
     "execution_count": 75,
     "metadata": {},
     "output_type": "execute_result"
    }
   ],
   "source": [
    "# calculating total\n",
    "social_data_total = sum(social_data_int)\n",
    "social_data_total"
   ]
  },
  {
   "cell_type": "code",
   "execution_count": 76,
   "metadata": {
    "pycharm": {
     "name": "#%%\n"
    }
   },
   "outputs": [
    {
     "data": {
      "text/plain": [
       "[0.048, 0.434, 0.33, 0.188]"
      ]
     },
     "execution_count": 76,
     "metadata": {},
     "output_type": "execute_result"
    }
   ],
   "source": [
    "# calculating the float\n",
    "social_data_f = [float(format(social_data_int[x]/social_data_total, '.3f')) for x in range(0, len(social_data_int))]\n",
    "social_data_f"
   ]
  },
  {
   "cell_type": "code",
   "execution_count": 77,
   "metadata": {
    "pycharm": {
     "name": "#%%\n"
    }
   },
   "outputs": [
    {
     "data": {
      "text/plain": [
       "[4.8, 43.4, 33.0, 18.8]"
      ]
     },
     "execution_count": 77,
     "metadata": {},
     "output_type": "execute_result"
    }
   ],
   "source": [
    "# calculating the percentage\n",
    "social_data_p = [float(format(social_data_f[x]*100, '.3f')) for x in range(0, len(social_data_f))]\n",
    "social_data_p"
   ]
  },
  {
   "cell_type": "markdown",
   "metadata": {
    "pycharm": {
     "name": "#%% md\n"
    }
   },
   "source": [
    "**I then added the two new columns to the dataframe using the insert_columns() function I created before.**"
   ]
  },
  {
   "cell_type": "code",
   "execution_count": 78,
   "metadata": {
    "pycharm": {
     "name": "#%%\n"
    }
   },
   "outputs": [],
   "source": [
    "insert_columns(1, 'Percentage (f)', social_data_f, social_media_use_f)\n",
    "insert_columns(1, 'Percentage (%)', social_data_p, social_media_use_f)"
   ]
  },
  {
   "cell_type": "code",
   "execution_count": 79,
   "metadata": {
    "pycharm": {
     "name": "#%%\n"
    }
   },
   "outputs": [
    {
     "data": {
      "text/html": [
       "<div>\n",
       "<style scoped>\n",
       "    .dataframe tbody tr th:only-of-type {\n",
       "        vertical-align: middle;\n",
       "    }\n",
       "\n",
       "    .dataframe tbody tr th {\n",
       "        vertical-align: top;\n",
       "    }\n",
       "\n",
       "    .dataframe thead th {\n",
       "        text-align: right;\n",
       "    }\n",
       "</style>\n",
       "<table border=\"1\" class=\"dataframe\">\n",
       "  <thead>\n",
       "    <tr style=\"text-align: right;\">\n",
       "      <th></th>\n",
       "      <th>Frequency</th>\n",
       "      <th>Percentage (%)</th>\n",
       "      <th>Percentage (f)</th>\n",
       "    </tr>\n",
       "  </thead>\n",
       "  <tbody>\n",
       "    <tr>\n",
       "      <th>0</th>\n",
       "      <td>Max. once a day</td>\n",
       "      <td>4.8</td>\n",
       "      <td>0.048</td>\n",
       "    </tr>\n",
       "    <tr>\n",
       "      <th>1</th>\n",
       "      <td>2 to 10 times a day</td>\n",
       "      <td>43.4</td>\n",
       "      <td>0.434</td>\n",
       "    </tr>\n",
       "    <tr>\n",
       "      <th>2</th>\n",
       "      <td>10 to 20 times a day</td>\n",
       "      <td>33.0</td>\n",
       "      <td>0.330</td>\n",
       "    </tr>\n",
       "    <tr>\n",
       "      <th>3</th>\n",
       "      <td>Over 20 times a day</td>\n",
       "      <td>18.8</td>\n",
       "      <td>0.188</td>\n",
       "    </tr>\n",
       "  </tbody>\n",
       "</table>\n",
       "</div>"
      ],
      "text/plain": [
       "              Frequency  Percentage (%)  Percentage (f)\n",
       "0       Max. once a day             4.8           0.048\n",
       "1   2 to 10 times a day            43.4           0.434\n",
       "2  10 to 20 times a day            33.0           0.330\n",
       "3   Over 20 times a day            18.8           0.188"
      ]
     },
     "execution_count": 79,
     "metadata": {},
     "output_type": "execute_result"
    }
   ],
   "source": [
    "# Let's take a look at the dataframe\n",
    "social_media_use_f"
   ]
  },
  {
   "cell_type": "markdown",
   "metadata": {
    "pycharm": {
     "name": "#%% md\n"
    }
   },
   "source": [
    "The first dataframe was then completed, it represented the frequency of social media use.  \n",
    "**I then wrote the data to a csv file.**"
   ]
  },
  {
   "cell_type": "code",
   "execution_count": 80,
   "metadata": {
    "pycharm": {
     "name": "#%%\n"
    },
    "tags": []
   },
   "outputs": [],
   "source": [
    "# Setting to false stops the index from being written out\n",
    "social_media_use_f.to_csv('./data/social_media_use_f.csv', index=False)"
   ]
  },
  {
   "cell_type": "markdown",
   "metadata": {
    "pycharm": {
     "name": "#%% md\n"
    }
   },
   "source": [
    "<hr>"
   ]
  },
  {
   "cell_type": "markdown",
   "metadata": {
    "pycharm": {
     "name": "#%% md\n"
    },
    "tags": []
   },
   "source": [
    "#### Creating some functions to simplify the task."
   ]
  },
  {
   "cell_type": "markdown",
   "metadata": {
    "pycharm": {
     "name": "#%% md\n"
    }
   },
   "source": [
    "I used a similar method for creating data and adding data to the dataframe as I did above. Therefore I decided to create a set of functions that I could use, to collapse the process into 2 lines."
   ]
  },
  {
   "cell_type": "markdown",
   "metadata": {
    "pycharm": {
     "name": "#%% md\n"
    }
   },
   "source": [
    "**Below are functions that covert the data into integers, sum the data, and calculate the percentages/floats.**"
   ]
  },
  {
   "cell_type": "code",
   "execution_count": 87,
   "metadata": {
    "pycharm": {
     "name": "#%%\n"
    }
   },
   "outputs": [],
   "source": [
    "def convert_int(data):\n",
    "    temp = [int(data[x]) for x in range(0, len(data))]\n",
    "    print(\"Ints:       \", temp)\n",
    "    return temp\n",
    "\n",
    "def calc_total(data):\n",
    "    temp = sum(data)\n",
    "    print(\"Total:      \", temp)\n",
    "    return temp\n",
    "\n",
    "def calc_float(data, total):\n",
    "    temp = [float(format(data[x]/total, '.3f')) for x in range(0, len(data))]\n",
    "    print(\"Floats:     \", temp)\n",
    "    return temp\n",
    "\n",
    "def calc_per(data):\n",
    "    temp = [float(format(data[x]*100, '.3f')) for x in range(0, len(data))]\n",
    "    print(\"Percentages:\", temp)\n",
    "    return temp"
   ]
  },
  {
   "cell_type": "markdown",
   "metadata": {
    "pycharm": {
     "name": "#%% md\n"
    }
   },
   "source": [
    "<hr>"
   ]
  },
  {
   "cell_type": "markdown",
   "metadata": {
    "pycharm": {
     "name": "#%% md\n"
    },
    "tags": []
   },
   "source": [
    "#### Social media use frequency (time spent)"
   ]
  },
  {
   "cell_type": "markdown",
   "metadata": {
    "pycharm": {
     "name": "#%% md\n"
    }
   },
   "source": [
    "I used the same process that I did for the frequency, with time spent.  \n",
    "I began by creating the dataframe and inserting the first column."
   ]
  },
  {
   "cell_type": "code",
   "execution_count": 88,
   "metadata": {
    "pycharm": {
     "name": "#%%\n"
    }
   },
   "outputs": [
    {
     "data": {
      "text/html": [
       "<div>\n",
       "<style scoped>\n",
       "    .dataframe tbody tr th:only-of-type {\n",
       "        vertical-align: middle;\n",
       "    }\n",
       "\n",
       "    .dataframe tbody tr th {\n",
       "        vertical-align: top;\n",
       "    }\n",
       "\n",
       "    .dataframe thead th {\n",
       "        text-align: right;\n",
       "    }\n",
       "</style>\n",
       "<table border=\"1\" class=\"dataframe\">\n",
       "  <thead>\n",
       "    <tr style=\"text-align: right;\">\n",
       "      <th></th>\n",
       "      <th>Time Spent</th>\n",
       "    </tr>\n",
       "  </thead>\n",
       "  <tbody>\n",
       "    <tr>\n",
       "      <th>0</th>\n",
       "      <td>Less than 1 h</td>\n",
       "    </tr>\n",
       "    <tr>\n",
       "      <th>1</th>\n",
       "      <td>Between 1 and 5 h</td>\n",
       "    </tr>\n",
       "    <tr>\n",
       "      <th>2</th>\n",
       "      <td>Over 5 h</td>\n",
       "    </tr>\n",
       "  </tbody>\n",
       "</table>\n",
       "</div>"
      ],
      "text/plain": [
       "          Time Spent\n",
       "0      Less than 1 h\n",
       "1  Between 1 and 5 h\n",
       "2           Over 5 h"
      ]
     },
     "execution_count": 88,
     "metadata": {},
     "output_type": "execute_result"
    }
   ],
   "source": [
    "social_media_use_t = pd.DataFrame()\n",
    "insert_columns(0, 'Time Spent', social[7:10], social_media_use_t)\n",
    "social_media_use_t"
   ]
  },
  {
   "cell_type": "markdown",
   "metadata": {
    "pycharm": {
     "name": "#%% md\n"
    }
   },
   "source": [
    "**I then created the data for the other columns, and inserted them into the dataframe.**  \n",
    "I used the functions I created earlier."
   ]
  },
  {
   "cell_type": "code",
   "execution_count": 89,
   "metadata": {
    "pycharm": {
     "name": "#%%\n"
    }
   },
   "outputs": [
    {
     "name": "stdout",
     "output_type": "stream",
     "text": [
      "Spliced list: ['232', '1048', '51']\n"
     ]
    }
   ],
   "source": [
    "# splicing the list\n",
    "social_data_splice_t = social_data[7:10]\n",
    "print(\"Spliced list:\", social_data_splice_t)"
   ]
  },
  {
   "cell_type": "markdown",
   "metadata": {
    "pycharm": {
     "name": "#%% md\n"
    }
   },
   "source": [
    "**I used all four functions to create the data for the percentages/floats.**"
   ]
  },
  {
   "cell_type": "code",
   "execution_count": 90,
   "metadata": {
    "pycharm": {
     "name": "#%%\n"
    },
    "tags": []
   },
   "outputs": [
    {
     "name": "stdout",
     "output_type": "stream",
     "text": [
      "Ints:        [232, 1048, 51]\n",
      "Ints:        [232, 1048, 51]\n",
      "Total:       1331\n",
      "Floats:      [0.174, 0.787, 0.038]\n",
      "Ints:        [232, 1048, 51]\n",
      "Ints:        [232, 1048, 51]\n",
      "Total:       1331\n",
      "Floats:      [0.174, 0.787, 0.038]\n",
      "Percentages: [17.4, 78.7, 3.8]\n"
     ]
    }
   ],
   "source": [
    "social_data_f_t = calc_float(convert_int(social_data_splice_t), calc_total(convert_int(social_data_splice_t)))\n",
    "social_data_p_t = calc_per(calc_float(convert_int(social_data_splice_t), calc_total(convert_int(social_data_splice_t))))"
   ]
  },
  {
   "cell_type": "markdown",
   "metadata": {
    "pycharm": {
     "name": "#%% md\n"
    }
   },
   "source": [
    "**I inserted the columns:**"
   ]
  },
  {
   "cell_type": "code",
   "execution_count": 91,
   "metadata": {
    "pycharm": {
     "name": "#%%\n"
    }
   },
   "outputs": [
    {
     "data": {
      "text/html": [
       "<div>\n",
       "<style scoped>\n",
       "    .dataframe tbody tr th:only-of-type {\n",
       "        vertical-align: middle;\n",
       "    }\n",
       "\n",
       "    .dataframe tbody tr th {\n",
       "        vertical-align: top;\n",
       "    }\n",
       "\n",
       "    .dataframe thead th {\n",
       "        text-align: right;\n",
       "    }\n",
       "</style>\n",
       "<table border=\"1\" class=\"dataframe\">\n",
       "  <thead>\n",
       "    <tr style=\"text-align: right;\">\n",
       "      <th></th>\n",
       "      <th>Time Spent</th>\n",
       "      <th>Percentage (%)</th>\n",
       "      <th>Percentage (f)</th>\n",
       "    </tr>\n",
       "  </thead>\n",
       "  <tbody>\n",
       "    <tr>\n",
       "      <th>0</th>\n",
       "      <td>Less than 1 h</td>\n",
       "      <td>17.4</td>\n",
       "      <td>0.174</td>\n",
       "    </tr>\n",
       "    <tr>\n",
       "      <th>1</th>\n",
       "      <td>Between 1 and 5 h</td>\n",
       "      <td>78.7</td>\n",
       "      <td>0.787</td>\n",
       "    </tr>\n",
       "    <tr>\n",
       "      <th>2</th>\n",
       "      <td>Over 5 h</td>\n",
       "      <td>3.8</td>\n",
       "      <td>0.038</td>\n",
       "    </tr>\n",
       "  </tbody>\n",
       "</table>\n",
       "</div>"
      ],
      "text/plain": [
       "          Time Spent  Percentage (%)  Percentage (f)\n",
       "0      Less than 1 h            17.4           0.174\n",
       "1  Between 1 and 5 h            78.7           0.787\n",
       "2           Over 5 h             3.8           0.038"
      ]
     },
     "execution_count": 91,
     "metadata": {},
     "output_type": "execute_result"
    }
   ],
   "source": [
    "insert_columns(1, 'Percentage (f)', social_data_f_t, social_media_use_t)\n",
    "insert_columns(1, 'Percentage (%)', social_data_p_t, social_media_use_t)\n",
    "social_media_use_t"
   ]
  },
  {
   "cell_type": "markdown",
   "metadata": {
    "pycharm": {
     "name": "#%% md\n"
    }
   },
   "source": [
    "The second dataframe was now completed, it represented the time spent on social media."
   ]
  },
  {
   "cell_type": "markdown",
   "metadata": {
    "pycharm": {
     "name": "#%% md\n"
    }
   },
   "source": [
    "**I then wrote the data to a csv file.**"
   ]
  },
  {
   "cell_type": "code",
   "execution_count": 92,
   "metadata": {
    "pycharm": {
     "name": "#%%\n"
    }
   },
   "outputs": [],
   "source": [
    "# Setting to false stops the index from being written out\n",
    "social_media_use_t.to_csv('./data/social_media_use_t.csv', index=False)"
   ]
  },
  {
   "cell_type": "markdown",
   "metadata": {
    "pycharm": {
     "name": "#%% md\n"
    }
   },
   "source": [
    "<hr>"
   ]
  },
  {
   "cell_type": "markdown",
   "metadata": {
    "pycharm": {
     "name": "#%% md\n"
    },
    "tags": []
   },
   "source": [
    "#### Body Comparison"
   ]
  },
  {
   "cell_type": "markdown",
   "metadata": {
    "pycharm": {
     "name": "#%% md\n"
    }
   },
   "source": [
    "I then extracted the data I needed to create a body comparison dataframe. The process of extracting and cleaning the data was the same as before.  \n",
    "\n",
    "**First I created the dataframe.**"
   ]
  },
  {
   "cell_type": "code",
   "execution_count": 96,
   "metadata": {
    "pycharm": {
     "name": "#%%\n"
    }
   },
   "outputs": [],
   "source": [
    "body_comparison = pd.DataFrame()"
   ]
  },
  {
   "cell_type": "markdown",
   "metadata": {
    "pycharm": {
     "name": "#%% md\n"
    }
   },
   "source": [
    "**I then created the first column.**  \n",
    "I utilised the same **create_data()** function I created for the purpose of extracting data from this source. Just like in the previous two dataframes. I am used the **insert_columns()** function I created earlier. The functions made the process a lot faster and easier."
   ]
  },
  {
   "cell_type": "code",
   "execution_count": 97,
   "metadata": {
    "pycharm": {
     "name": "#%%\n"
    }
   },
   "outputs": [],
   "source": [
    "bc = create_data(24, 30, 'c')\n",
    "insert_columns(0, 'Body Comparison', bc[1:], body_comparison)"
   ]
  },
  {
   "cell_type": "code",
   "execution_count": 98,
   "metadata": {
    "pycharm": {
     "name": "#%%\n"
    }
   },
   "outputs": [
    {
     "data": {
      "text/html": [
       "<div>\n",
       "<style scoped>\n",
       "    .dataframe tbody tr th:only-of-type {\n",
       "        vertical-align: middle;\n",
       "    }\n",
       "\n",
       "    .dataframe tbody tr th {\n",
       "        vertical-align: top;\n",
       "    }\n",
       "\n",
       "    .dataframe thead th {\n",
       "        text-align: right;\n",
       "    }\n",
       "</style>\n",
       "<table border=\"1\" class=\"dataframe\">\n",
       "  <thead>\n",
       "    <tr style=\"text-align: right;\">\n",
       "      <th></th>\n",
       "      <th>Body Comparison</th>\n",
       "    </tr>\n",
       "  </thead>\n",
       "  <tbody>\n",
       "    <tr>\n",
       "      <th>0</th>\n",
       "      <td>Never</td>\n",
       "    </tr>\n",
       "    <tr>\n",
       "      <th>1</th>\n",
       "      <td>Seldom</td>\n",
       "    </tr>\n",
       "    <tr>\n",
       "      <th>2</th>\n",
       "      <td>Sometimes</td>\n",
       "    </tr>\n",
       "    <tr>\n",
       "      <th>3</th>\n",
       "      <td>Often</td>\n",
       "    </tr>\n",
       "    <tr>\n",
       "      <th>4</th>\n",
       "      <td>Always</td>\n",
       "    </tr>\n",
       "  </tbody>\n",
       "</table>\n",
       "</div>"
      ],
      "text/plain": [
       "  Body Comparison\n",
       "0           Never\n",
       "1          Seldom\n",
       "2       Sometimes\n",
       "3           Often\n",
       "4          Always"
      ]
     },
     "execution_count": 98,
     "metadata": {},
     "output_type": "execute_result"
    }
   ],
   "source": [
    "# Let's see the dataframe so far\n",
    "body_comparison"
   ]
  },
  {
   "cell_type": "markdown",
   "metadata": {
    "pycharm": {
     "name": "#%% md\n"
    }
   },
   "source": [
    "**I then moved on to the next two columns by creating the data using the functions created above.**"
   ]
  },
  {
   "cell_type": "code",
   "execution_count": 99,
   "metadata": {
    "pycharm": {
     "name": "#%%\n"
    },
    "tags": []
   },
   "outputs": [
    {
     "name": "stdout",
     "output_type": "stream",
     "text": [
      "Ints:        [33, 114, 317, 523, 344]\n",
      "Ints:        [33, 114, 317, 523, 344]\n",
      "Total:       1331\n",
      "Floats:      [0.025, 0.086, 0.238, 0.393, 0.258]\n",
      "Ints:        [33, 114, 317, 523, 344]\n",
      "Ints:        [33, 114, 317, 523, 344]\n",
      "Total:       1331\n",
      "Floats:      [0.025, 0.086, 0.238, 0.393, 0.258]\n",
      "Percentages: [2.5, 8.6, 23.8, 39.3, 25.8]\n"
     ]
    }
   ],
   "source": [
    "bc_data = create_data(25, 30, 'f')\n",
    "bc_data_f = calc_float(convert_int(bc_data), calc_total(convert_int(bc_data)))\n",
    "bc_data_p = calc_per(calc_float(convert_int(bc_data), calc_total(convert_int(bc_data))))"
   ]
  },
  {
   "cell_type": "markdown",
   "metadata": {
    "pycharm": {
     "name": "#%% md\n"
    }
   },
   "source": [
    "**I then added the data to the dataframe.**"
   ]
  },
  {
   "cell_type": "code",
   "execution_count": 100,
   "metadata": {
    "pycharm": {
     "name": "#%%\n"
    }
   },
   "outputs": [],
   "source": [
    "insert_columns(1, 'Percentage (f)', bc_data_f, body_comparison)\n",
    "insert_columns(1, 'Percentage (%)', bc_data_p, body_comparison)"
   ]
  },
  {
   "cell_type": "code",
   "execution_count": 101,
   "metadata": {
    "pycharm": {
     "name": "#%%\n"
    }
   },
   "outputs": [
    {
     "data": {
      "text/html": [
       "<div>\n",
       "<style scoped>\n",
       "    .dataframe tbody tr th:only-of-type {\n",
       "        vertical-align: middle;\n",
       "    }\n",
       "\n",
       "    .dataframe tbody tr th {\n",
       "        vertical-align: top;\n",
       "    }\n",
       "\n",
       "    .dataframe thead th {\n",
       "        text-align: right;\n",
       "    }\n",
       "</style>\n",
       "<table border=\"1\" class=\"dataframe\">\n",
       "  <thead>\n",
       "    <tr style=\"text-align: right;\">\n",
       "      <th></th>\n",
       "      <th>Body Comparison</th>\n",
       "      <th>Percentage (%)</th>\n",
       "      <th>Percentage (f)</th>\n",
       "    </tr>\n",
       "  </thead>\n",
       "  <tbody>\n",
       "    <tr>\n",
       "      <th>0</th>\n",
       "      <td>Never</td>\n",
       "      <td>2.5</td>\n",
       "      <td>0.025</td>\n",
       "    </tr>\n",
       "    <tr>\n",
       "      <th>1</th>\n",
       "      <td>Seldom</td>\n",
       "      <td>8.6</td>\n",
       "      <td>0.086</td>\n",
       "    </tr>\n",
       "    <tr>\n",
       "      <th>2</th>\n",
       "      <td>Sometimes</td>\n",
       "      <td>23.8</td>\n",
       "      <td>0.238</td>\n",
       "    </tr>\n",
       "    <tr>\n",
       "      <th>3</th>\n",
       "      <td>Often</td>\n",
       "      <td>39.3</td>\n",
       "      <td>0.393</td>\n",
       "    </tr>\n",
       "    <tr>\n",
       "      <th>4</th>\n",
       "      <td>Always</td>\n",
       "      <td>25.8</td>\n",
       "      <td>0.258</td>\n",
       "    </tr>\n",
       "  </tbody>\n",
       "</table>\n",
       "</div>"
      ],
      "text/plain": [
       "  Body Comparison  Percentage (%)  Percentage (f)\n",
       "0           Never             2.5           0.025\n",
       "1          Seldom             8.6           0.086\n",
       "2       Sometimes            23.8           0.238\n",
       "3           Often            39.3           0.393\n",
       "4          Always            25.8           0.258"
      ]
     },
     "execution_count": 101,
     "metadata": {},
     "output_type": "execute_result"
    }
   ],
   "source": [
    "body_comparison"
   ]
  },
  {
   "cell_type": "markdown",
   "metadata": {
    "pycharm": {
     "name": "#%% md\n"
    }
   },
   "source": [
    "The third dataframe from this set of data was then completed, it represented how often people compare their bodies to others."
   ]
  },
  {
   "cell_type": "markdown",
   "metadata": {
    "pycharm": {
     "name": "#%% md\n"
    }
   },
   "source": [
    "**I then wrote the data to a csv file.**"
   ]
  },
  {
   "cell_type": "code",
   "execution_count": 102,
   "metadata": {
    "pycharm": {
     "name": "#%%\n"
    }
   },
   "outputs": [],
   "source": [
    "# Setting to false stops the index from being written out\n",
    "body_comparison.to_csv('./data/body_comparison.csv', index=False)"
   ]
  },
  {
   "cell_type": "markdown",
   "metadata": {
    "pycharm": {
     "name": "#%% md\n"
    }
   },
   "source": [
    "<hr>"
   ]
  },
  {
   "cell_type": "markdown",
   "metadata": {
    "pycharm": {
     "name": "#%% md\n"
    },
    "tags": []
   },
   "source": [
    "#### Posting Selfies"
   ]
  },
  {
   "cell_type": "markdown",
   "metadata": {
    "pycharm": {
     "name": "#%% md\n"
    }
   },
   "source": [
    "This was the last group of data that I created from the records dataframe.  \n",
    "I extracted the data I needed to create a posting selfies dataframe. The process of extracting and cleaning the data was identical to before."
   ]
  },
  {
   "cell_type": "markdown",
   "metadata": {
    "pycharm": {
     "name": "#%% md\n"
    }
   },
   "source": [
    "**First I created the dataframe.**"
   ]
  },
  {
   "cell_type": "code",
   "execution_count": 105,
   "metadata": {
    "pycharm": {
     "name": "#%%\n"
    }
   },
   "outputs": [],
   "source": [
    "posting_selfies = pd.DataFrame()"
   ]
  },
  {
   "cell_type": "markdown",
   "metadata": {
    "pycharm": {
     "name": "#%% md\n"
    }
   },
   "source": [
    "**I then created the first column.**  \n",
    "I used the **create_data()** and **insert_columns()** functions I created before."
   ]
  },
  {
   "cell_type": "code",
   "execution_count": 106,
   "metadata": {
    "pycharm": {
     "name": "#%%\n"
    }
   },
   "outputs": [
    {
     "data": {
      "text/html": [
       "<div>\n",
       "<style scoped>\n",
       "    .dataframe tbody tr th:only-of-type {\n",
       "        vertical-align: middle;\n",
       "    }\n",
       "\n",
       "    .dataframe tbody tr th {\n",
       "        vertical-align: top;\n",
       "    }\n",
       "\n",
       "    .dataframe thead th {\n",
       "        text-align: right;\n",
       "    }\n",
       "</style>\n",
       "<table border=\"1\" class=\"dataframe\">\n",
       "  <thead>\n",
       "    <tr style=\"text-align: right;\">\n",
       "      <th></th>\n",
       "      <th>Posting Selfies</th>\n",
       "    </tr>\n",
       "  </thead>\n",
       "  <tbody>\n",
       "    <tr>\n",
       "      <th>0</th>\n",
       "      <td>Never</td>\n",
       "    </tr>\n",
       "    <tr>\n",
       "      <th>1</th>\n",
       "      <td>1 or 2 times a month</td>\n",
       "    </tr>\n",
       "    <tr>\n",
       "      <th>2</th>\n",
       "      <td>Once a week</td>\n",
       "    </tr>\n",
       "    <tr>\n",
       "      <th>3</th>\n",
       "      <td>3 to 4 times a week</td>\n",
       "    </tr>\n",
       "  </tbody>\n",
       "</table>\n",
       "</div>"
      ],
      "text/plain": [
       "        Posting Selfies\n",
       "0                 Never\n",
       "1  1 or 2 times a month\n",
       "2           Once a week\n",
       "3   3 to 4 times a week"
      ]
     },
     "execution_count": 106,
     "metadata": {},
     "output_type": "execute_result"
    }
   ],
   "source": [
    "ps = create_data(31, 35)\n",
    "insert_columns(0, 'Posting Selfies', ps, posting_selfies)\n",
    "# Let's see the dataframe so far\n",
    "posting_selfies"
   ]
  },
  {
   "cell_type": "markdown",
   "metadata": {
    "pycharm": {
     "name": "#%% md\n"
    }
   },
   "source": [
    "**I then created the next two columns, used the five functions, and then I added them to the dataframe.**"
   ]
  },
  {
   "cell_type": "code",
   "execution_count": 107,
   "metadata": {
    "pycharm": {
     "name": "#%%\n"
    },
    "tags": []
   },
   "outputs": [
    {
     "name": "stdout",
     "output_type": "stream",
     "text": [
      "Ints:        [457, 756, 93, 18]\n",
      "Ints:        [457, 756, 93, 18]\n",
      "Total:       1324\n",
      "Floats:      [0.345, 0.571, 0.07, 0.014]\n",
      "Ints:        [457, 756, 93, 18]\n",
      "Ints:        [457, 756, 93, 18]\n",
      "Total:       1324\n",
      "Floats:      [0.345, 0.571, 0.07, 0.014]\n",
      "Percentages: [34.5, 57.1, 7.0, 1.4]\n"
     ]
    }
   ],
   "source": [
    "# creating the data\n",
    "ps_data = create_data(31, 35, 'f')\n",
    "\n",
    "# calculating the float and percentages\n",
    "ps_data_f = calc_float(convert_int(ps_data), calc_total(convert_int(ps_data)))\n",
    "ps_data_p = calc_per(calc_float(convert_int(ps_data), calc_total(convert_int(ps_data))))\n",
    "\n",
    "# inserting them into the dataframe\n",
    "insert_columns(1, 'Percentage (f)', ps_data_f, posting_selfies)\n",
    "insert_columns(1, 'Percentage (%)', ps_data_p, posting_selfies)"
   ]
  },
  {
   "cell_type": "code",
   "execution_count": 108,
   "metadata": {
    "pycharm": {
     "name": "#%%\n"
    }
   },
   "outputs": [
    {
     "data": {
      "text/html": [
       "<div>\n",
       "<style scoped>\n",
       "    .dataframe tbody tr th:only-of-type {\n",
       "        vertical-align: middle;\n",
       "    }\n",
       "\n",
       "    .dataframe tbody tr th {\n",
       "        vertical-align: top;\n",
       "    }\n",
       "\n",
       "    .dataframe thead th {\n",
       "        text-align: right;\n",
       "    }\n",
       "</style>\n",
       "<table border=\"1\" class=\"dataframe\">\n",
       "  <thead>\n",
       "    <tr style=\"text-align: right;\">\n",
       "      <th></th>\n",
       "      <th>Posting Selfies</th>\n",
       "      <th>Percentage (%)</th>\n",
       "      <th>Percentage (f)</th>\n",
       "    </tr>\n",
       "  </thead>\n",
       "  <tbody>\n",
       "    <tr>\n",
       "      <th>0</th>\n",
       "      <td>Never</td>\n",
       "      <td>34.5</td>\n",
       "      <td>0.345</td>\n",
       "    </tr>\n",
       "    <tr>\n",
       "      <th>1</th>\n",
       "      <td>1 or 2 times a month</td>\n",
       "      <td>57.1</td>\n",
       "      <td>0.571</td>\n",
       "    </tr>\n",
       "    <tr>\n",
       "      <th>2</th>\n",
       "      <td>Once a week</td>\n",
       "      <td>7.0</td>\n",
       "      <td>0.070</td>\n",
       "    </tr>\n",
       "    <tr>\n",
       "      <th>3</th>\n",
       "      <td>3 to 4 times a week</td>\n",
       "      <td>1.4</td>\n",
       "      <td>0.014</td>\n",
       "    </tr>\n",
       "  </tbody>\n",
       "</table>\n",
       "</div>"
      ],
      "text/plain": [
       "        Posting Selfies  Percentage (%)  Percentage (f)\n",
       "0                 Never            34.5           0.345\n",
       "1  1 or 2 times a month            57.1           0.571\n",
       "2           Once a week             7.0           0.070\n",
       "3   3 to 4 times a week             1.4           0.014"
      ]
     },
     "execution_count": 108,
     "metadata": {},
     "output_type": "execute_result"
    }
   ],
   "source": [
    "posting_selfies"
   ]
  },
  {
   "cell_type": "markdown",
   "metadata": {
    "pycharm": {
     "name": "#%% md\n"
    }
   },
   "source": [
    "The last dataframe from this set of data was now completed, it represented how often people post selfies online."
   ]
  },
  {
   "cell_type": "markdown",
   "metadata": {
    "pycharm": {
     "name": "#%% md\n"
    }
   },
   "source": [
    "**I then wrote the data to a csv file.**"
   ]
  },
  {
   "cell_type": "code",
   "execution_count": 109,
   "metadata": {
    "pycharm": {
     "name": "#%%\n"
    }
   },
   "outputs": [],
   "source": [
    "# Setting to false stops the index from being written out\n",
    "posting_selfies.to_csv('./data/posting_selfies.csv', index=False)"
   ]
  },
  {
   "cell_type": "markdown",
   "metadata": {
    "pycharm": {
     "name": "#%% md\n"
    }
   },
   "source": [
    "<hr>"
   ]
  },
  {
   "cell_type": "markdown",
   "metadata": {
    "pycharm": {
     "name": "#%% md\n"
    },
    "tags": []
   },
   "source": [
    "## 2.2 Transforming excel files"
   ]
  },
  {
   "cell_type": "markdown",
   "metadata": {
    "pycharm": {
     "name": "#%% md\n"
    },
    "tags": []
   },
   "source": [
    "### URL[3] | Suffering from anxiety"
   ]
  },
  {
   "cell_type": "markdown",
   "metadata": {
    "pycharm": {
     "name": "#%% md\n"
    },
    "tags": []
   },
   "source": [
    "#### Number of Gen Z that suffer from nerves, anxiety, and more in the US in 2020\n",
    "This source contains data on the percentage of people that feel nervous, anxious, or on edge more than half of the days or daily.  \n",
    "The data is in the form of an excel spreadsheet. I started by creating a function, so that I could repeat this process with ease."
   ]
  },
  {
   "cell_type": "markdown",
   "metadata": {
    "pycharm": {
     "name": "#%% md\n"
    }
   },
   "source": [
    "**Importing excel files**"
   ]
  },
  {
   "cell_type": "code",
   "execution_count": 127,
   "metadata": {
    "pycharm": {
     "name": "#%%\n"
    }
   },
   "outputs": [],
   "source": [
    "def import_excel(fn):\n",
    "    temp = pd.read_excel(f'./data/{fn}.xlsx')\n",
    "    return temp"
   ]
  },
  {
   "cell_type": "markdown",
   "metadata": {
    "pycharm": {
     "name": "#%% md\n"
    }
   },
   "source": [
    "**I first imported the file.**"
   ]
  },
  {
   "cell_type": "code",
   "execution_count": 128,
   "metadata": {
    "pycharm": {
     "name": "#%%\n"
    }
   },
   "outputs": [],
   "source": [
    "df_3 = import_excel('suffering_from_anxiety')"
   ]
  },
  {
   "cell_type": "markdown",
   "metadata": {
    "pycharm": {
     "name": "#%% md\n"
    }
   },
   "source": [
    "I then displayed the table."
   ]
  },
  {
   "cell_type": "code",
   "execution_count": 129,
   "metadata": {
    "pycharm": {
     "name": "#%%\n"
    },
    "tags": []
   },
   "outputs": [
    {
     "data": {
      "text/html": [
       "<div>\n",
       "<style scoped>\n",
       "    .dataframe tbody tr th:only-of-type {\n",
       "        vertical-align: middle;\n",
       "    }\n",
       "\n",
       "    .dataframe tbody tr th {\n",
       "        vertical-align: top;\n",
       "    }\n",
       "\n",
       "    .dataframe thead th {\n",
       "        text-align: right;\n",
       "    }\n",
       "</style>\n",
       "<table border=\"1\" class=\"dataframe\">\n",
       "  <thead>\n",
       "    <tr style=\"text-align: right;\">\n",
       "      <th></th>\n",
       "      <th>LocationType</th>\n",
       "      <th>Location</th>\n",
       "      <th>TimeFrame</th>\n",
       "      <th>DataFormat</th>\n",
       "      <th>Data</th>\n",
       "    </tr>\n",
       "  </thead>\n",
       "  <tbody>\n",
       "    <tr>\n",
       "      <th>0</th>\n",
       "      <td>Nation</td>\n",
       "      <td>United States</td>\n",
       "      <td>Apr 23-May 12, 2020</td>\n",
       "      <td>Percent</td>\n",
       "      <td>0.39</td>\n",
       "    </tr>\n",
       "    <tr>\n",
       "      <th>1</th>\n",
       "      <td>Nation</td>\n",
       "      <td>United States</td>\n",
       "      <td>May 7-May 19, 2020</td>\n",
       "      <td>Percent</td>\n",
       "      <td>0.38</td>\n",
       "    </tr>\n",
       "    <tr>\n",
       "      <th>2</th>\n",
       "      <td>Nation</td>\n",
       "      <td>United States</td>\n",
       "      <td>May 14-May 26, 2020</td>\n",
       "      <td>Percent</td>\n",
       "      <td>0.37</td>\n",
       "    </tr>\n",
       "    <tr>\n",
       "      <th>3</th>\n",
       "      <td>Nation</td>\n",
       "      <td>United States</td>\n",
       "      <td>May 21-Jun 2, 2020</td>\n",
       "      <td>Percent</td>\n",
       "      <td>0.39</td>\n",
       "    </tr>\n",
       "    <tr>\n",
       "      <th>4</th>\n",
       "      <td>Nation</td>\n",
       "      <td>United States</td>\n",
       "      <td>May 28-Jun 9, 2020</td>\n",
       "      <td>Percent</td>\n",
       "      <td>0.39</td>\n",
       "    </tr>\n",
       "    <tr>\n",
       "      <th>...</th>\n",
       "      <td>...</td>\n",
       "      <td>...</td>\n",
       "      <td>...</td>\n",
       "      <td>...</td>\n",
       "      <td>...</td>\n",
       "    </tr>\n",
       "    <tr>\n",
       "      <th>1503</th>\n",
       "      <td>State</td>\n",
       "      <td>Wyoming</td>\n",
       "      <td>Jun 4-Jun 16, 2020</td>\n",
       "      <td>Percent</td>\n",
       "      <td>0.52</td>\n",
       "    </tr>\n",
       "    <tr>\n",
       "      <th>1504</th>\n",
       "      <td>State</td>\n",
       "      <td>Wyoming</td>\n",
       "      <td>Apr 23-May 12, 2020</td>\n",
       "      <td>Percent</td>\n",
       "      <td>S</td>\n",
       "    </tr>\n",
       "    <tr>\n",
       "      <th>1505</th>\n",
       "      <td>State</td>\n",
       "      <td>Wyoming</td>\n",
       "      <td>May 7-May 19, 2020</td>\n",
       "      <td>Percent</td>\n",
       "      <td>S</td>\n",
       "    </tr>\n",
       "    <tr>\n",
       "      <th>1506</th>\n",
       "      <td>State</td>\n",
       "      <td>Wyoming</td>\n",
       "      <td>May 14-May 26, 2020</td>\n",
       "      <td>Percent</td>\n",
       "      <td>S</td>\n",
       "    </tr>\n",
       "    <tr>\n",
       "      <th>1507</th>\n",
       "      <td>State</td>\n",
       "      <td>Wyoming</td>\n",
       "      <td>May 21-Jun 2, 2020</td>\n",
       "      <td>Percent</td>\n",
       "      <td>S</td>\n",
       "    </tr>\n",
       "  </tbody>\n",
       "</table>\n",
       "<p>1508 rows × 5 columns</p>\n",
       "</div>"
      ],
      "text/plain": [
       "     LocationType       Location            TimeFrame DataFormat  Data\n",
       "0          Nation  United States  Apr 23-May 12, 2020    Percent  0.39\n",
       "1          Nation  United States   May 7-May 19, 2020    Percent  0.38\n",
       "2          Nation  United States  May 14-May 26, 2020    Percent  0.37\n",
       "3          Nation  United States   May 21-Jun 2, 2020    Percent  0.39\n",
       "4          Nation  United States   May 28-Jun 9, 2020    Percent  0.39\n",
       "...           ...            ...                  ...        ...   ...\n",
       "1503        State        Wyoming   Jun 4-Jun 16, 2020    Percent  0.52\n",
       "1504        State        Wyoming  Apr 23-May 12, 2020    Percent     S\n",
       "1505        State        Wyoming   May 7-May 19, 2020    Percent     S\n",
       "1506        State        Wyoming  May 14-May 26, 2020    Percent     S\n",
       "1507        State        Wyoming   May 21-Jun 2, 2020    Percent     S\n",
       "\n",
       "[1508 rows x 5 columns]"
      ]
     },
     "execution_count": 129,
     "metadata": {},
     "output_type": "execute_result"
    }
   ],
   "source": [
    "df_3"
   ]
  },
  {
   "cell_type": "markdown",
   "metadata": {
    "pycharm": {
     "name": "#%% md\n"
    }
   },
   "source": [
    "**After looking through the data, I saw that there was a lot of NaN data, so I got rid of them.**"
   ]
  },
  {
   "cell_type": "code",
   "execution_count": 130,
   "metadata": {
    "pycharm": {
     "name": "#%%\n"
    },
    "tags": []
   },
   "outputs": [
    {
     "data": {
      "text/html": [
       "<div>\n",
       "<style scoped>\n",
       "    .dataframe tbody tr th:only-of-type {\n",
       "        vertical-align: middle;\n",
       "    }\n",
       "\n",
       "    .dataframe tbody tr th {\n",
       "        vertical-align: top;\n",
       "    }\n",
       "\n",
       "    .dataframe thead th {\n",
       "        text-align: right;\n",
       "    }\n",
       "</style>\n",
       "<table border=\"1\" class=\"dataframe\">\n",
       "  <thead>\n",
       "    <tr style=\"text-align: right;\">\n",
       "      <th></th>\n",
       "      <th>LocationType</th>\n",
       "      <th>Location</th>\n",
       "      <th>TimeFrame</th>\n",
       "      <th>DataFormat</th>\n",
       "      <th>Data</th>\n",
       "    </tr>\n",
       "  </thead>\n",
       "  <tbody>\n",
       "    <tr>\n",
       "      <th>29</th>\n",
       "      <td>State</td>\n",
       "      <td>Alabama</td>\n",
       "      <td>Jun 09-Jul 05, 2021</td>\n",
       "      <td>Percent</td>\n",
       "      <td>S</td>\n",
       "    </tr>\n",
       "    <tr>\n",
       "      <th>30</th>\n",
       "      <td>State</td>\n",
       "      <td>Alabama</td>\n",
       "      <td>May 26-Jun 21, 2021</td>\n",
       "      <td>Percent</td>\n",
       "      <td>S</td>\n",
       "    </tr>\n",
       "    <tr>\n",
       "      <th>31</th>\n",
       "      <td>State</td>\n",
       "      <td>Alabama</td>\n",
       "      <td>May 12-Jun 07, 2021</td>\n",
       "      <td>Percent</td>\n",
       "      <td>S</td>\n",
       "    </tr>\n",
       "    <tr>\n",
       "      <th>32</th>\n",
       "      <td>State</td>\n",
       "      <td>Alabama</td>\n",
       "      <td>Apr 28-May 24, 2021</td>\n",
       "      <td>Percent</td>\n",
       "      <td>S</td>\n",
       "    </tr>\n",
       "    <tr>\n",
       "      <th>33</th>\n",
       "      <td>State</td>\n",
       "      <td>Alabama</td>\n",
       "      <td>Apr 14-May 10, 2021</td>\n",
       "      <td>Percent</td>\n",
       "      <td>S</td>\n",
       "    </tr>\n",
       "    <tr>\n",
       "      <th>...</th>\n",
       "      <td>...</td>\n",
       "      <td>...</td>\n",
       "      <td>...</td>\n",
       "      <td>...</td>\n",
       "      <td>...</td>\n",
       "    </tr>\n",
       "    <tr>\n",
       "      <th>1502</th>\n",
       "      <td>State</td>\n",
       "      <td>Wyoming</td>\n",
       "      <td>May 28-Jun 9, 2020</td>\n",
       "      <td>Percent</td>\n",
       "      <td>S</td>\n",
       "    </tr>\n",
       "    <tr>\n",
       "      <th>1504</th>\n",
       "      <td>State</td>\n",
       "      <td>Wyoming</td>\n",
       "      <td>Apr 23-May 12, 2020</td>\n",
       "      <td>Percent</td>\n",
       "      <td>S</td>\n",
       "    </tr>\n",
       "    <tr>\n",
       "      <th>1505</th>\n",
       "      <td>State</td>\n",
       "      <td>Wyoming</td>\n",
       "      <td>May 7-May 19, 2020</td>\n",
       "      <td>Percent</td>\n",
       "      <td>S</td>\n",
       "    </tr>\n",
       "    <tr>\n",
       "      <th>1506</th>\n",
       "      <td>State</td>\n",
       "      <td>Wyoming</td>\n",
       "      <td>May 14-May 26, 2020</td>\n",
       "      <td>Percent</td>\n",
       "      <td>S</td>\n",
       "    </tr>\n",
       "    <tr>\n",
       "      <th>1507</th>\n",
       "      <td>State</td>\n",
       "      <td>Wyoming</td>\n",
       "      <td>May 21-Jun 2, 2020</td>\n",
       "      <td>Percent</td>\n",
       "      <td>S</td>\n",
       "    </tr>\n",
       "  </tbody>\n",
       "</table>\n",
       "<p>567 rows × 5 columns</p>\n",
       "</div>"
      ],
      "text/plain": [
       "     LocationType Location            TimeFrame DataFormat Data\n",
       "29          State  Alabama  Jun 09-Jul 05, 2021    Percent    S\n",
       "30          State  Alabama  May 26-Jun 21, 2021    Percent    S\n",
       "31          State  Alabama  May 12-Jun 07, 2021    Percent    S\n",
       "32          State  Alabama  Apr 28-May 24, 2021    Percent    S\n",
       "33          State  Alabama  Apr 14-May 10, 2021    Percent    S\n",
       "...           ...      ...                  ...        ...  ...\n",
       "1502        State  Wyoming   May 28-Jun 9, 2020    Percent    S\n",
       "1504        State  Wyoming  Apr 23-May 12, 2020    Percent    S\n",
       "1505        State  Wyoming   May 7-May 19, 2020    Percent    S\n",
       "1506        State  Wyoming  May 14-May 26, 2020    Percent    S\n",
       "1507        State  Wyoming   May 21-Jun 2, 2020    Percent    S\n",
       "\n",
       "[567 rows x 5 columns]"
      ]
     },
     "execution_count": 130,
     "metadata": {},
     "output_type": "execute_result"
    }
   ],
   "source": [
    "df_3[df_3['Data'] == 'S']"
   ]
  },
  {
   "cell_type": "code",
   "execution_count": 131,
   "metadata": {
    "pycharm": {
     "name": "#%%\n"
    }
   },
   "outputs": [],
   "source": [
    "df_3 = df_3.drop(df_3[df_3['Data'] == 'S'].index)"
   ]
  },
  {
   "cell_type": "code",
   "execution_count": 132,
   "metadata": {
    "pycharm": {
     "name": "#%%\n"
    }
   },
   "outputs": [
    {
     "data": {
      "text/plain": [
       "(941, 5)"
      ]
     },
     "execution_count": 132,
     "metadata": {},
     "output_type": "execute_result"
    }
   ],
   "source": [
    "df_3.shape"
   ]
  },
  {
   "cell_type": "code",
   "execution_count": 133,
   "metadata": {
    "pycharm": {
     "name": "#%%\n"
    },
    "tags": []
   },
   "outputs": [
    {
     "data": {
      "text/html": [
       "<div>\n",
       "<style scoped>\n",
       "    .dataframe tbody tr th:only-of-type {\n",
       "        vertical-align: middle;\n",
       "    }\n",
       "\n",
       "    .dataframe tbody tr th {\n",
       "        vertical-align: top;\n",
       "    }\n",
       "\n",
       "    .dataframe thead th {\n",
       "        text-align: right;\n",
       "    }\n",
       "</style>\n",
       "<table border=\"1\" class=\"dataframe\">\n",
       "  <thead>\n",
       "    <tr style=\"text-align: right;\">\n",
       "      <th></th>\n",
       "      <th>LocationType</th>\n",
       "      <th>Location</th>\n",
       "      <th>TimeFrame</th>\n",
       "      <th>DataFormat</th>\n",
       "      <th>Data</th>\n",
       "    </tr>\n",
       "  </thead>\n",
       "  <tbody>\n",
       "    <tr>\n",
       "      <th>34</th>\n",
       "      <td>State</td>\n",
       "      <td>Alabama</td>\n",
       "      <td>Mar 3-Mar 29, 2021</td>\n",
       "      <td>Percent</td>\n",
       "      <td>0.63</td>\n",
       "    </tr>\n",
       "    <tr>\n",
       "      <th>39</th>\n",
       "      <td>State</td>\n",
       "      <td>Alabama</td>\n",
       "      <td>Nov 25-Dec 21, 2020</td>\n",
       "      <td>Percent</td>\n",
       "      <td>0.31</td>\n",
       "    </tr>\n",
       "    <tr>\n",
       "      <th>40</th>\n",
       "      <td>State</td>\n",
       "      <td>Alabama</td>\n",
       "      <td>Oct 14-Nov 9, 2020</td>\n",
       "      <td>Percent</td>\n",
       "      <td>0.51</td>\n",
       "    </tr>\n",
       "    <tr>\n",
       "      <th>43</th>\n",
       "      <td>State</td>\n",
       "      <td>Alabama</td>\n",
       "      <td>Sep 16-Oct 12, 2020</td>\n",
       "      <td>Percent</td>\n",
       "      <td>0.4</td>\n",
       "    </tr>\n",
       "    <tr>\n",
       "      <th>44</th>\n",
       "      <td>State</td>\n",
       "      <td>Alabama</td>\n",
       "      <td>Sep 30-Oct 26, 2020</td>\n",
       "      <td>Percent</td>\n",
       "      <td>0.5</td>\n",
       "    </tr>\n",
       "    <tr>\n",
       "      <th>...</th>\n",
       "      <td>...</td>\n",
       "      <td>...</td>\n",
       "      <td>...</td>\n",
       "      <td>...</td>\n",
       "      <td>...</td>\n",
       "    </tr>\n",
       "    <tr>\n",
       "      <th>1493</th>\n",
       "      <td>State</td>\n",
       "      <td>Wyoming</td>\n",
       "      <td>Oct 14-Nov 9, 2020</td>\n",
       "      <td>Percent</td>\n",
       "      <td>0.13</td>\n",
       "    </tr>\n",
       "    <tr>\n",
       "      <th>1494</th>\n",
       "      <td>State</td>\n",
       "      <td>Wyoming</td>\n",
       "      <td>Sep 2-Sep 28, 2020</td>\n",
       "      <td>Percent</td>\n",
       "      <td>0.46</td>\n",
       "    </tr>\n",
       "    <tr>\n",
       "      <th>1496</th>\n",
       "      <td>State</td>\n",
       "      <td>Wyoming</td>\n",
       "      <td>Jul 9-Jul 21, 2020</td>\n",
       "      <td>Percent</td>\n",
       "      <td>0.42</td>\n",
       "    </tr>\n",
       "    <tr>\n",
       "      <th>1497</th>\n",
       "      <td>State</td>\n",
       "      <td>Wyoming</td>\n",
       "      <td>Aug 19-Sep 14, 2020</td>\n",
       "      <td>Percent</td>\n",
       "      <td>0.4</td>\n",
       "    </tr>\n",
       "    <tr>\n",
       "      <th>1503</th>\n",
       "      <td>State</td>\n",
       "      <td>Wyoming</td>\n",
       "      <td>Jun 4-Jun 16, 2020</td>\n",
       "      <td>Percent</td>\n",
       "      <td>0.52</td>\n",
       "    </tr>\n",
       "  </tbody>\n",
       "</table>\n",
       "<p>912 rows × 5 columns</p>\n",
       "</div>"
      ],
      "text/plain": [
       "     LocationType Location            TimeFrame DataFormat  Data\n",
       "34          State  Alabama   Mar 3-Mar 29, 2021    Percent  0.63\n",
       "39          State  Alabama  Nov 25-Dec 21, 2020    Percent  0.31\n",
       "40          State  Alabama   Oct 14-Nov 9, 2020    Percent  0.51\n",
       "43          State  Alabama  Sep 16-Oct 12, 2020    Percent   0.4\n",
       "44          State  Alabama  Sep 30-Oct 26, 2020    Percent   0.5\n",
       "...           ...      ...                  ...        ...   ...\n",
       "1493        State  Wyoming   Oct 14-Nov 9, 2020    Percent  0.13\n",
       "1494        State  Wyoming   Sep 2-Sep 28, 2020    Percent  0.46\n",
       "1496        State  Wyoming   Jul 9-Jul 21, 2020    Percent  0.42\n",
       "1497        State  Wyoming  Aug 19-Sep 14, 2020    Percent   0.4\n",
       "1503        State  Wyoming   Jun 4-Jun 16, 2020    Percent  0.52\n",
       "\n",
       "[912 rows x 5 columns]"
      ]
     },
     "execution_count": 133,
     "metadata": {},
     "output_type": "execute_result"
    }
   ],
   "source": [
    "df_3[df_3['Location'] != 'United States']"
   ]
  },
  {
   "cell_type": "markdown",
   "metadata": {
    "pycharm": {
     "name": "#%% md\n"
    }
   },
   "source": [
    "Once I got rid of all the empty data, I then proceeded to remove the data pertaining to individual states, as I felt that it wasn't necessary to analyse individual states for this particular proposal."
   ]
  },
  {
   "cell_type": "code",
   "execution_count": 134,
   "metadata": {
    "pycharm": {
     "name": "#%%\n"
    }
   },
   "outputs": [],
   "source": [
    "df_3 = df_3.drop(df_3[df_3['Location'] != 'United States'].index)"
   ]
  },
  {
   "cell_type": "code",
   "execution_count": 135,
   "metadata": {
    "pycharm": {
     "name": "#%%\n"
    },
    "tags": []
   },
   "outputs": [
    {
     "data": {
      "text/html": [
       "<div>\n",
       "<style scoped>\n",
       "    .dataframe tbody tr th:only-of-type {\n",
       "        vertical-align: middle;\n",
       "    }\n",
       "\n",
       "    .dataframe tbody tr th {\n",
       "        vertical-align: top;\n",
       "    }\n",
       "\n",
       "    .dataframe thead th {\n",
       "        text-align: right;\n",
       "    }\n",
       "</style>\n",
       "<table border=\"1\" class=\"dataframe\">\n",
       "  <thead>\n",
       "    <tr style=\"text-align: right;\">\n",
       "      <th></th>\n",
       "      <th>LocationType</th>\n",
       "      <th>Location</th>\n",
       "      <th>TimeFrame</th>\n",
       "      <th>DataFormat</th>\n",
       "      <th>Data</th>\n",
       "    </tr>\n",
       "  </thead>\n",
       "  <tbody>\n",
       "    <tr>\n",
       "      <th>0</th>\n",
       "      <td>Nation</td>\n",
       "      <td>United States</td>\n",
       "      <td>Apr 23-May 12, 2020</td>\n",
       "      <td>Percent</td>\n",
       "      <td>0.39</td>\n",
       "    </tr>\n",
       "    <tr>\n",
       "      <th>1</th>\n",
       "      <td>Nation</td>\n",
       "      <td>United States</td>\n",
       "      <td>May 7-May 19, 2020</td>\n",
       "      <td>Percent</td>\n",
       "      <td>0.38</td>\n",
       "    </tr>\n",
       "    <tr>\n",
       "      <th>2</th>\n",
       "      <td>Nation</td>\n",
       "      <td>United States</td>\n",
       "      <td>May 14-May 26, 2020</td>\n",
       "      <td>Percent</td>\n",
       "      <td>0.37</td>\n",
       "    </tr>\n",
       "    <tr>\n",
       "      <th>3</th>\n",
       "      <td>Nation</td>\n",
       "      <td>United States</td>\n",
       "      <td>May 21-Jun 2, 2020</td>\n",
       "      <td>Percent</td>\n",
       "      <td>0.39</td>\n",
       "    </tr>\n",
       "    <tr>\n",
       "      <th>4</th>\n",
       "      <td>Nation</td>\n",
       "      <td>United States</td>\n",
       "      <td>May 28-Jun 9, 2020</td>\n",
       "      <td>Percent</td>\n",
       "      <td>0.39</td>\n",
       "    </tr>\n",
       "    <tr>\n",
       "      <th>5</th>\n",
       "      <td>Nation</td>\n",
       "      <td>United States</td>\n",
       "      <td>Jun 4-Jun 16, 2020</td>\n",
       "      <td>Percent</td>\n",
       "      <td>0.38</td>\n",
       "    </tr>\n",
       "    <tr>\n",
       "      <th>6</th>\n",
       "      <td>Nation</td>\n",
       "      <td>United States</td>\n",
       "      <td>Jun 11-Jun 23, 2020</td>\n",
       "      <td>Percent</td>\n",
       "      <td>0.4</td>\n",
       "    </tr>\n",
       "    <tr>\n",
       "      <th>7</th>\n",
       "      <td>Nation</td>\n",
       "      <td>United States</td>\n",
       "      <td>Jun 18-Jun 30, 2020</td>\n",
       "      <td>Percent</td>\n",
       "      <td>0.4</td>\n",
       "    </tr>\n",
       "    <tr>\n",
       "      <th>8</th>\n",
       "      <td>Nation</td>\n",
       "      <td>United States</td>\n",
       "      <td>Jun 25-Jul 7, 2020</td>\n",
       "      <td>Percent</td>\n",
       "      <td>0.41</td>\n",
       "    </tr>\n",
       "    <tr>\n",
       "      <th>9</th>\n",
       "      <td>Nation</td>\n",
       "      <td>United States</td>\n",
       "      <td>Jul 2-Jul 14, 2020</td>\n",
       "      <td>Percent</td>\n",
       "      <td>0.42</td>\n",
       "    </tr>\n",
       "    <tr>\n",
       "      <th>10</th>\n",
       "      <td>Nation</td>\n",
       "      <td>United States</td>\n",
       "      <td>Jul 9-Jul 21, 2020</td>\n",
       "      <td>Percent</td>\n",
       "      <td>0.41</td>\n",
       "    </tr>\n",
       "    <tr>\n",
       "      <th>11</th>\n",
       "      <td>Nation</td>\n",
       "      <td>United States</td>\n",
       "      <td>Sep 2-Sep 28, 2020</td>\n",
       "      <td>Percent</td>\n",
       "      <td>0.39</td>\n",
       "    </tr>\n",
       "    <tr>\n",
       "      <th>12</th>\n",
       "      <td>Nation</td>\n",
       "      <td>United States</td>\n",
       "      <td>Aug 19-Sep 14, 2020</td>\n",
       "      <td>Percent</td>\n",
       "      <td>0.39</td>\n",
       "    </tr>\n",
       "    <tr>\n",
       "      <th>13</th>\n",
       "      <td>Nation</td>\n",
       "      <td>United States</td>\n",
       "      <td>Sep 16-Oct 12, 2020</td>\n",
       "      <td>Percent</td>\n",
       "      <td>0.4</td>\n",
       "    </tr>\n",
       "    <tr>\n",
       "      <th>14</th>\n",
       "      <td>Nation</td>\n",
       "      <td>United States</td>\n",
       "      <td>Sep 30-Oct 26, 2020</td>\n",
       "      <td>Percent</td>\n",
       "      <td>0.43</td>\n",
       "    </tr>\n",
       "    <tr>\n",
       "      <th>15</th>\n",
       "      <td>Nation</td>\n",
       "      <td>United States</td>\n",
       "      <td>Oct 14-Nov 9, 2020</td>\n",
       "      <td>Percent</td>\n",
       "      <td>0.47</td>\n",
       "    </tr>\n",
       "    <tr>\n",
       "      <th>16</th>\n",
       "      <td>Nation</td>\n",
       "      <td>United States</td>\n",
       "      <td>Oct 28-Nov 23, 2020</td>\n",
       "      <td>Percent</td>\n",
       "      <td>0.5</td>\n",
       "    </tr>\n",
       "    <tr>\n",
       "      <th>17</th>\n",
       "      <td>Nation</td>\n",
       "      <td>United States</td>\n",
       "      <td>Nov 11-Dec 7, 2020</td>\n",
       "      <td>Percent</td>\n",
       "      <td>0.5</td>\n",
       "    </tr>\n",
       "    <tr>\n",
       "      <th>18</th>\n",
       "      <td>Nation</td>\n",
       "      <td>United States</td>\n",
       "      <td>Nov 25-Dec 21, 2020</td>\n",
       "      <td>Percent</td>\n",
       "      <td>0.48</td>\n",
       "    </tr>\n",
       "    <tr>\n",
       "      <th>19</th>\n",
       "      <td>Nation</td>\n",
       "      <td>United States</td>\n",
       "      <td>Jan 6-Feb 1, 2021</td>\n",
       "      <td>Percent</td>\n",
       "      <td>0.45</td>\n",
       "    </tr>\n",
       "    <tr>\n",
       "      <th>20</th>\n",
       "      <td>Nation</td>\n",
       "      <td>United States</td>\n",
       "      <td>Jan 20-Feb 15, 2021</td>\n",
       "      <td>Percent</td>\n",
       "      <td>0.47</td>\n",
       "    </tr>\n",
       "    <tr>\n",
       "      <th>21</th>\n",
       "      <td>Nation</td>\n",
       "      <td>United States</td>\n",
       "      <td>Feb 3-Mar 1, 2021</td>\n",
       "      <td>Percent</td>\n",
       "      <td>0.48</td>\n",
       "    </tr>\n",
       "    <tr>\n",
       "      <th>22</th>\n",
       "      <td>Nation</td>\n",
       "      <td>United States</td>\n",
       "      <td>Feb 17-Mar 15, 2021</td>\n",
       "      <td>Percent</td>\n",
       "      <td>0.46</td>\n",
       "    </tr>\n",
       "    <tr>\n",
       "      <th>23</th>\n",
       "      <td>Nation</td>\n",
       "      <td>United States</td>\n",
       "      <td>Mar 3-Mar 29, 2021</td>\n",
       "      <td>Percent</td>\n",
       "      <td>0.44</td>\n",
       "    </tr>\n",
       "    <tr>\n",
       "      <th>24</th>\n",
       "      <td>Nation</td>\n",
       "      <td>United States</td>\n",
       "      <td>Apr 14-May 10, 2021</td>\n",
       "      <td>Percent</td>\n",
       "      <td>0.44</td>\n",
       "    </tr>\n",
       "    <tr>\n",
       "      <th>25</th>\n",
       "      <td>Nation</td>\n",
       "      <td>United States</td>\n",
       "      <td>Apr 28-May 24, 2021</td>\n",
       "      <td>Percent</td>\n",
       "      <td>0.42</td>\n",
       "    </tr>\n",
       "    <tr>\n",
       "      <th>26</th>\n",
       "      <td>Nation</td>\n",
       "      <td>United States</td>\n",
       "      <td>May 12-Jun 07, 2021</td>\n",
       "      <td>Percent</td>\n",
       "      <td>0.39</td>\n",
       "    </tr>\n",
       "    <tr>\n",
       "      <th>27</th>\n",
       "      <td>Nation</td>\n",
       "      <td>United States</td>\n",
       "      <td>May 26-Jun 21, 2021</td>\n",
       "      <td>Percent</td>\n",
       "      <td>0.38</td>\n",
       "    </tr>\n",
       "    <tr>\n",
       "      <th>28</th>\n",
       "      <td>Nation</td>\n",
       "      <td>United States</td>\n",
       "      <td>Jun 09-Jul 05, 2021</td>\n",
       "      <td>Percent</td>\n",
       "      <td>0.39</td>\n",
       "    </tr>\n",
       "  </tbody>\n",
       "</table>\n",
       "</div>"
      ],
      "text/plain": [
       "   LocationType       Location            TimeFrame DataFormat  Data\n",
       "0        Nation  United States  Apr 23-May 12, 2020    Percent  0.39\n",
       "1        Nation  United States   May 7-May 19, 2020    Percent  0.38\n",
       "2        Nation  United States  May 14-May 26, 2020    Percent  0.37\n",
       "3        Nation  United States   May 21-Jun 2, 2020    Percent  0.39\n",
       "4        Nation  United States   May 28-Jun 9, 2020    Percent  0.39\n",
       "5        Nation  United States   Jun 4-Jun 16, 2020    Percent  0.38\n",
       "6        Nation  United States  Jun 11-Jun 23, 2020    Percent   0.4\n",
       "7        Nation  United States  Jun 18-Jun 30, 2020    Percent   0.4\n",
       "8        Nation  United States   Jun 25-Jul 7, 2020    Percent  0.41\n",
       "9        Nation  United States   Jul 2-Jul 14, 2020    Percent  0.42\n",
       "10       Nation  United States   Jul 9-Jul 21, 2020    Percent  0.41\n",
       "11       Nation  United States   Sep 2-Sep 28, 2020    Percent  0.39\n",
       "12       Nation  United States  Aug 19-Sep 14, 2020    Percent  0.39\n",
       "13       Nation  United States  Sep 16-Oct 12, 2020    Percent   0.4\n",
       "14       Nation  United States  Sep 30-Oct 26, 2020    Percent  0.43\n",
       "15       Nation  United States   Oct 14-Nov 9, 2020    Percent  0.47\n",
       "16       Nation  United States  Oct 28-Nov 23, 2020    Percent   0.5\n",
       "17       Nation  United States   Nov 11-Dec 7, 2020    Percent   0.5\n",
       "18       Nation  United States  Nov 25-Dec 21, 2020    Percent  0.48\n",
       "19       Nation  United States    Jan 6-Feb 1, 2021    Percent  0.45\n",
       "20       Nation  United States  Jan 20-Feb 15, 2021    Percent  0.47\n",
       "21       Nation  United States    Feb 3-Mar 1, 2021    Percent  0.48\n",
       "22       Nation  United States  Feb 17-Mar 15, 2021    Percent  0.46\n",
       "23       Nation  United States   Mar 3-Mar 29, 2021    Percent  0.44\n",
       "24       Nation  United States  Apr 14-May 10, 2021    Percent  0.44\n",
       "25       Nation  United States  Apr 28-May 24, 2021    Percent  0.42\n",
       "26       Nation  United States  May 12-Jun 07, 2021    Percent  0.39\n",
       "27       Nation  United States  May 26-Jun 21, 2021    Percent  0.38\n",
       "28       Nation  United States  Jun 09-Jul 05, 2021    Percent  0.39"
      ]
     },
     "execution_count": 135,
     "metadata": {},
     "output_type": "execute_result"
    }
   ],
   "source": [
    "df_3"
   ]
  },
  {
   "cell_type": "code",
   "execution_count": 136,
   "metadata": {
    "pycharm": {
     "name": "#%%\n"
    },
    "tags": []
   },
   "outputs": [
    {
     "data": {
      "text/html": [
       "<div>\n",
       "<style scoped>\n",
       "    .dataframe tbody tr th:only-of-type {\n",
       "        vertical-align: middle;\n",
       "    }\n",
       "\n",
       "    .dataframe tbody tr th {\n",
       "        vertical-align: top;\n",
       "    }\n",
       "\n",
       "    .dataframe thead th {\n",
       "        text-align: right;\n",
       "    }\n",
       "</style>\n",
       "<table border=\"1\" class=\"dataframe\">\n",
       "  <thead>\n",
       "    <tr style=\"text-align: right;\">\n",
       "      <th></th>\n",
       "      <th>TimeFrame</th>\n",
       "      <th>Data</th>\n",
       "    </tr>\n",
       "  </thead>\n",
       "  <tbody>\n",
       "    <tr>\n",
       "      <th>0</th>\n",
       "      <td>Apr 23-May 12, 2020</td>\n",
       "      <td>0.39</td>\n",
       "    </tr>\n",
       "    <tr>\n",
       "      <th>1</th>\n",
       "      <td>May 7-May 19, 2020</td>\n",
       "      <td>0.38</td>\n",
       "    </tr>\n",
       "    <tr>\n",
       "      <th>2</th>\n",
       "      <td>May 14-May 26, 2020</td>\n",
       "      <td>0.37</td>\n",
       "    </tr>\n",
       "    <tr>\n",
       "      <th>3</th>\n",
       "      <td>May 21-Jun 2, 2020</td>\n",
       "      <td>0.39</td>\n",
       "    </tr>\n",
       "    <tr>\n",
       "      <th>4</th>\n",
       "      <td>May 28-Jun 9, 2020</td>\n",
       "      <td>0.39</td>\n",
       "    </tr>\n",
       "    <tr>\n",
       "      <th>5</th>\n",
       "      <td>Jun 4-Jun 16, 2020</td>\n",
       "      <td>0.38</td>\n",
       "    </tr>\n",
       "    <tr>\n",
       "      <th>6</th>\n",
       "      <td>Jun 11-Jun 23, 2020</td>\n",
       "      <td>0.4</td>\n",
       "    </tr>\n",
       "    <tr>\n",
       "      <th>7</th>\n",
       "      <td>Jun 18-Jun 30, 2020</td>\n",
       "      <td>0.4</td>\n",
       "    </tr>\n",
       "    <tr>\n",
       "      <th>8</th>\n",
       "      <td>Jun 25-Jul 7, 2020</td>\n",
       "      <td>0.41</td>\n",
       "    </tr>\n",
       "    <tr>\n",
       "      <th>9</th>\n",
       "      <td>Jul 2-Jul 14, 2020</td>\n",
       "      <td>0.42</td>\n",
       "    </tr>\n",
       "    <tr>\n",
       "      <th>10</th>\n",
       "      <td>Jul 9-Jul 21, 2020</td>\n",
       "      <td>0.41</td>\n",
       "    </tr>\n",
       "    <tr>\n",
       "      <th>11</th>\n",
       "      <td>Sep 2-Sep 28, 2020</td>\n",
       "      <td>0.39</td>\n",
       "    </tr>\n",
       "    <tr>\n",
       "      <th>12</th>\n",
       "      <td>Aug 19-Sep 14, 2020</td>\n",
       "      <td>0.39</td>\n",
       "    </tr>\n",
       "    <tr>\n",
       "      <th>13</th>\n",
       "      <td>Sep 16-Oct 12, 2020</td>\n",
       "      <td>0.4</td>\n",
       "    </tr>\n",
       "    <tr>\n",
       "      <th>14</th>\n",
       "      <td>Sep 30-Oct 26, 2020</td>\n",
       "      <td>0.43</td>\n",
       "    </tr>\n",
       "    <tr>\n",
       "      <th>15</th>\n",
       "      <td>Oct 14-Nov 9, 2020</td>\n",
       "      <td>0.47</td>\n",
       "    </tr>\n",
       "    <tr>\n",
       "      <th>16</th>\n",
       "      <td>Oct 28-Nov 23, 2020</td>\n",
       "      <td>0.5</td>\n",
       "    </tr>\n",
       "    <tr>\n",
       "      <th>17</th>\n",
       "      <td>Nov 11-Dec 7, 2020</td>\n",
       "      <td>0.5</td>\n",
       "    </tr>\n",
       "    <tr>\n",
       "      <th>18</th>\n",
       "      <td>Nov 25-Dec 21, 2020</td>\n",
       "      <td>0.48</td>\n",
       "    </tr>\n",
       "    <tr>\n",
       "      <th>19</th>\n",
       "      <td>Jan 6-Feb 1, 2021</td>\n",
       "      <td>0.45</td>\n",
       "    </tr>\n",
       "    <tr>\n",
       "      <th>20</th>\n",
       "      <td>Jan 20-Feb 15, 2021</td>\n",
       "      <td>0.47</td>\n",
       "    </tr>\n",
       "    <tr>\n",
       "      <th>21</th>\n",
       "      <td>Feb 3-Mar 1, 2021</td>\n",
       "      <td>0.48</td>\n",
       "    </tr>\n",
       "    <tr>\n",
       "      <th>22</th>\n",
       "      <td>Feb 17-Mar 15, 2021</td>\n",
       "      <td>0.46</td>\n",
       "    </tr>\n",
       "    <tr>\n",
       "      <th>23</th>\n",
       "      <td>Mar 3-Mar 29, 2021</td>\n",
       "      <td>0.44</td>\n",
       "    </tr>\n",
       "    <tr>\n",
       "      <th>24</th>\n",
       "      <td>Apr 14-May 10, 2021</td>\n",
       "      <td>0.44</td>\n",
       "    </tr>\n",
       "    <tr>\n",
       "      <th>25</th>\n",
       "      <td>Apr 28-May 24, 2021</td>\n",
       "      <td>0.42</td>\n",
       "    </tr>\n",
       "    <tr>\n",
       "      <th>26</th>\n",
       "      <td>May 12-Jun 07, 2021</td>\n",
       "      <td>0.39</td>\n",
       "    </tr>\n",
       "    <tr>\n",
       "      <th>27</th>\n",
       "      <td>May 26-Jun 21, 2021</td>\n",
       "      <td>0.38</td>\n",
       "    </tr>\n",
       "    <tr>\n",
       "      <th>28</th>\n",
       "      <td>Jun 09-Jul 05, 2021</td>\n",
       "      <td>0.39</td>\n",
       "    </tr>\n",
       "  </tbody>\n",
       "</table>\n",
       "</div>"
      ],
      "text/plain": [
       "              TimeFrame  Data\n",
       "0   Apr 23-May 12, 2020  0.39\n",
       "1    May 7-May 19, 2020  0.38\n",
       "2   May 14-May 26, 2020  0.37\n",
       "3    May 21-Jun 2, 2020  0.39\n",
       "4    May 28-Jun 9, 2020  0.39\n",
       "5    Jun 4-Jun 16, 2020  0.38\n",
       "6   Jun 11-Jun 23, 2020   0.4\n",
       "7   Jun 18-Jun 30, 2020   0.4\n",
       "8    Jun 25-Jul 7, 2020  0.41\n",
       "9    Jul 2-Jul 14, 2020  0.42\n",
       "10   Jul 9-Jul 21, 2020  0.41\n",
       "11   Sep 2-Sep 28, 2020  0.39\n",
       "12  Aug 19-Sep 14, 2020  0.39\n",
       "13  Sep 16-Oct 12, 2020   0.4\n",
       "14  Sep 30-Oct 26, 2020  0.43\n",
       "15   Oct 14-Nov 9, 2020  0.47\n",
       "16  Oct 28-Nov 23, 2020   0.5\n",
       "17   Nov 11-Dec 7, 2020   0.5\n",
       "18  Nov 25-Dec 21, 2020  0.48\n",
       "19    Jan 6-Feb 1, 2021  0.45\n",
       "20  Jan 20-Feb 15, 2021  0.47\n",
       "21    Feb 3-Mar 1, 2021  0.48\n",
       "22  Feb 17-Mar 15, 2021  0.46\n",
       "23   Mar 3-Mar 29, 2021  0.44\n",
       "24  Apr 14-May 10, 2021  0.44\n",
       "25  Apr 28-May 24, 2021  0.42\n",
       "26  May 12-Jun 07, 2021  0.39\n",
       "27  May 26-Jun 21, 2021  0.38\n",
       "28  Jun 09-Jul 05, 2021  0.39"
      ]
     },
     "execution_count": 136,
     "metadata": {},
     "output_type": "execute_result"
    }
   ],
   "source": [
    "delete_columns('LocationType', df_3)\n",
    "delete_columns('Location', df_3)\n",
    "delete_columns('DataFormat', df_3)\n",
    "df_3"
   ]
  },
  {
   "cell_type": "markdown",
   "metadata": {
    "pycharm": {
     "name": "#%% md\n"
    }
   },
   "source": [
    "**I then decided to convert the strings into numerical data.**"
   ]
  },
  {
   "cell_type": "code",
   "execution_count": 137,
   "metadata": {
    "pycharm": {
     "name": "#%%\n"
    },
    "tags": []
   },
   "outputs": [
    {
     "data": {
      "text/plain": [
       "0     0.39\n",
       "1     0.38\n",
       "2     0.37\n",
       "3     0.39\n",
       "4     0.39\n",
       "5     0.38\n",
       "6      0.4\n",
       "7      0.4\n",
       "8     0.41\n",
       "9     0.42\n",
       "10    0.41\n",
       "11    0.39\n",
       "12    0.39\n",
       "13     0.4\n",
       "14    0.43\n",
       "15    0.47\n",
       "16     0.5\n",
       "17     0.5\n",
       "18    0.48\n",
       "19    0.45\n",
       "20    0.47\n",
       "21    0.48\n",
       "22    0.46\n",
       "23    0.44\n",
       "24    0.44\n",
       "25    0.42\n",
       "26    0.39\n",
       "27    0.38\n",
       "28    0.39\n",
       "Name: Data, dtype: object"
      ]
     },
     "execution_count": 137,
     "metadata": {},
     "output_type": "execute_result"
    }
   ],
   "source": [
    "df_3['Data']"
   ]
  },
  {
   "cell_type": "markdown",
   "metadata": {
    "pycharm": {
     "name": "#%% md\n"
    }
   },
   "source": [
    "**I used my calc_per() function to turn the floats into percentages, once I no longer had strings.**"
   ]
  },
  {
   "cell_type": "code",
   "execution_count": 142,
   "metadata": {
    "pycharm": {
     "name": "#%%\n"
    }
   },
   "outputs": [
    {
     "name": "stdout",
     "output_type": "stream",
     "text": [
      "Percentages: [39.0, 38.0, 37.0, 39.0, 39.0, 38.0, 40.0, 40.0, 41.0, 42.0, 41.0, 39.0, 39.0, 40.0, 43.0, 47.0, 50.0, 50.0, 48.0, 45.0, 47.0, 48.0, 46.0, 44.0, 44.0, 42.0, 39.0, 38.0, 39.0]\n"
     ]
    }
   ],
   "source": [
    "# convert to float\n",
    "temp_3 = [float(df_3['Data'][x]) for x in range(0, len(df_3['Data']))]\n",
    "data_p_3 = calc_per(temp_3)"
   ]
  },
  {
   "cell_type": "markdown",
   "metadata": {
    "pycharm": {
     "name": "#%% md\n"
    }
   },
   "source": [
    "**I then inserted the newly created data into the table.**"
   ]
  },
  {
   "cell_type": "code",
   "execution_count": 144,
   "metadata": {
    "pycharm": {
     "name": "#%%\n"
    }
   },
   "outputs": [],
   "source": [
    "insert_columns(2, 'Data (%)', data_p_3, df_3)"
   ]
  },
  {
   "cell_type": "code",
   "execution_count": 145,
   "metadata": {
    "pycharm": {
     "name": "#%%\n"
    },
    "tags": []
   },
   "outputs": [
    {
     "data": {
      "text/html": [
       "<div>\n",
       "<style scoped>\n",
       "    .dataframe tbody tr th:only-of-type {\n",
       "        vertical-align: middle;\n",
       "    }\n",
       "\n",
       "    .dataframe tbody tr th {\n",
       "        vertical-align: top;\n",
       "    }\n",
       "\n",
       "    .dataframe thead th {\n",
       "        text-align: right;\n",
       "    }\n",
       "</style>\n",
       "<table border=\"1\" class=\"dataframe\">\n",
       "  <thead>\n",
       "    <tr style=\"text-align: right;\">\n",
       "      <th></th>\n",
       "      <th>TimeFrame</th>\n",
       "      <th>Data</th>\n",
       "      <th>Data (%)</th>\n",
       "    </tr>\n",
       "  </thead>\n",
       "  <tbody>\n",
       "    <tr>\n",
       "      <th>0</th>\n",
       "      <td>Apr 23-May 12, 2020</td>\n",
       "      <td>0.39</td>\n",
       "      <td>39.0</td>\n",
       "    </tr>\n",
       "    <tr>\n",
       "      <th>1</th>\n",
       "      <td>May 7-May 19, 2020</td>\n",
       "      <td>0.38</td>\n",
       "      <td>38.0</td>\n",
       "    </tr>\n",
       "    <tr>\n",
       "      <th>2</th>\n",
       "      <td>May 14-May 26, 2020</td>\n",
       "      <td>0.37</td>\n",
       "      <td>37.0</td>\n",
       "    </tr>\n",
       "    <tr>\n",
       "      <th>3</th>\n",
       "      <td>May 21-Jun 2, 2020</td>\n",
       "      <td>0.39</td>\n",
       "      <td>39.0</td>\n",
       "    </tr>\n",
       "    <tr>\n",
       "      <th>4</th>\n",
       "      <td>May 28-Jun 9, 2020</td>\n",
       "      <td>0.39</td>\n",
       "      <td>39.0</td>\n",
       "    </tr>\n",
       "    <tr>\n",
       "      <th>5</th>\n",
       "      <td>Jun 4-Jun 16, 2020</td>\n",
       "      <td>0.38</td>\n",
       "      <td>38.0</td>\n",
       "    </tr>\n",
       "    <tr>\n",
       "      <th>6</th>\n",
       "      <td>Jun 11-Jun 23, 2020</td>\n",
       "      <td>0.4</td>\n",
       "      <td>40.0</td>\n",
       "    </tr>\n",
       "    <tr>\n",
       "      <th>7</th>\n",
       "      <td>Jun 18-Jun 30, 2020</td>\n",
       "      <td>0.4</td>\n",
       "      <td>40.0</td>\n",
       "    </tr>\n",
       "    <tr>\n",
       "      <th>8</th>\n",
       "      <td>Jun 25-Jul 7, 2020</td>\n",
       "      <td>0.41</td>\n",
       "      <td>41.0</td>\n",
       "    </tr>\n",
       "    <tr>\n",
       "      <th>9</th>\n",
       "      <td>Jul 2-Jul 14, 2020</td>\n",
       "      <td>0.42</td>\n",
       "      <td>42.0</td>\n",
       "    </tr>\n",
       "    <tr>\n",
       "      <th>10</th>\n",
       "      <td>Jul 9-Jul 21, 2020</td>\n",
       "      <td>0.41</td>\n",
       "      <td>41.0</td>\n",
       "    </tr>\n",
       "    <tr>\n",
       "      <th>11</th>\n",
       "      <td>Sep 2-Sep 28, 2020</td>\n",
       "      <td>0.39</td>\n",
       "      <td>39.0</td>\n",
       "    </tr>\n",
       "    <tr>\n",
       "      <th>12</th>\n",
       "      <td>Aug 19-Sep 14, 2020</td>\n",
       "      <td>0.39</td>\n",
       "      <td>39.0</td>\n",
       "    </tr>\n",
       "    <tr>\n",
       "      <th>13</th>\n",
       "      <td>Sep 16-Oct 12, 2020</td>\n",
       "      <td>0.4</td>\n",
       "      <td>40.0</td>\n",
       "    </tr>\n",
       "    <tr>\n",
       "      <th>14</th>\n",
       "      <td>Sep 30-Oct 26, 2020</td>\n",
       "      <td>0.43</td>\n",
       "      <td>43.0</td>\n",
       "    </tr>\n",
       "    <tr>\n",
       "      <th>15</th>\n",
       "      <td>Oct 14-Nov 9, 2020</td>\n",
       "      <td>0.47</td>\n",
       "      <td>47.0</td>\n",
       "    </tr>\n",
       "    <tr>\n",
       "      <th>16</th>\n",
       "      <td>Oct 28-Nov 23, 2020</td>\n",
       "      <td>0.5</td>\n",
       "      <td>50.0</td>\n",
       "    </tr>\n",
       "    <tr>\n",
       "      <th>17</th>\n",
       "      <td>Nov 11-Dec 7, 2020</td>\n",
       "      <td>0.5</td>\n",
       "      <td>50.0</td>\n",
       "    </tr>\n",
       "    <tr>\n",
       "      <th>18</th>\n",
       "      <td>Nov 25-Dec 21, 2020</td>\n",
       "      <td>0.48</td>\n",
       "      <td>48.0</td>\n",
       "    </tr>\n",
       "    <tr>\n",
       "      <th>19</th>\n",
       "      <td>Jan 6-Feb 1, 2021</td>\n",
       "      <td>0.45</td>\n",
       "      <td>45.0</td>\n",
       "    </tr>\n",
       "    <tr>\n",
       "      <th>20</th>\n",
       "      <td>Jan 20-Feb 15, 2021</td>\n",
       "      <td>0.47</td>\n",
       "      <td>47.0</td>\n",
       "    </tr>\n",
       "    <tr>\n",
       "      <th>21</th>\n",
       "      <td>Feb 3-Mar 1, 2021</td>\n",
       "      <td>0.48</td>\n",
       "      <td>48.0</td>\n",
       "    </tr>\n",
       "    <tr>\n",
       "      <th>22</th>\n",
       "      <td>Feb 17-Mar 15, 2021</td>\n",
       "      <td>0.46</td>\n",
       "      <td>46.0</td>\n",
       "    </tr>\n",
       "    <tr>\n",
       "      <th>23</th>\n",
       "      <td>Mar 3-Mar 29, 2021</td>\n",
       "      <td>0.44</td>\n",
       "      <td>44.0</td>\n",
       "    </tr>\n",
       "    <tr>\n",
       "      <th>24</th>\n",
       "      <td>Apr 14-May 10, 2021</td>\n",
       "      <td>0.44</td>\n",
       "      <td>44.0</td>\n",
       "    </tr>\n",
       "    <tr>\n",
       "      <th>25</th>\n",
       "      <td>Apr 28-May 24, 2021</td>\n",
       "      <td>0.42</td>\n",
       "      <td>42.0</td>\n",
       "    </tr>\n",
       "    <tr>\n",
       "      <th>26</th>\n",
       "      <td>May 12-Jun 07, 2021</td>\n",
       "      <td>0.39</td>\n",
       "      <td>39.0</td>\n",
       "    </tr>\n",
       "    <tr>\n",
       "      <th>27</th>\n",
       "      <td>May 26-Jun 21, 2021</td>\n",
       "      <td>0.38</td>\n",
       "      <td>38.0</td>\n",
       "    </tr>\n",
       "    <tr>\n",
       "      <th>28</th>\n",
       "      <td>Jun 09-Jul 05, 2021</td>\n",
       "      <td>0.39</td>\n",
       "      <td>39.0</td>\n",
       "    </tr>\n",
       "  </tbody>\n",
       "</table>\n",
       "</div>"
      ],
      "text/plain": [
       "              TimeFrame  Data  Data (%)\n",
       "0   Apr 23-May 12, 2020  0.39      39.0\n",
       "1    May 7-May 19, 2020  0.38      38.0\n",
       "2   May 14-May 26, 2020  0.37      37.0\n",
       "3    May 21-Jun 2, 2020  0.39      39.0\n",
       "4    May 28-Jun 9, 2020  0.39      39.0\n",
       "5    Jun 4-Jun 16, 2020  0.38      38.0\n",
       "6   Jun 11-Jun 23, 2020   0.4      40.0\n",
       "7   Jun 18-Jun 30, 2020   0.4      40.0\n",
       "8    Jun 25-Jul 7, 2020  0.41      41.0\n",
       "9    Jul 2-Jul 14, 2020  0.42      42.0\n",
       "10   Jul 9-Jul 21, 2020  0.41      41.0\n",
       "11   Sep 2-Sep 28, 2020  0.39      39.0\n",
       "12  Aug 19-Sep 14, 2020  0.39      39.0\n",
       "13  Sep 16-Oct 12, 2020   0.4      40.0\n",
       "14  Sep 30-Oct 26, 2020  0.43      43.0\n",
       "15   Oct 14-Nov 9, 2020  0.47      47.0\n",
       "16  Oct 28-Nov 23, 2020   0.5      50.0\n",
       "17   Nov 11-Dec 7, 2020   0.5      50.0\n",
       "18  Nov 25-Dec 21, 2020  0.48      48.0\n",
       "19    Jan 6-Feb 1, 2021  0.45      45.0\n",
       "20  Jan 20-Feb 15, 2021  0.47      47.0\n",
       "21    Feb 3-Mar 1, 2021  0.48      48.0\n",
       "22  Feb 17-Mar 15, 2021  0.46      46.0\n",
       "23   Mar 3-Mar 29, 2021  0.44      44.0\n",
       "24  Apr 14-May 10, 2021  0.44      44.0\n",
       "25  Apr 28-May 24, 2021  0.42      42.0\n",
       "26  May 12-Jun 07, 2021  0.39      39.0\n",
       "27  May 26-Jun 21, 2021  0.38      38.0\n",
       "28  Jun 09-Jul 05, 2021  0.39      39.0"
      ]
     },
     "execution_count": 145,
     "metadata": {},
     "output_type": "execute_result"
    }
   ],
   "source": [
    "df_3"
   ]
  },
  {
   "cell_type": "markdown",
   "metadata": {
    "pycharm": {
     "name": "#%% md\n"
    }
   },
   "source": [
    "**I deleted the other column of the same name as I knew that I wouldn't need it.**"
   ]
  },
  {
   "cell_type": "code",
   "execution_count": 146,
   "metadata": {
    "pycharm": {
     "name": "#%%\n"
    },
    "tags": []
   },
   "outputs": [
    {
     "data": {
      "text/html": [
       "<div>\n",
       "<style scoped>\n",
       "    .dataframe tbody tr th:only-of-type {\n",
       "        vertical-align: middle;\n",
       "    }\n",
       "\n",
       "    .dataframe tbody tr th {\n",
       "        vertical-align: top;\n",
       "    }\n",
       "\n",
       "    .dataframe thead th {\n",
       "        text-align: right;\n",
       "    }\n",
       "</style>\n",
       "<table border=\"1\" class=\"dataframe\">\n",
       "  <thead>\n",
       "    <tr style=\"text-align: right;\">\n",
       "      <th></th>\n",
       "      <th>TimeFrame</th>\n",
       "      <th>Data (%)</th>\n",
       "    </tr>\n",
       "  </thead>\n",
       "  <tbody>\n",
       "    <tr>\n",
       "      <th>0</th>\n",
       "      <td>Apr 23-May 12, 2020</td>\n",
       "      <td>39.0</td>\n",
       "    </tr>\n",
       "    <tr>\n",
       "      <th>1</th>\n",
       "      <td>May 7-May 19, 2020</td>\n",
       "      <td>38.0</td>\n",
       "    </tr>\n",
       "    <tr>\n",
       "      <th>2</th>\n",
       "      <td>May 14-May 26, 2020</td>\n",
       "      <td>37.0</td>\n",
       "    </tr>\n",
       "    <tr>\n",
       "      <th>3</th>\n",
       "      <td>May 21-Jun 2, 2020</td>\n",
       "      <td>39.0</td>\n",
       "    </tr>\n",
       "    <tr>\n",
       "      <th>4</th>\n",
       "      <td>May 28-Jun 9, 2020</td>\n",
       "      <td>39.0</td>\n",
       "    </tr>\n",
       "    <tr>\n",
       "      <th>5</th>\n",
       "      <td>Jun 4-Jun 16, 2020</td>\n",
       "      <td>38.0</td>\n",
       "    </tr>\n",
       "    <tr>\n",
       "      <th>6</th>\n",
       "      <td>Jun 11-Jun 23, 2020</td>\n",
       "      <td>40.0</td>\n",
       "    </tr>\n",
       "    <tr>\n",
       "      <th>7</th>\n",
       "      <td>Jun 18-Jun 30, 2020</td>\n",
       "      <td>40.0</td>\n",
       "    </tr>\n",
       "    <tr>\n",
       "      <th>8</th>\n",
       "      <td>Jun 25-Jul 7, 2020</td>\n",
       "      <td>41.0</td>\n",
       "    </tr>\n",
       "    <tr>\n",
       "      <th>9</th>\n",
       "      <td>Jul 2-Jul 14, 2020</td>\n",
       "      <td>42.0</td>\n",
       "    </tr>\n",
       "    <tr>\n",
       "      <th>10</th>\n",
       "      <td>Jul 9-Jul 21, 2020</td>\n",
       "      <td>41.0</td>\n",
       "    </tr>\n",
       "    <tr>\n",
       "      <th>11</th>\n",
       "      <td>Sep 2-Sep 28, 2020</td>\n",
       "      <td>39.0</td>\n",
       "    </tr>\n",
       "    <tr>\n",
       "      <th>12</th>\n",
       "      <td>Aug 19-Sep 14, 2020</td>\n",
       "      <td>39.0</td>\n",
       "    </tr>\n",
       "    <tr>\n",
       "      <th>13</th>\n",
       "      <td>Sep 16-Oct 12, 2020</td>\n",
       "      <td>40.0</td>\n",
       "    </tr>\n",
       "    <tr>\n",
       "      <th>14</th>\n",
       "      <td>Sep 30-Oct 26, 2020</td>\n",
       "      <td>43.0</td>\n",
       "    </tr>\n",
       "    <tr>\n",
       "      <th>15</th>\n",
       "      <td>Oct 14-Nov 9, 2020</td>\n",
       "      <td>47.0</td>\n",
       "    </tr>\n",
       "    <tr>\n",
       "      <th>16</th>\n",
       "      <td>Oct 28-Nov 23, 2020</td>\n",
       "      <td>50.0</td>\n",
       "    </tr>\n",
       "    <tr>\n",
       "      <th>17</th>\n",
       "      <td>Nov 11-Dec 7, 2020</td>\n",
       "      <td>50.0</td>\n",
       "    </tr>\n",
       "    <tr>\n",
       "      <th>18</th>\n",
       "      <td>Nov 25-Dec 21, 2020</td>\n",
       "      <td>48.0</td>\n",
       "    </tr>\n",
       "    <tr>\n",
       "      <th>19</th>\n",
       "      <td>Jan 6-Feb 1, 2021</td>\n",
       "      <td>45.0</td>\n",
       "    </tr>\n",
       "    <tr>\n",
       "      <th>20</th>\n",
       "      <td>Jan 20-Feb 15, 2021</td>\n",
       "      <td>47.0</td>\n",
       "    </tr>\n",
       "    <tr>\n",
       "      <th>21</th>\n",
       "      <td>Feb 3-Mar 1, 2021</td>\n",
       "      <td>48.0</td>\n",
       "    </tr>\n",
       "    <tr>\n",
       "      <th>22</th>\n",
       "      <td>Feb 17-Mar 15, 2021</td>\n",
       "      <td>46.0</td>\n",
       "    </tr>\n",
       "    <tr>\n",
       "      <th>23</th>\n",
       "      <td>Mar 3-Mar 29, 2021</td>\n",
       "      <td>44.0</td>\n",
       "    </tr>\n",
       "    <tr>\n",
       "      <th>24</th>\n",
       "      <td>Apr 14-May 10, 2021</td>\n",
       "      <td>44.0</td>\n",
       "    </tr>\n",
       "    <tr>\n",
       "      <th>25</th>\n",
       "      <td>Apr 28-May 24, 2021</td>\n",
       "      <td>42.0</td>\n",
       "    </tr>\n",
       "    <tr>\n",
       "      <th>26</th>\n",
       "      <td>May 12-Jun 07, 2021</td>\n",
       "      <td>39.0</td>\n",
       "    </tr>\n",
       "    <tr>\n",
       "      <th>27</th>\n",
       "      <td>May 26-Jun 21, 2021</td>\n",
       "      <td>38.0</td>\n",
       "    </tr>\n",
       "    <tr>\n",
       "      <th>28</th>\n",
       "      <td>Jun 09-Jul 05, 2021</td>\n",
       "      <td>39.0</td>\n",
       "    </tr>\n",
       "  </tbody>\n",
       "</table>\n",
       "</div>"
      ],
      "text/plain": [
       "              TimeFrame  Data (%)\n",
       "0   Apr 23-May 12, 2020      39.0\n",
       "1    May 7-May 19, 2020      38.0\n",
       "2   May 14-May 26, 2020      37.0\n",
       "3    May 21-Jun 2, 2020      39.0\n",
       "4    May 28-Jun 9, 2020      39.0\n",
       "5    Jun 4-Jun 16, 2020      38.0\n",
       "6   Jun 11-Jun 23, 2020      40.0\n",
       "7   Jun 18-Jun 30, 2020      40.0\n",
       "8    Jun 25-Jul 7, 2020      41.0\n",
       "9    Jul 2-Jul 14, 2020      42.0\n",
       "10   Jul 9-Jul 21, 2020      41.0\n",
       "11   Sep 2-Sep 28, 2020      39.0\n",
       "12  Aug 19-Sep 14, 2020      39.0\n",
       "13  Sep 16-Oct 12, 2020      40.0\n",
       "14  Sep 30-Oct 26, 2020      43.0\n",
       "15   Oct 14-Nov 9, 2020      47.0\n",
       "16  Oct 28-Nov 23, 2020      50.0\n",
       "17   Nov 11-Dec 7, 2020      50.0\n",
       "18  Nov 25-Dec 21, 2020      48.0\n",
       "19    Jan 6-Feb 1, 2021      45.0\n",
       "20  Jan 20-Feb 15, 2021      47.0\n",
       "21    Feb 3-Mar 1, 2021      48.0\n",
       "22  Feb 17-Mar 15, 2021      46.0\n",
       "23   Mar 3-Mar 29, 2021      44.0\n",
       "24  Apr 14-May 10, 2021      44.0\n",
       "25  Apr 28-May 24, 2021      42.0\n",
       "26  May 12-Jun 07, 2021      39.0\n",
       "27  May 26-Jun 21, 2021      38.0\n",
       "28  Jun 09-Jul 05, 2021      39.0"
      ]
     },
     "execution_count": 146,
     "metadata": {},
     "output_type": "execute_result"
    }
   ],
   "source": [
    "delete_columns(['Data'], df_3)\n",
    "df_3"
   ]
  },
  {
   "cell_type": "markdown",
   "metadata": {
    "pycharm": {
     "name": "#%% md\n"
    }
   },
   "source": [
    "**I then wrote the data to a csv file.**"
   ]
  },
  {
   "cell_type": "code",
   "execution_count": 148,
   "metadata": {
    "pycharm": {
     "name": "#%%\n"
    }
   },
   "outputs": [],
   "source": [
    "# Setting to false stops the index from being written out\n",
    "df_3.to_csv('./data/df_3.csv', index=False)"
   ]
  },
  {
   "cell_type": "markdown",
   "metadata": {
    "pycharm": {
     "name": "#%% md\n"
    }
   },
   "source": [
    "<hr>"
   ]
  },
  {
   "cell_type": "markdown",
   "metadata": {
    "pycharm": {
     "name": "#%% md\n"
    },
    "tags": []
   },
   "source": [
    "### URL[4] | Suffering from depression"
   ]
  },
  {
   "cell_type": "markdown",
   "metadata": {
    "pycharm": {
     "name": "#%% md\n"
    },
    "tags": []
   },
   "source": [
    "#### Number of Gen Z that are depressed and hopeless in the US in 2021  \n",
    "This source contains data on the percentage of people that feel depressed and hopeless, more than half of the days or daily."
   ]
  },
  {
   "cell_type": "markdown",
   "metadata": {
    "pycharm": {
     "name": "#%% md\n"
    }
   },
   "source": [
    "**Importing the data**"
   ]
  },
  {
   "cell_type": "code",
   "execution_count": 149,
   "metadata": {
    "pycharm": {
     "name": "#%%\n"
    },
    "tags": []
   },
   "outputs": [
    {
     "data": {
      "text/html": [
       "<div>\n",
       "<style scoped>\n",
       "    .dataframe tbody tr th:only-of-type {\n",
       "        vertical-align: middle;\n",
       "    }\n",
       "\n",
       "    .dataframe tbody tr th {\n",
       "        vertical-align: top;\n",
       "    }\n",
       "\n",
       "    .dataframe thead th {\n",
       "        text-align: right;\n",
       "    }\n",
       "</style>\n",
       "<table border=\"1\" class=\"dataframe\">\n",
       "  <thead>\n",
       "    <tr style=\"text-align: right;\">\n",
       "      <th></th>\n",
       "      <th>LocationType</th>\n",
       "      <th>Location</th>\n",
       "      <th>TimeFrame</th>\n",
       "      <th>DataFormat</th>\n",
       "      <th>Data</th>\n",
       "    </tr>\n",
       "  </thead>\n",
       "  <tbody>\n",
       "    <tr>\n",
       "      <th>0</th>\n",
       "      <td>Nation</td>\n",
       "      <td>United States</td>\n",
       "      <td>Apr 23-May 12, 2020</td>\n",
       "      <td>Percent</td>\n",
       "      <td>0.31</td>\n",
       "    </tr>\n",
       "    <tr>\n",
       "      <th>1</th>\n",
       "      <td>Nation</td>\n",
       "      <td>United States</td>\n",
       "      <td>May 7-May 19, 2020</td>\n",
       "      <td>Percent</td>\n",
       "      <td>0.3</td>\n",
       "    </tr>\n",
       "    <tr>\n",
       "      <th>2</th>\n",
       "      <td>Nation</td>\n",
       "      <td>United States</td>\n",
       "      <td>May 14-May 26, 2020</td>\n",
       "      <td>Percent</td>\n",
       "      <td>0.31</td>\n",
       "    </tr>\n",
       "    <tr>\n",
       "      <th>3</th>\n",
       "      <td>Nation</td>\n",
       "      <td>United States</td>\n",
       "      <td>May 21-Jun 2, 2020</td>\n",
       "      <td>Percent</td>\n",
       "      <td>0.32</td>\n",
       "    </tr>\n",
       "    <tr>\n",
       "      <th>4</th>\n",
       "      <td>Nation</td>\n",
       "      <td>United States</td>\n",
       "      <td>May 28-Jun 9, 2020</td>\n",
       "      <td>Percent</td>\n",
       "      <td>0.32</td>\n",
       "    </tr>\n",
       "    <tr>\n",
       "      <th>...</th>\n",
       "      <td>...</td>\n",
       "      <td>...</td>\n",
       "      <td>...</td>\n",
       "      <td>...</td>\n",
       "      <td>...</td>\n",
       "    </tr>\n",
       "    <tr>\n",
       "      <th>1503</th>\n",
       "      <td>State</td>\n",
       "      <td>Wyoming</td>\n",
       "      <td>Jun 4-Jun 16, 2020</td>\n",
       "      <td>Percent</td>\n",
       "      <td>S</td>\n",
       "    </tr>\n",
       "    <tr>\n",
       "      <th>1504</th>\n",
       "      <td>State</td>\n",
       "      <td>Wyoming</td>\n",
       "      <td>Apr 23-May 12, 2020</td>\n",
       "      <td>Percent</td>\n",
       "      <td>S</td>\n",
       "    </tr>\n",
       "    <tr>\n",
       "      <th>1505</th>\n",
       "      <td>State</td>\n",
       "      <td>Wyoming</td>\n",
       "      <td>May 7-May 19, 2020</td>\n",
       "      <td>Percent</td>\n",
       "      <td>S</td>\n",
       "    </tr>\n",
       "    <tr>\n",
       "      <th>1506</th>\n",
       "      <td>State</td>\n",
       "      <td>Wyoming</td>\n",
       "      <td>May 14-May 26, 2020</td>\n",
       "      <td>Percent</td>\n",
       "      <td>S</td>\n",
       "    </tr>\n",
       "    <tr>\n",
       "      <th>1507</th>\n",
       "      <td>State</td>\n",
       "      <td>Wyoming</td>\n",
       "      <td>May 21-Jun 2, 2020</td>\n",
       "      <td>Percent</td>\n",
       "      <td>S</td>\n",
       "    </tr>\n",
       "  </tbody>\n",
       "</table>\n",
       "<p>1508 rows × 5 columns</p>\n",
       "</div>"
      ],
      "text/plain": [
       "     LocationType       Location            TimeFrame DataFormat  Data\n",
       "0          Nation  United States  Apr 23-May 12, 2020    Percent  0.31\n",
       "1          Nation  United States   May 7-May 19, 2020    Percent   0.3\n",
       "2          Nation  United States  May 14-May 26, 2020    Percent  0.31\n",
       "3          Nation  United States   May 21-Jun 2, 2020    Percent  0.32\n",
       "4          Nation  United States   May 28-Jun 9, 2020    Percent  0.32\n",
       "...           ...            ...                  ...        ...   ...\n",
       "1503        State        Wyoming   Jun 4-Jun 16, 2020    Percent     S\n",
       "1504        State        Wyoming  Apr 23-May 12, 2020    Percent     S\n",
       "1505        State        Wyoming   May 7-May 19, 2020    Percent     S\n",
       "1506        State        Wyoming  May 14-May 26, 2020    Percent     S\n",
       "1507        State        Wyoming   May 21-Jun 2, 2020    Percent     S\n",
       "\n",
       "[1508 rows x 5 columns]"
      ]
     },
     "execution_count": 149,
     "metadata": {},
     "output_type": "execute_result"
    }
   ],
   "source": [
    "df_4 = import_excel('suffering_from_depression')\n",
    "df_4"
   ]
  },
  {
   "cell_type": "markdown",
   "metadata": {
    "pycharm": {
     "name": "#%% md\n"
    }
   },
   "source": [
    "**I then repeated the same method that I did for the previous data to get rid of unwanted data.**"
   ]
  },
  {
   "cell_type": "code",
   "execution_count": 150,
   "metadata": {
    "pycharm": {
     "name": "#%%\n"
    },
    "tags": []
   },
   "outputs": [
    {
     "data": {
      "text/html": [
       "<div>\n",
       "<style scoped>\n",
       "    .dataframe tbody tr th:only-of-type {\n",
       "        vertical-align: middle;\n",
       "    }\n",
       "\n",
       "    .dataframe tbody tr th {\n",
       "        vertical-align: top;\n",
       "    }\n",
       "\n",
       "    .dataframe thead th {\n",
       "        text-align: right;\n",
       "    }\n",
       "</style>\n",
       "<table border=\"1\" class=\"dataframe\">\n",
       "  <thead>\n",
       "    <tr style=\"text-align: right;\">\n",
       "      <th></th>\n",
       "      <th>TimeFrame</th>\n",
       "      <th>Data</th>\n",
       "    </tr>\n",
       "  </thead>\n",
       "  <tbody>\n",
       "    <tr>\n",
       "      <th>0</th>\n",
       "      <td>Apr 23-May 12, 2020</td>\n",
       "      <td>0.31</td>\n",
       "    </tr>\n",
       "    <tr>\n",
       "      <th>1</th>\n",
       "      <td>May 7-May 19, 2020</td>\n",
       "      <td>0.3</td>\n",
       "    </tr>\n",
       "    <tr>\n",
       "      <th>2</th>\n",
       "      <td>May 14-May 26, 2020</td>\n",
       "      <td>0.31</td>\n",
       "    </tr>\n",
       "    <tr>\n",
       "      <th>3</th>\n",
       "      <td>May 21-Jun 2, 2020</td>\n",
       "      <td>0.32</td>\n",
       "    </tr>\n",
       "    <tr>\n",
       "      <th>4</th>\n",
       "      <td>May 28-Jun 9, 2020</td>\n",
       "      <td>0.32</td>\n",
       "    </tr>\n",
       "    <tr>\n",
       "      <th>5</th>\n",
       "      <td>Jun 4-Jun 16, 2020</td>\n",
       "      <td>0.32</td>\n",
       "    </tr>\n",
       "    <tr>\n",
       "      <th>6</th>\n",
       "      <td>Jun 11-Jun 23, 2020</td>\n",
       "      <td>0.33</td>\n",
       "    </tr>\n",
       "    <tr>\n",
       "      <th>7</th>\n",
       "      <td>Jun 18-Jun 30, 2020</td>\n",
       "      <td>0.32</td>\n",
       "    </tr>\n",
       "    <tr>\n",
       "      <th>8</th>\n",
       "      <td>Jun 25-Jul 7, 2020</td>\n",
       "      <td>0.31</td>\n",
       "    </tr>\n",
       "    <tr>\n",
       "      <th>9</th>\n",
       "      <td>Jul 2-Jul 14, 2020</td>\n",
       "      <td>0.3</td>\n",
       "    </tr>\n",
       "    <tr>\n",
       "      <th>10</th>\n",
       "      <td>Jul 9-Jul 21, 2020</td>\n",
       "      <td>0.32</td>\n",
       "    </tr>\n",
       "    <tr>\n",
       "      <th>11</th>\n",
       "      <td>Sep 2-Sep 28, 2020</td>\n",
       "      <td>0.31</td>\n",
       "    </tr>\n",
       "    <tr>\n",
       "      <th>12</th>\n",
       "      <td>Aug 19-Sep 14, 2020</td>\n",
       "      <td>0.32</td>\n",
       "    </tr>\n",
       "    <tr>\n",
       "      <th>13</th>\n",
       "      <td>Sep 16-Oct 12, 2020</td>\n",
       "      <td>0.32</td>\n",
       "    </tr>\n",
       "    <tr>\n",
       "      <th>14</th>\n",
       "      <td>Sep 30-Oct 26, 2020</td>\n",
       "      <td>0.36</td>\n",
       "    </tr>\n",
       "    <tr>\n",
       "      <th>15</th>\n",
       "      <td>Oct 14-Nov 9, 2020</td>\n",
       "      <td>0.37</td>\n",
       "    </tr>\n",
       "    <tr>\n",
       "      <th>16</th>\n",
       "      <td>Oct 28-Nov 23, 2020</td>\n",
       "      <td>0.39</td>\n",
       "    </tr>\n",
       "    <tr>\n",
       "      <th>17</th>\n",
       "      <td>Nov 11-Dec 7, 2020</td>\n",
       "      <td>0.39</td>\n",
       "    </tr>\n",
       "    <tr>\n",
       "      <th>18</th>\n",
       "      <td>Nov 25-Dec 21, 2020</td>\n",
       "      <td>0.38</td>\n",
       "    </tr>\n",
       "    <tr>\n",
       "      <th>19</th>\n",
       "      <td>Jan 6-Feb 1, 2021</td>\n",
       "      <td>0.36</td>\n",
       "    </tr>\n",
       "    <tr>\n",
       "      <th>20</th>\n",
       "      <td>Jan 20-Feb 15, 2021</td>\n",
       "      <td>0.4</td>\n",
       "    </tr>\n",
       "    <tr>\n",
       "      <th>21</th>\n",
       "      <td>Feb 3-Mar 1, 2021</td>\n",
       "      <td>0.42</td>\n",
       "    </tr>\n",
       "    <tr>\n",
       "      <th>22</th>\n",
       "      <td>Feb 17-Mar 15, 2021</td>\n",
       "      <td>0.4</td>\n",
       "    </tr>\n",
       "    <tr>\n",
       "      <th>23</th>\n",
       "      <td>Mar 3-Mar 29, 2021</td>\n",
       "      <td>0.36</td>\n",
       "    </tr>\n",
       "    <tr>\n",
       "      <th>24</th>\n",
       "      <td>Apr 14-May 10, 2021</td>\n",
       "      <td>0.35</td>\n",
       "    </tr>\n",
       "    <tr>\n",
       "      <th>25</th>\n",
       "      <td>Apr 28-May 24, 2021</td>\n",
       "      <td>0.32</td>\n",
       "    </tr>\n",
       "    <tr>\n",
       "      <th>26</th>\n",
       "      <td>May 12-Jun 07, 2021</td>\n",
       "      <td>0.31</td>\n",
       "    </tr>\n",
       "    <tr>\n",
       "      <th>27</th>\n",
       "      <td>May 26-Jun 21, 2021</td>\n",
       "      <td>0.32</td>\n",
       "    </tr>\n",
       "    <tr>\n",
       "      <th>28</th>\n",
       "      <td>Jun 09-Jul 05, 2021</td>\n",
       "      <td>0.35</td>\n",
       "    </tr>\n",
       "  </tbody>\n",
       "</table>\n",
       "</div>"
      ],
      "text/plain": [
       "              TimeFrame  Data\n",
       "0   Apr 23-May 12, 2020  0.31\n",
       "1    May 7-May 19, 2020   0.3\n",
       "2   May 14-May 26, 2020  0.31\n",
       "3    May 21-Jun 2, 2020  0.32\n",
       "4    May 28-Jun 9, 2020  0.32\n",
       "5    Jun 4-Jun 16, 2020  0.32\n",
       "6   Jun 11-Jun 23, 2020  0.33\n",
       "7   Jun 18-Jun 30, 2020  0.32\n",
       "8    Jun 25-Jul 7, 2020  0.31\n",
       "9    Jul 2-Jul 14, 2020   0.3\n",
       "10   Jul 9-Jul 21, 2020  0.32\n",
       "11   Sep 2-Sep 28, 2020  0.31\n",
       "12  Aug 19-Sep 14, 2020  0.32\n",
       "13  Sep 16-Oct 12, 2020  0.32\n",
       "14  Sep 30-Oct 26, 2020  0.36\n",
       "15   Oct 14-Nov 9, 2020  0.37\n",
       "16  Oct 28-Nov 23, 2020  0.39\n",
       "17   Nov 11-Dec 7, 2020  0.39\n",
       "18  Nov 25-Dec 21, 2020  0.38\n",
       "19    Jan 6-Feb 1, 2021  0.36\n",
       "20  Jan 20-Feb 15, 2021   0.4\n",
       "21    Feb 3-Mar 1, 2021  0.42\n",
       "22  Feb 17-Mar 15, 2021   0.4\n",
       "23   Mar 3-Mar 29, 2021  0.36\n",
       "24  Apr 14-May 10, 2021  0.35\n",
       "25  Apr 28-May 24, 2021  0.32\n",
       "26  May 12-Jun 07, 2021  0.31\n",
       "27  May 26-Jun 21, 2021  0.32\n",
       "28  Jun 09-Jul 05, 2021  0.35"
      ]
     },
     "execution_count": 150,
     "metadata": {},
     "output_type": "execute_result"
    }
   ],
   "source": [
    "df_4 = df_4.drop(df_4[df_4['Data'] == 'S'].index)\n",
    "df_4 = df_4.drop(df_4[df_4['Location'] != 'United States'].index)\n",
    "\n",
    "delete_columns('LocationType', df_4)\n",
    "delete_columns('Location', df_4)\n",
    "delete_columns('DataFormat', df_4)\n",
    "df_4"
   ]
  },
  {
   "cell_type": "markdown",
   "metadata": {
    "pycharm": {
     "name": "#%% md\n"
    }
   },
   "source": [
    "**I again repeated the same method so that I could create percentages and clean the data.**"
   ]
  },
  {
   "cell_type": "code",
   "execution_count": 151,
   "metadata": {
    "pycharm": {
     "name": "#%%\n"
    }
   },
   "outputs": [
    {
     "name": "stdout",
     "output_type": "stream",
     "text": [
      "Percentages: [31.0, 30.0, 31.0, 32.0, 32.0, 32.0, 33.0, 32.0, 31.0, 30.0, 32.0, 31.0, 32.0, 32.0, 36.0, 37.0, 39.0, 39.0, 38.0, 36.0, 40.0, 42.0, 40.0, 36.0, 35.0, 32.0, 31.0, 32.0, 35.0]\n"
     ]
    }
   ],
   "source": [
    "# convert to float\n",
    "temp_4 = [float(df_4['Data'][x]) for x in range(0, len(df_4['Data']))]\n",
    "data_p_4 = calc_per(temp_4)"
   ]
  },
  {
   "cell_type": "markdown",
   "metadata": {
    "pycharm": {
     "name": "#%% md\n"
    }
   },
   "source": [
    "**I then inserted the new column and deleted the old.**"
   ]
  },
  {
   "cell_type": "code",
   "execution_count": 152,
   "metadata": {
    "pycharm": {
     "name": "#%%\n"
    },
    "tags": []
   },
   "outputs": [
    {
     "data": {
      "text/html": [
       "<div>\n",
       "<style scoped>\n",
       "    .dataframe tbody tr th:only-of-type {\n",
       "        vertical-align: middle;\n",
       "    }\n",
       "\n",
       "    .dataframe tbody tr th {\n",
       "        vertical-align: top;\n",
       "    }\n",
       "\n",
       "    .dataframe thead th {\n",
       "        text-align: right;\n",
       "    }\n",
       "</style>\n",
       "<table border=\"1\" class=\"dataframe\">\n",
       "  <thead>\n",
       "    <tr style=\"text-align: right;\">\n",
       "      <th></th>\n",
       "      <th>TimeFrame</th>\n",
       "      <th>Data (%)</th>\n",
       "    </tr>\n",
       "  </thead>\n",
       "  <tbody>\n",
       "    <tr>\n",
       "      <th>0</th>\n",
       "      <td>Apr 23-May 12, 2020</td>\n",
       "      <td>31.0</td>\n",
       "    </tr>\n",
       "    <tr>\n",
       "      <th>1</th>\n",
       "      <td>May 7-May 19, 2020</td>\n",
       "      <td>30.0</td>\n",
       "    </tr>\n",
       "    <tr>\n",
       "      <th>2</th>\n",
       "      <td>May 14-May 26, 2020</td>\n",
       "      <td>31.0</td>\n",
       "    </tr>\n",
       "    <tr>\n",
       "      <th>3</th>\n",
       "      <td>May 21-Jun 2, 2020</td>\n",
       "      <td>32.0</td>\n",
       "    </tr>\n",
       "    <tr>\n",
       "      <th>4</th>\n",
       "      <td>May 28-Jun 9, 2020</td>\n",
       "      <td>32.0</td>\n",
       "    </tr>\n",
       "    <tr>\n",
       "      <th>5</th>\n",
       "      <td>Jun 4-Jun 16, 2020</td>\n",
       "      <td>32.0</td>\n",
       "    </tr>\n",
       "    <tr>\n",
       "      <th>6</th>\n",
       "      <td>Jun 11-Jun 23, 2020</td>\n",
       "      <td>33.0</td>\n",
       "    </tr>\n",
       "    <tr>\n",
       "      <th>7</th>\n",
       "      <td>Jun 18-Jun 30, 2020</td>\n",
       "      <td>32.0</td>\n",
       "    </tr>\n",
       "    <tr>\n",
       "      <th>8</th>\n",
       "      <td>Jun 25-Jul 7, 2020</td>\n",
       "      <td>31.0</td>\n",
       "    </tr>\n",
       "    <tr>\n",
       "      <th>9</th>\n",
       "      <td>Jul 2-Jul 14, 2020</td>\n",
       "      <td>30.0</td>\n",
       "    </tr>\n",
       "    <tr>\n",
       "      <th>10</th>\n",
       "      <td>Jul 9-Jul 21, 2020</td>\n",
       "      <td>32.0</td>\n",
       "    </tr>\n",
       "    <tr>\n",
       "      <th>11</th>\n",
       "      <td>Sep 2-Sep 28, 2020</td>\n",
       "      <td>31.0</td>\n",
       "    </tr>\n",
       "    <tr>\n",
       "      <th>12</th>\n",
       "      <td>Aug 19-Sep 14, 2020</td>\n",
       "      <td>32.0</td>\n",
       "    </tr>\n",
       "    <tr>\n",
       "      <th>13</th>\n",
       "      <td>Sep 16-Oct 12, 2020</td>\n",
       "      <td>32.0</td>\n",
       "    </tr>\n",
       "    <tr>\n",
       "      <th>14</th>\n",
       "      <td>Sep 30-Oct 26, 2020</td>\n",
       "      <td>36.0</td>\n",
       "    </tr>\n",
       "    <tr>\n",
       "      <th>15</th>\n",
       "      <td>Oct 14-Nov 9, 2020</td>\n",
       "      <td>37.0</td>\n",
       "    </tr>\n",
       "    <tr>\n",
       "      <th>16</th>\n",
       "      <td>Oct 28-Nov 23, 2020</td>\n",
       "      <td>39.0</td>\n",
       "    </tr>\n",
       "    <tr>\n",
       "      <th>17</th>\n",
       "      <td>Nov 11-Dec 7, 2020</td>\n",
       "      <td>39.0</td>\n",
       "    </tr>\n",
       "    <tr>\n",
       "      <th>18</th>\n",
       "      <td>Nov 25-Dec 21, 2020</td>\n",
       "      <td>38.0</td>\n",
       "    </tr>\n",
       "    <tr>\n",
       "      <th>19</th>\n",
       "      <td>Jan 6-Feb 1, 2021</td>\n",
       "      <td>36.0</td>\n",
       "    </tr>\n",
       "    <tr>\n",
       "      <th>20</th>\n",
       "      <td>Jan 20-Feb 15, 2021</td>\n",
       "      <td>40.0</td>\n",
       "    </tr>\n",
       "    <tr>\n",
       "      <th>21</th>\n",
       "      <td>Feb 3-Mar 1, 2021</td>\n",
       "      <td>42.0</td>\n",
       "    </tr>\n",
       "    <tr>\n",
       "      <th>22</th>\n",
       "      <td>Feb 17-Mar 15, 2021</td>\n",
       "      <td>40.0</td>\n",
       "    </tr>\n",
       "    <tr>\n",
       "      <th>23</th>\n",
       "      <td>Mar 3-Mar 29, 2021</td>\n",
       "      <td>36.0</td>\n",
       "    </tr>\n",
       "    <tr>\n",
       "      <th>24</th>\n",
       "      <td>Apr 14-May 10, 2021</td>\n",
       "      <td>35.0</td>\n",
       "    </tr>\n",
       "    <tr>\n",
       "      <th>25</th>\n",
       "      <td>Apr 28-May 24, 2021</td>\n",
       "      <td>32.0</td>\n",
       "    </tr>\n",
       "    <tr>\n",
       "      <th>26</th>\n",
       "      <td>May 12-Jun 07, 2021</td>\n",
       "      <td>31.0</td>\n",
       "    </tr>\n",
       "    <tr>\n",
       "      <th>27</th>\n",
       "      <td>May 26-Jun 21, 2021</td>\n",
       "      <td>32.0</td>\n",
       "    </tr>\n",
       "    <tr>\n",
       "      <th>28</th>\n",
       "      <td>Jun 09-Jul 05, 2021</td>\n",
       "      <td>35.0</td>\n",
       "    </tr>\n",
       "  </tbody>\n",
       "</table>\n",
       "</div>"
      ],
      "text/plain": [
       "              TimeFrame  Data (%)\n",
       "0   Apr 23-May 12, 2020      31.0\n",
       "1    May 7-May 19, 2020      30.0\n",
       "2   May 14-May 26, 2020      31.0\n",
       "3    May 21-Jun 2, 2020      32.0\n",
       "4    May 28-Jun 9, 2020      32.0\n",
       "5    Jun 4-Jun 16, 2020      32.0\n",
       "6   Jun 11-Jun 23, 2020      33.0\n",
       "7   Jun 18-Jun 30, 2020      32.0\n",
       "8    Jun 25-Jul 7, 2020      31.0\n",
       "9    Jul 2-Jul 14, 2020      30.0\n",
       "10   Jul 9-Jul 21, 2020      32.0\n",
       "11   Sep 2-Sep 28, 2020      31.0\n",
       "12  Aug 19-Sep 14, 2020      32.0\n",
       "13  Sep 16-Oct 12, 2020      32.0\n",
       "14  Sep 30-Oct 26, 2020      36.0\n",
       "15   Oct 14-Nov 9, 2020      37.0\n",
       "16  Oct 28-Nov 23, 2020      39.0\n",
       "17   Nov 11-Dec 7, 2020      39.0\n",
       "18  Nov 25-Dec 21, 2020      38.0\n",
       "19    Jan 6-Feb 1, 2021      36.0\n",
       "20  Jan 20-Feb 15, 2021      40.0\n",
       "21    Feb 3-Mar 1, 2021      42.0\n",
       "22  Feb 17-Mar 15, 2021      40.0\n",
       "23   Mar 3-Mar 29, 2021      36.0\n",
       "24  Apr 14-May 10, 2021      35.0\n",
       "25  Apr 28-May 24, 2021      32.0\n",
       "26  May 12-Jun 07, 2021      31.0\n",
       "27  May 26-Jun 21, 2021      32.0\n",
       "28  Jun 09-Jul 05, 2021      35.0"
      ]
     },
     "execution_count": 152,
     "metadata": {},
     "output_type": "execute_result"
    }
   ],
   "source": [
    "insert_columns(2, 'Data (%)', data_p_4, df_4)\n",
    "delete_columns(['Data'], df_4)\n",
    "df_4"
   ]
  },
  {
   "cell_type": "markdown",
   "metadata": {
    "pycharm": {
     "name": "#%% md\n"
    }
   },
   "source": [
    "**I then wrote the data to a csv file.**"
   ]
  },
  {
   "cell_type": "code",
   "execution_count": 153,
   "metadata": {
    "pycharm": {
     "name": "#%%\n"
    }
   },
   "outputs": [],
   "source": [
    "# Setting to false stops the index from being written out\n",
    "df_4.to_csv('./data/df_4.csv', index=False)"
   ]
  },
  {
   "cell_type": "markdown",
   "metadata": {
    "pycharm": {
     "name": "#%% md\n"
    }
   },
   "source": [
    "<hr>"
   ]
  },
  {
   "cell_type": "markdown",
   "metadata": {
    "pycharm": {
     "name": "#%% md\n"
    },
    "tags": []
   },
   "source": [
    "### URL[5] | Poor mental health"
   ]
  },
  {
   "cell_type": "markdown",
   "metadata": {
    "pycharm": {
     "name": "#%% md\n"
    }
   },
   "source": [
    "#### Number of Gen Z reporting poor mental health  \n",
    "This source contains data on the percentage of people who reported having zero days in the past 30 days, where there mental health was poor."
   ]
  },
  {
   "cell_type": "markdown",
   "metadata": {
    "pycharm": {
     "name": "#%% md\n"
    }
   },
   "source": [
    "**Importing the data**"
   ]
  },
  {
   "cell_type": "code",
   "execution_count": 156,
   "metadata": {
    "pycharm": {
     "name": "#%%\n"
    },
    "tags": []
   },
   "outputs": [
    {
     "data": {
      "text/html": [
       "<div>\n",
       "<style scoped>\n",
       "    .dataframe tbody tr th:only-of-type {\n",
       "        vertical-align: middle;\n",
       "    }\n",
       "\n",
       "    .dataframe tbody tr th {\n",
       "        vertical-align: top;\n",
       "    }\n",
       "\n",
       "    .dataframe thead th {\n",
       "        text-align: right;\n",
       "    }\n",
       "</style>\n",
       "<table border=\"1\" class=\"dataframe\">\n",
       "  <thead>\n",
       "    <tr style=\"text-align: right;\">\n",
       "      <th></th>\n",
       "      <th>LocationType</th>\n",
       "      <th>Location</th>\n",
       "      <th>TimeFrame</th>\n",
       "      <th>DataFormat</th>\n",
       "      <th>Data</th>\n",
       "    </tr>\n",
       "  </thead>\n",
       "  <tbody>\n",
       "    <tr>\n",
       "      <th>0</th>\n",
       "      <td>Nation</td>\n",
       "      <td>United States</td>\n",
       "      <td>2011-2013</td>\n",
       "      <td>Percent</td>\n",
       "      <td>0.54</td>\n",
       "    </tr>\n",
       "    <tr>\n",
       "      <th>1</th>\n",
       "      <td>Nation</td>\n",
       "      <td>United States</td>\n",
       "      <td>2012-2014</td>\n",
       "      <td>Percent</td>\n",
       "      <td>0.54</td>\n",
       "    </tr>\n",
       "    <tr>\n",
       "      <th>2</th>\n",
       "      <td>Nation</td>\n",
       "      <td>United States</td>\n",
       "      <td>2013-2015</td>\n",
       "      <td>Percent</td>\n",
       "      <td>0.54</td>\n",
       "    </tr>\n",
       "    <tr>\n",
       "      <th>3</th>\n",
       "      <td>Nation</td>\n",
       "      <td>United States</td>\n",
       "      <td>2014-2016</td>\n",
       "      <td>Percent</td>\n",
       "      <td>0.53</td>\n",
       "    </tr>\n",
       "    <tr>\n",
       "      <th>4</th>\n",
       "      <td>Nation</td>\n",
       "      <td>United States</td>\n",
       "      <td>2015-2017</td>\n",
       "      <td>Percent</td>\n",
       "      <td>0.51</td>\n",
       "    </tr>\n",
       "    <tr>\n",
       "      <th>...</th>\n",
       "      <td>...</td>\n",
       "      <td>...</td>\n",
       "      <td>...</td>\n",
       "      <td>...</td>\n",
       "      <td>...</td>\n",
       "    </tr>\n",
       "    <tr>\n",
       "      <th>366</th>\n",
       "      <td>Territory</td>\n",
       "      <td>Puerto Rico</td>\n",
       "      <td>2013-2015</td>\n",
       "      <td>Percent</td>\n",
       "      <td>0.80</td>\n",
       "    </tr>\n",
       "    <tr>\n",
       "      <th>367</th>\n",
       "      <td>Territory</td>\n",
       "      <td>Puerto Rico</td>\n",
       "      <td>2014-2016</td>\n",
       "      <td>Percent</td>\n",
       "      <td>0.81</td>\n",
       "    </tr>\n",
       "    <tr>\n",
       "      <th>368</th>\n",
       "      <td>Territory</td>\n",
       "      <td>Puerto Rico</td>\n",
       "      <td>2015-2017</td>\n",
       "      <td>Percent</td>\n",
       "      <td>0.81</td>\n",
       "    </tr>\n",
       "    <tr>\n",
       "      <th>369</th>\n",
       "      <td>Territory</td>\n",
       "      <td>Puerto Rico</td>\n",
       "      <td>2016-2018</td>\n",
       "      <td>Percent</td>\n",
       "      <td>0.79</td>\n",
       "    </tr>\n",
       "    <tr>\n",
       "      <th>370</th>\n",
       "      <td>Territory</td>\n",
       "      <td>Puerto Rico</td>\n",
       "      <td>2017-2019</td>\n",
       "      <td>Percent</td>\n",
       "      <td>0.78</td>\n",
       "    </tr>\n",
       "  </tbody>\n",
       "</table>\n",
       "<p>371 rows × 5 columns</p>\n",
       "</div>"
      ],
      "text/plain": [
       "    LocationType       Location  TimeFrame DataFormat  Data\n",
       "0         Nation  United States  2011-2013    Percent  0.54\n",
       "1         Nation  United States  2012-2014    Percent  0.54\n",
       "2         Nation  United States  2013-2015    Percent  0.54\n",
       "3         Nation  United States  2014-2016    Percent  0.53\n",
       "4         Nation  United States  2015-2017    Percent  0.51\n",
       "..           ...            ...        ...        ...   ...\n",
       "366    Territory    Puerto Rico  2013-2015    Percent  0.80\n",
       "367    Territory    Puerto Rico  2014-2016    Percent  0.81\n",
       "368    Territory    Puerto Rico  2015-2017    Percent  0.81\n",
       "369    Territory    Puerto Rico  2016-2018    Percent  0.79\n",
       "370    Territory    Puerto Rico  2017-2019    Percent  0.78\n",
       "\n",
       "[371 rows x 5 columns]"
      ]
     },
     "execution_count": 156,
     "metadata": {},
     "output_type": "execute_result"
    }
   ],
   "source": [
    "df_5 = import_excel('poor_mental_health')\n",
    "df_5"
   ]
  },
  {
   "cell_type": "markdown",
   "metadata": {
    "pycharm": {
     "name": "#%% md\n"
    }
   },
   "source": [
    "**This time there was no missing or erroneous data.**"
   ]
  },
  {
   "cell_type": "code",
   "execution_count": 162,
   "metadata": {
    "pycharm": {
     "name": "#%%\n"
    }
   },
   "outputs": [
    {
     "data": {
      "text/html": [
       "<div>\n",
       "<style scoped>\n",
       "    .dataframe tbody tr th:only-of-type {\n",
       "        vertical-align: middle;\n",
       "    }\n",
       "\n",
       "    .dataframe tbody tr th {\n",
       "        vertical-align: top;\n",
       "    }\n",
       "\n",
       "    .dataframe thead th {\n",
       "        text-align: right;\n",
       "    }\n",
       "</style>\n",
       "<table border=\"1\" class=\"dataframe\">\n",
       "  <thead>\n",
       "    <tr style=\"text-align: right;\">\n",
       "      <th></th>\n",
       "      <th>LocationType</th>\n",
       "      <th>Location</th>\n",
       "      <th>TimeFrame</th>\n",
       "      <th>DataFormat</th>\n",
       "      <th>Data</th>\n",
       "    </tr>\n",
       "  </thead>\n",
       "  <tbody>\n",
       "  </tbody>\n",
       "</table>\n",
       "</div>"
      ],
      "text/plain": [
       "Empty DataFrame\n",
       "Columns: [LocationType, Location, TimeFrame, DataFormat, Data]\n",
       "Index: []"
      ]
     },
     "execution_count": 162,
     "metadata": {},
     "output_type": "execute_result"
    }
   ],
   "source": [
    "df_5[df_5['Data'] == 'S']"
   ]
  },
  {
   "cell_type": "markdown",
   "metadata": {
    "pycharm": {
     "name": "#%% md\n"
    }
   },
   "source": [
    "**Though I still had to get rid of the data pertaining to individual states, and the unneeded columns.**"
   ]
  },
  {
   "cell_type": "code",
   "execution_count": 163,
   "metadata": {
    "pycharm": {
     "name": "#%%\n"
    },
    "tags": []
   },
   "outputs": [
    {
     "data": {
      "text/html": [
       "<div>\n",
       "<style scoped>\n",
       "    .dataframe tbody tr th:only-of-type {\n",
       "        vertical-align: middle;\n",
       "    }\n",
       "\n",
       "    .dataframe tbody tr th {\n",
       "        vertical-align: top;\n",
       "    }\n",
       "\n",
       "    .dataframe thead th {\n",
       "        text-align: right;\n",
       "    }\n",
       "</style>\n",
       "<table border=\"1\" class=\"dataframe\">\n",
       "  <thead>\n",
       "    <tr style=\"text-align: right;\">\n",
       "      <th></th>\n",
       "      <th>TimeFrame</th>\n",
       "      <th>Data</th>\n",
       "    </tr>\n",
       "  </thead>\n",
       "  <tbody>\n",
       "    <tr>\n",
       "      <th>0</th>\n",
       "      <td>2011-2013</td>\n",
       "      <td>0.54</td>\n",
       "    </tr>\n",
       "    <tr>\n",
       "      <th>1</th>\n",
       "      <td>2012-2014</td>\n",
       "      <td>0.54</td>\n",
       "    </tr>\n",
       "    <tr>\n",
       "      <th>2</th>\n",
       "      <td>2013-2015</td>\n",
       "      <td>0.54</td>\n",
       "    </tr>\n",
       "    <tr>\n",
       "      <th>3</th>\n",
       "      <td>2014-2016</td>\n",
       "      <td>0.53</td>\n",
       "    </tr>\n",
       "    <tr>\n",
       "      <th>4</th>\n",
       "      <td>2015-2017</td>\n",
       "      <td>0.51</td>\n",
       "    </tr>\n",
       "    <tr>\n",
       "      <th>5</th>\n",
       "      <td>2016-2018</td>\n",
       "      <td>0.49</td>\n",
       "    </tr>\n",
       "    <tr>\n",
       "      <th>6</th>\n",
       "      <td>2017-2019</td>\n",
       "      <td>0.46</td>\n",
       "    </tr>\n",
       "  </tbody>\n",
       "</table>\n",
       "</div>"
      ],
      "text/plain": [
       "   TimeFrame  Data\n",
       "0  2011-2013  0.54\n",
       "1  2012-2014  0.54\n",
       "2  2013-2015  0.54\n",
       "3  2014-2016  0.53\n",
       "4  2015-2017  0.51\n",
       "5  2016-2018  0.49\n",
       "6  2017-2019  0.46"
      ]
     },
     "execution_count": 163,
     "metadata": {},
     "output_type": "execute_result"
    }
   ],
   "source": [
    "df_5 = df_5.drop(df_5[df_5['Location'] != 'United States'].index)\n",
    "\n",
    "delete_columns('LocationType', df_5)\n",
    "delete_columns('Location', df_5)\n",
    "delete_columns('DataFormat', df_5)\n",
    "df_5"
   ]
  },
  {
   "cell_type": "markdown",
   "metadata": {
    "pycharm": {
     "name": "#%% md\n"
    }
   },
   "source": [
    "**I repeated the exact same method as before to turn the data into percentages.**"
   ]
  },
  {
   "cell_type": "code",
   "execution_count": 164,
   "metadata": {
    "pycharm": {
     "name": "#%%\n"
    }
   },
   "outputs": [
    {
     "name": "stdout",
     "output_type": "stream",
     "text": [
      "Percentages: [54.0, 54.0, 54.0, 53.0, 51.0, 49.0, 46.0]\n"
     ]
    }
   ],
   "source": [
    "# convert to float\n",
    "temp_5 = [float(df_5['Data'][x]) for x in range(0, len(df_5['Data']))]\n",
    "data_p_5 = calc_per(temp_5)"
   ]
  },
  {
   "cell_type": "markdown",
   "metadata": {
    "pycharm": {
     "name": "#%% md\n"
    }
   },
   "source": [
    "**I then added the new column for data and removed the old one.**"
   ]
  },
  {
   "cell_type": "code",
   "execution_count": 165,
   "metadata": {
    "pycharm": {
     "name": "#%%\n"
    }
   },
   "outputs": [
    {
     "data": {
      "text/html": [
       "<div>\n",
       "<style scoped>\n",
       "    .dataframe tbody tr th:only-of-type {\n",
       "        vertical-align: middle;\n",
       "    }\n",
       "\n",
       "    .dataframe tbody tr th {\n",
       "        vertical-align: top;\n",
       "    }\n",
       "\n",
       "    .dataframe thead th {\n",
       "        text-align: right;\n",
       "    }\n",
       "</style>\n",
       "<table border=\"1\" class=\"dataframe\">\n",
       "  <thead>\n",
       "    <tr style=\"text-align: right;\">\n",
       "      <th></th>\n",
       "      <th>TimeFrame</th>\n",
       "      <th>Data (%)</th>\n",
       "    </tr>\n",
       "  </thead>\n",
       "  <tbody>\n",
       "    <tr>\n",
       "      <th>0</th>\n",
       "      <td>2011-2013</td>\n",
       "      <td>54.0</td>\n",
       "    </tr>\n",
       "    <tr>\n",
       "      <th>1</th>\n",
       "      <td>2012-2014</td>\n",
       "      <td>54.0</td>\n",
       "    </tr>\n",
       "    <tr>\n",
       "      <th>2</th>\n",
       "      <td>2013-2015</td>\n",
       "      <td>54.0</td>\n",
       "    </tr>\n",
       "    <tr>\n",
       "      <th>3</th>\n",
       "      <td>2014-2016</td>\n",
       "      <td>53.0</td>\n",
       "    </tr>\n",
       "    <tr>\n",
       "      <th>4</th>\n",
       "      <td>2015-2017</td>\n",
       "      <td>51.0</td>\n",
       "    </tr>\n",
       "    <tr>\n",
       "      <th>5</th>\n",
       "      <td>2016-2018</td>\n",
       "      <td>49.0</td>\n",
       "    </tr>\n",
       "    <tr>\n",
       "      <th>6</th>\n",
       "      <td>2017-2019</td>\n",
       "      <td>46.0</td>\n",
       "    </tr>\n",
       "  </tbody>\n",
       "</table>\n",
       "</div>"
      ],
      "text/plain": [
       "   TimeFrame  Data (%)\n",
       "0  2011-2013      54.0\n",
       "1  2012-2014      54.0\n",
       "2  2013-2015      54.0\n",
       "3  2014-2016      53.0\n",
       "4  2015-2017      51.0\n",
       "5  2016-2018      49.0\n",
       "6  2017-2019      46.0"
      ]
     },
     "execution_count": 165,
     "metadata": {},
     "output_type": "execute_result"
    }
   ],
   "source": [
    "insert_columns(2, 'Data (%)', data_p_5, df_5)\n",
    "delete_columns(['Data'], df_5)\n",
    "df_5"
   ]
  },
  {
   "cell_type": "markdown",
   "metadata": {
    "pycharm": {
     "name": "#%% md\n"
    }
   },
   "source": [
    "**I then wrote the data to a csv file.**"
   ]
  },
  {
   "cell_type": "code",
   "execution_count": 166,
   "metadata": {
    "pycharm": {
     "name": "#%%\n"
    }
   },
   "outputs": [],
   "source": [
    "# Setting to false stops the index from being written out\n",
    "df_5.to_csv('./data/df_5.csv', index=False)"
   ]
  },
  {
   "cell_type": "markdown",
   "metadata": {
    "pycharm": {
     "name": "#%% md\n"
    }
   },
   "source": [
    "<hr>"
   ]
  },
  {
   "cell_type": "markdown",
   "metadata": {
    "pycharm": {
     "name": "#%% md\n"
    },
    "tags": []
   },
   "source": [
    "# 3 Exploratory data analysis"
   ]
  },
  {
   "cell_type": "markdown",
   "metadata": {
    "pycharm": {
     "name": "#%% md\n"
    },
    "tags": []
   },
   "source": [
    "### 3.1 The impact of a media influenced and technology driven world on Gen Z"
   ]
  },
  {
   "cell_type": "markdown",
   "metadata": {
    "pycharm": {
     "name": "#%% md\n"
    },
    "tags": []
   },
   "source": [
    "#### 3.1.1 Measuring the forms of media that Gen Z take in, is it considered traditional?"
   ]
  },
  {
   "cell_type": "markdown",
   "metadata": {
    "pycharm": {
     "name": "#%% md\n"
    }
   },
   "source": [
    "It is no secret the Generation Z are said to be glued to their phones, but to what extent does this relationship go? Just how dependent are Generation Zers to technology?  \n",
    "\n",
    "To go about answering this question, I decided that I would look into the news. This sounds terribly random, but the connection is uncanny. We live in a world that is constantly changing, with new headlines released each second, and news spreading like wildfire, people want to stay in the loop. There is a major FOMO (fear of missing out) amongst this young generation, and the easiest way to stay connected is to intake the news in some way or form."
   ]
  },
  {
   "cell_type": "code",
   "execution_count": 22,
   "metadata": {
    "pycharm": {
     "name": "#%%\n"
    }
   },
   "outputs": [
    {
     "data": {
      "text/html": [
       "<div>\n",
       "<style scoped>\n",
       "    .dataframe tbody tr th:only-of-type {\n",
       "        vertical-align: middle;\n",
       "    }\n",
       "\n",
       "    .dataframe tbody tr th {\n",
       "        vertical-align: top;\n",
       "    }\n",
       "\n",
       "    .dataframe thead th {\n",
       "        text-align: right;\n",
       "    }\n",
       "</style>\n",
       "<table border=\"1\" class=\"dataframe\">\n",
       "  <thead>\n",
       "    <tr style=\"text-align: right;\">\n",
       "      <th></th>\n",
       "      <th>Source</th>\n",
       "      <th>Daily (%)</th>\n",
       "      <th>A few times per week (%)</th>\n",
       "      <th>Once per week (%)</th>\n",
       "      <th>A few times per month (%)</th>\n",
       "      <th>Once per month (%)</th>\n",
       "      <th>Less than once per month (%)</th>\n",
       "      <th>Never (%)</th>\n",
       "    </tr>\n",
       "  </thead>\n",
       "  <tbody>\n",
       "    <tr>\n",
       "      <th>0</th>\n",
       "      <td>Social media</td>\n",
       "      <td>50</td>\n",
       "      <td>18</td>\n",
       "      <td>9</td>\n",
       "      <td>10</td>\n",
       "      <td>3</td>\n",
       "      <td>4</td>\n",
       "      <td>6</td>\n",
       "    </tr>\n",
       "    <tr>\n",
       "      <th>1</th>\n",
       "      <td>Radio</td>\n",
       "      <td>17</td>\n",
       "      <td>17</td>\n",
       "      <td>8</td>\n",
       "      <td>8</td>\n",
       "      <td>6</td>\n",
       "      <td>13</td>\n",
       "      <td>31</td>\n",
       "    </tr>\n",
       "    <tr>\n",
       "      <th>2</th>\n",
       "      <td>Online-only news sites</td>\n",
       "      <td>13</td>\n",
       "      <td>18</td>\n",
       "      <td>14</td>\n",
       "      <td>11</td>\n",
       "      <td>6</td>\n",
       "      <td>9</td>\n",
       "      <td>29</td>\n",
       "    </tr>\n",
       "    <tr>\n",
       "      <th>3</th>\n",
       "      <td>Podcasts</td>\n",
       "      <td>13</td>\n",
       "      <td>14</td>\n",
       "      <td>7</td>\n",
       "      <td>11</td>\n",
       "      <td>5</td>\n",
       "      <td>13</td>\n",
       "      <td>38</td>\n",
       "    </tr>\n",
       "    <tr>\n",
       "      <th>4</th>\n",
       "      <td>Network news</td>\n",
       "      <td>9</td>\n",
       "      <td>13</td>\n",
       "      <td>12</td>\n",
       "      <td>9</td>\n",
       "      <td>6</td>\n",
       "      <td>12</td>\n",
       "      <td>39</td>\n",
       "    </tr>\n",
       "    <tr>\n",
       "      <th>5</th>\n",
       "      <td>Cable news networks</td>\n",
       "      <td>8</td>\n",
       "      <td>14</td>\n",
       "      <td>9</td>\n",
       "      <td>7</td>\n",
       "      <td>6</td>\n",
       "      <td>12</td>\n",
       "      <td>44</td>\n",
       "    </tr>\n",
       "    <tr>\n",
       "      <th>6</th>\n",
       "      <td>Newspapers</td>\n",
       "      <td>5</td>\n",
       "      <td>4</td>\n",
       "      <td>9</td>\n",
       "      <td>6</td>\n",
       "      <td>6</td>\n",
       "      <td>17</td>\n",
       "      <td>53</td>\n",
       "    </tr>\n",
       "  </tbody>\n",
       "</table>\n",
       "</div>"
      ],
      "text/plain": [
       "                   Source  Daily (%)  A few times per week (%)  \\\n",
       "0            Social media         50                        18   \n",
       "1                   Radio         17                        17   \n",
       "2  Online-only news sites         13                        18   \n",
       "3                Podcasts         13                        14   \n",
       "4            Network news          9                        13   \n",
       "5     Cable news networks          8                        14   \n",
       "6              Newspapers          5                         4   \n",
       "\n",
       "   Once per week (%)  A few times per month (%)  Once per month (%)  \\\n",
       "0                  9                         10                   3   \n",
       "1                  8                          8                   6   \n",
       "2                 14                         11                   6   \n",
       "3                  7                         11                   5   \n",
       "4                 12                          9                   6   \n",
       "5                  9                          7                   6   \n",
       "6                  9                          6                   6   \n",
       "\n",
       "   Less than once per month (%)  Never (%)  \n",
       "0                             4          6  \n",
       "1                            13         31  \n",
       "2                             9         29  \n",
       "3                            13         38  \n",
       "4                            12         39  \n",
       "5                            12         44  \n",
       "6                            17         53  "
      ]
     },
     "execution_count": 22,
     "metadata": {},
     "output_type": "execute_result"
    }
   ],
   "source": [
    "df_0"
   ]
  },
  {
   "cell_type": "markdown",
   "metadata": {
    "pycharm": {
     "name": "#%% md\n"
    }
   },
   "source": [
    "The table above displays the information that I found.  \n",
    "I created a bar chart below to better display the data, and make it more digestible."
   ]
  },
  {
   "cell_type": "code",
   "execution_count": null,
   "metadata": {
    "pycharm": {
     "name": "#%%\n"
    }
   },
   "outputs": [],
   "source": [
    "df_0_copy = df_0\n",
    "df_0_copy.set_index('Source', inplace=True)"
   ]
  },
  {
   "cell_type": "code",
   "execution_count": 185,
   "metadata": {
    "pycharm": {
     "name": "#%%\n"
    }
   },
   "outputs": [
    {
     "data": {
      "text/plain": [
       "<AxesSubplot:title={'center':'News Sources Used by Gen Z'}, xlabel='Source'>"
      ]
     },
     "execution_count": 185,
     "metadata": {},
     "output_type": "execute_result"
    },
    {
     "data": {
      "image/png": "[encoded data removed]",
      "text/plain": [
       "<Figure size 1152x504 with 1 Axes>"
      ]
     },
     "metadata": {
      "needs_background": "light"
     },
     "output_type": "display_data"
    }
   ],
   "source": [
    "df_0_bar_chart = df_0_copy.plot.bar(rot=0, figsize = (16, 7), width = 0.8, title=\"News Sources Used by Gen Z\")\n",
    "df_0_bar_chart"
   ]
  },
  {
   "cell_type": "markdown",
   "metadata": {
    "pycharm": {
     "name": "#%% md\n"
    }
   },
   "source": [
    "In the bar chart above, I saw that the never bar was the highest for all other sources of news but social media. This meant that Generation Z's primary source of news was from social media. Taking a further look at the social media section, I came to realise that 50% of those who use social media as a news source, actually check the news daily. As opposed to the 5% of Newspapers users who check daily.  \n",
    "\n",
    "The lowest never bar aside from social media (6%) was online new sources which was at 29%. Based of the results from this study, I saw that the most common news sources were internet based, and social media was the most used as a news source.  \n",
    "\n",
    "What did this tell me? This brought about a lot of questions as social media is not very reliable because it is not monitored. At least with some of the other news sources, there has to be some checks that they go through. This is a demonstration of the way in which traditional news forms have adapted. A lot of newpapers have moved online, or have found other ways distributing the news, and so have their clientele.  \n",
    "\n",
    "What does this have to do with the influence of the media? This displayed just how dependent Generation Z is on social media. It is the main source of news for a high portion of them, with the other half mostly being internet based too. Without social media many would lose their connection to the news. It also illustrated the level of trust that they had for social media, as to take in news regularly from a particular source, you have trust that the information is somewhat factual. "
   ]
  },
  {
   "cell_type": "markdown",
   "metadata": {
    "pycharm": {
     "name": "#%% md\n"
    }
   },
   "source": [
    "<hr>"
   ]
  },
  {
   "cell_type": "markdown",
   "metadata": {
    "pycharm": {
     "name": "#%% md\n"
    },
    "tags": []
   },
   "source": [
    "#### 3.1.2 What impact has the media had on mental health?"
   ]
  },
  {
   "cell_type": "markdown",
   "metadata": {
    "pycharm": {
     "name": "#%% md\n"
    }
   },
   "source": [
    "We live in a world that thrives of competititon, people find themselves competiting for things that have no meaning at all. This is a concept that has been around for a while, technology just amplified it. People spend their time browsing through social media comparing what they see, to who they are. It is a vicious cycle, everyone posts theirselves at there best, no one wants to share their downfalls, unless they can make a joke out of it. Having grown up in ever tech growing world Generation Z have faced the brunt of it. The generation grew up sharing information online. What impact has that left on their mental health?"
   ]
  },
  {
   "cell_type": "markdown",
   "metadata": {
    "pycharm": {
     "name": "#%% md\n"
    }
   },
   "source": [
    "I transformed the data that I got from the body comparison source into a pie chart."
   ]
  },
  {
   "cell_type": "code",
   "execution_count": 103,
   "metadata": {
    "pycharm": {
     "name": "#%%\n"
    }
   },
   "outputs": [
    {
     "data": {
      "text/html": [
       "<div>\n",
       "<style scoped>\n",
       "    .dataframe tbody tr th:only-of-type {\n",
       "        vertical-align: middle;\n",
       "    }\n",
       "\n",
       "    .dataframe tbody tr th {\n",
       "        vertical-align: top;\n",
       "    }\n",
       "\n",
       "    .dataframe thead th {\n",
       "        text-align: right;\n",
       "    }\n",
       "</style>\n",
       "<table border=\"1\" class=\"dataframe\">\n",
       "  <thead>\n",
       "    <tr style=\"text-align: right;\">\n",
       "      <th></th>\n",
       "      <th>Percentage (%)</th>\n",
       "    </tr>\n",
       "    <tr>\n",
       "      <th>Body Comparison</th>\n",
       "      <th></th>\n",
       "    </tr>\n",
       "  </thead>\n",
       "  <tbody>\n",
       "    <tr>\n",
       "      <th>Never</th>\n",
       "      <td>2.5</td>\n",
       "    </tr>\n",
       "    <tr>\n",
       "      <th>Seldom</th>\n",
       "      <td>8.6</td>\n",
       "    </tr>\n",
       "    <tr>\n",
       "      <th>Sometimes</th>\n",
       "      <td>23.8</td>\n",
       "    </tr>\n",
       "    <tr>\n",
       "      <th>Often</th>\n",
       "      <td>39.3</td>\n",
       "    </tr>\n",
       "    <tr>\n",
       "      <th>Always</th>\n",
       "      <td>25.8</td>\n",
       "    </tr>\n",
       "  </tbody>\n",
       "</table>\n",
       "</div>"
      ],
      "text/plain": [
       "                 Percentage (%)\n",
       "Body Comparison                \n",
       "Never                       2.5\n",
       "Seldom                      8.6\n",
       "Sometimes                  23.8\n",
       "Often                      39.3\n",
       "Always                     25.8"
      ]
     },
     "execution_count": 103,
     "metadata": {},
     "output_type": "execute_result"
    }
   ],
   "source": [
    "body_comparison_copy = body_comparison\n",
    "body_comparison_copy.set_index('Body Comparison', inplace=True)\n",
    "delete_columns('Percentage (f)', body_comparison_copy)\n",
    "\n",
    "body_comparison_copy"
   ]
  },
  {
   "cell_type": "code",
   "execution_count": 180,
   "metadata": {
    "pycharm": {
     "name": "#%%\n"
    }
   },
   "outputs": [
    {
     "data": {
      "image/png": "[encoded data removed]",
      "text/plain": [
       "<Figure size 504x504 with 1 Axes>"
      ]
     },
     "metadata": {},
     "output_type": "display_data"
    }
   ],
   "source": [
    "body_comparison_pie = body_comparison_copy.plot.pie(y='Percentage (%)', figsize=(7, 7), \n",
    "                                                    colors=[\"#C71585\", \"#9400D3\", \"#008080\", \"#1E90FF\", \"#EEE8AA\"]\n",
    "                                                    , title=\"Body Comparison\")"
   ]
  },
  {
   "cell_type": "markdown",
   "metadata": {
    "pycharm": {
     "name": "#%% md\n"
    }
   },
   "source": [
    "Above you can see that a large proportion of Generation Z compare their bodies to what they see online. When I put the never and seldom category together, and then lumped the rest together- I inferred that 88.9% of Genereration Z sometimes or more than sometimes compare their bodies to others. That puts a lot of stress on a person, but where is this need to better coming from? Why do young people increasingly feel the need to look perfect?  \n",
    "\n",
    "According to the site where I got this data. In order to attain these finding, those taking part had to fill out a questionnaire. The contents of the questionnaire is below."
   ]
  },
  {
   "cell_type": "markdown",
   "metadata": {
    "pycharm": {
     "name": "#%% md\n"
    }
   },
   "source": [
    "<figure>\n",
    "    <img style=\"width: 70%;\" src=\"./data/questionnaire.png\">\n",
    "    <figcaption>Questionnaire taken from <a href=\"https://www.ncbi.nlm.nih.gov/pmc/articles/PMC8001450/\">ncbi</a></figcaption>\n",
    "</figure>"
   ]
  },
  {
   "cell_type": "markdown",
   "metadata": {
    "pycharm": {
     "name": "#%% md\n"
    }
   },
   "source": [
    "Looking at the figure above you are able to see just how deep this can be. It is not simply comparing hair colour, people are really critically analysing theirselves. This comes as no surprise. As our world becomes more digital, things appear perfect, and now people also feel the need to be perfect."
   ]
  },
  {
   "cell_type": "markdown",
   "metadata": {
    "pycharm": {
     "name": "#%% md\n"
    }
   },
   "source": [
    "<hr>"
   ]
  },
  {
   "cell_type": "markdown",
   "metadata": {
    "pycharm": {
     "name": "#%% md\n"
    },
    "tags": []
   },
   "source": [
    "### 3.2 Living with social media and its ramifications"
   ]
  },
  {
   "cell_type": "markdown",
   "metadata": {
    "pycharm": {
     "name": "#%% md\n"
    },
    "tags": []
   },
   "source": [
    "#### 3.2.1 How often are people on social media?"
   ]
  },
  {
   "cell_type": "markdown",
   "metadata": {
    "pycharm": {
     "name": "#%% md\n"
    }
   },
   "source": [
    "I have written a lot about the impact of social media. That being said, for something to have that big of an impact on you, you have to be influenced by it. In order to be influenced, you need to be around the influencer- therefore you must be using social media frequently. To get closer to the bottom of this, I decided to have a closer look at the social media use frequency data that I attained."
   ]
  },
  {
   "cell_type": "code",
   "execution_count": 95,
   "metadata": {
    "pycharm": {
     "name": "#%%\n"
    }
   },
   "outputs": [
    {
     "data": {
      "text/html": [
       "<div>\n",
       "<style scoped>\n",
       "    .dataframe tbody tr th:only-of-type {\n",
       "        vertical-align: middle;\n",
       "    }\n",
       "\n",
       "    .dataframe tbody tr th {\n",
       "        vertical-align: top;\n",
       "    }\n",
       "\n",
       "    .dataframe thead th {\n",
       "        text-align: right;\n",
       "    }\n",
       "</style>\n",
       "<table border=\"1\" class=\"dataframe\">\n",
       "  <thead>\n",
       "    <tr style=\"text-align: right;\">\n",
       "      <th></th>\n",
       "      <th>Frequency</th>\n",
       "      <th>Percentage (%)</th>\n",
       "      <th>Percentage (f)</th>\n",
       "    </tr>\n",
       "  </thead>\n",
       "  <tbody>\n",
       "    <tr>\n",
       "      <th>0</th>\n",
       "      <td>Max. once a day</td>\n",
       "      <td>4.8</td>\n",
       "      <td>0.048</td>\n",
       "    </tr>\n",
       "    <tr>\n",
       "      <th>1</th>\n",
       "      <td>2 to 10 times a day</td>\n",
       "      <td>43.4</td>\n",
       "      <td>0.434</td>\n",
       "    </tr>\n",
       "    <tr>\n",
       "      <th>2</th>\n",
       "      <td>10 to 20 times a day</td>\n",
       "      <td>33.0</td>\n",
       "      <td>0.330</td>\n",
       "    </tr>\n",
       "    <tr>\n",
       "      <th>3</th>\n",
       "      <td>Over 20 times a day</td>\n",
       "      <td>18.8</td>\n",
       "      <td>0.188</td>\n",
       "    </tr>\n",
       "  </tbody>\n",
       "</table>\n",
       "</div>"
      ],
      "text/plain": [
       "              Frequency  Percentage (%)  Percentage (f)\n",
       "0       Max. once a day             4.8           0.048\n",
       "1   2 to 10 times a day            43.4           0.434\n",
       "2  10 to 20 times a day            33.0           0.330\n",
       "3   Over 20 times a day            18.8           0.188"
      ]
     },
     "execution_count": 95,
     "metadata": {},
     "output_type": "execute_result"
    }
   ],
   "source": [
    "social_media_use_f = pd.read_csv('./data/social_media_use_f.csv')\n",
    "social_media_use_f"
   ]
  },
  {
   "cell_type": "code",
   "execution_count": 96,
   "metadata": {
    "pycharm": {
     "name": "#%%\n"
    }
   },
   "outputs": [
    {
     "data": {
      "image/png": "[encoded data removed]",
      "text/plain": [
       "<Figure size 432x288 with 1 Axes>"
      ]
     },
     "metadata": {},
     "output_type": "display_data"
    }
   ],
   "source": [
    "# data\n",
    "sm_use_f_data = [x for x in social_media_use_f['Percentage (%)']]\n",
    "\n",
    "# keys\n",
    "sm_use_f_keys = [x for x in social_media_use_f['Frequency']]\n",
    "\n",
    "# exploding pie\n",
    "sm_use_f_explode = [0.3, 0.025, 0.025, 0.025]\n",
    "\n",
    "# colours\n",
    "#LightSkyBlue, DodgerBlue, LightGreen, Turquoise\n",
    "sm_use_f_palette = ['#87CEFA', '#1E90FF', '#90EE90', '#40E0D0']\n",
    "sm_use_f_colours = sns.color_palette(sm_use_f_palette)\n",
    "\n",
    "#create pie chart\n",
    "plt.pie(sm_use_f_data, labels=sm_use_f_keys, colors=sm_use_f_colours, explode=sm_use_f_explode, autopct='%.0f%%')\n",
    "plt.title(\"Social Media Use (frequency)\")\n",
    "plt.show()"
   ]
  },
  {
   "cell_type": "markdown",
   "metadata": {
    "pycharm": {
     "name": "#%% md\n"
    }
   },
   "source": [
    "Above is the pie chart that I created that clearly shows the frequency of social media usage. In the figure above, you can see that only 5% percent of the people that were surveyed used social media a maximum of once a day. According to the data above, a whopping 95% of people used social media twice or more times a day. That is going onto their chosen platform browsing for a while and getting off, then repeating the same thing all over again.\n",
    "\n",
    "52% of people used social media over 10 times a day, and 19% used social media over 20 times a day.  \n",
    "\n",
    "From this data, I can deduce that people are more than likely constantly checking their phones, and waiting for a notification. With the amount dedicated to checking social media, this begs the question, just how many hours are people on social media for?"
   ]
  },
  {
   "cell_type": "code",
   "execution_count": 81,
   "metadata": {
    "pycharm": {
     "name": "#%%\n"
    },
    "tags": []
   },
   "outputs": [
    {
     "data": {
      "text/html": [
       "<div>\n",
       "<style scoped>\n",
       "    .dataframe tbody tr th:only-of-type {\n",
       "        vertical-align: middle;\n",
       "    }\n",
       "\n",
       "    .dataframe tbody tr th {\n",
       "        vertical-align: top;\n",
       "    }\n",
       "\n",
       "    .dataframe thead th {\n",
       "        text-align: right;\n",
       "    }\n",
       "</style>\n",
       "<table border=\"1\" class=\"dataframe\">\n",
       "  <thead>\n",
       "    <tr style=\"text-align: right;\">\n",
       "      <th></th>\n",
       "      <th>Percentage (%)</th>\n",
       "    </tr>\n",
       "    <tr>\n",
       "      <th>Frequency</th>\n",
       "      <th></th>\n",
       "    </tr>\n",
       "  </thead>\n",
       "  <tbody>\n",
       "    <tr>\n",
       "      <th>Max. once a day</th>\n",
       "      <td>4.8</td>\n",
       "    </tr>\n",
       "    <tr>\n",
       "      <th>2 to 10 times a day</th>\n",
       "      <td>43.4</td>\n",
       "    </tr>\n",
       "    <tr>\n",
       "      <th>10 to 20 times a day</th>\n",
       "      <td>33.0</td>\n",
       "    </tr>\n",
       "    <tr>\n",
       "      <th>Over 20 times a day</th>\n",
       "      <td>18.8</td>\n",
       "    </tr>\n",
       "  </tbody>\n",
       "</table>\n",
       "</div>"
      ],
      "text/plain": [
       "                      Percentage (%)\n",
       "Frequency                           \n",
       "Max. once a day                  4.8\n",
       "2 to 10 times a day             43.4\n",
       "10 to 20 times a day            33.0\n",
       "Over 20 times a day             18.8"
      ]
     },
     "execution_count": 81,
     "metadata": {},
     "output_type": "execute_result"
    }
   ],
   "source": [
    "social_media_use_f_copy = social_media_use_f\n",
    "social_media_use_f_copy.set_index('Frequency', inplace=True)\n",
    "delete_columns('Percentage (f)', social_media_use_f_copy)\n",
    "\n",
    "social_media_use_f_copy"
   ]
  },
  {
   "cell_type": "markdown",
   "metadata": {
    "pycharm": {
     "name": "#%% md\n"
    }
   },
   "source": [
    "Another version of the pie chart above."
   ]
  },
  {
   "cell_type": "code",
   "execution_count": 186,
   "metadata": {
    "pycharm": {
     "name": "#%%\n"
    }
   },
   "outputs": [
    {
     "data": {
      "image/png": "[encoded data removed]",
      "text/plain": [
       "<Figure size 360x360 with 1 Axes>"
      ]
     },
     "metadata": {},
     "output_type": "display_data"
    }
   ],
   "source": [
    "social_media_use_f_pie = social_media_use_f_copy.plot.pie(y='Percentage (%)', figsize=(5, 5), \n",
    "                                                          colors=[\"#90EE90\", \"#9370DB\", \"#FF6347\", \"#1E90FF\"],\n",
    "                                                          title=\"Social Media Use\")"
   ]
  },
  {
   "cell_type": "markdown",
   "metadata": {
    "pycharm": {
     "name": "#%% md\n"
    }
   },
   "source": [
    "<hr>"
   ]
  },
  {
   "cell_type": "markdown",
   "metadata": {
    "pycharm": {
     "name": "#%% md\n"
    },
    "tags": []
   },
   "source": [
    "#### 3.2.2 How long are people on social media for?"
   ]
  },
  {
   "cell_type": "markdown",
   "metadata": {
    "pycharm": {
     "name": "#%% md\n"
    }
   },
   "source": [
    "That being said, the issue with the data above is that, yes people are using social media frequently, but if they are not using it for hours upon hours, those it really matter?\n",
    "\n",
    "I have explored how often people are on social media, but what about how long they are on it for? If they are just on it for a total of 10 minutes, then them using it 10 times, doesn't really mean much, they only are on it for a minute a piece."
   ]
  },
  {
   "cell_type": "markdown",
   "metadata": {
    "pycharm": {
     "name": "#%% md\n"
    }
   },
   "source": [
    "I created another pie chart to display the data that I refined on the time spent on social media."
   ]
  },
  {
   "cell_type": "code",
   "execution_count": 93,
   "metadata": {
    "pycharm": {
     "name": "#%%\n"
    }
   },
   "outputs": [
    {
     "data": {
      "text/html": [
       "<div>\n",
       "<style scoped>\n",
       "    .dataframe tbody tr th:only-of-type {\n",
       "        vertical-align: middle;\n",
       "    }\n",
       "\n",
       "    .dataframe tbody tr th {\n",
       "        vertical-align: top;\n",
       "    }\n",
       "\n",
       "    .dataframe thead th {\n",
       "        text-align: right;\n",
       "    }\n",
       "</style>\n",
       "<table border=\"1\" class=\"dataframe\">\n",
       "  <thead>\n",
       "    <tr style=\"text-align: right;\">\n",
       "      <th></th>\n",
       "      <th>Percentage (%)</th>\n",
       "    </tr>\n",
       "    <tr>\n",
       "      <th>Time Spent</th>\n",
       "      <th></th>\n",
       "    </tr>\n",
       "  </thead>\n",
       "  <tbody>\n",
       "    <tr>\n",
       "      <th>Less than 1 h</th>\n",
       "      <td>17.4</td>\n",
       "    </tr>\n",
       "    <tr>\n",
       "      <th>Between 1 and 5 h</th>\n",
       "      <td>78.7</td>\n",
       "    </tr>\n",
       "    <tr>\n",
       "      <th>Over 5 h</th>\n",
       "      <td>3.8</td>\n",
       "    </tr>\n",
       "  </tbody>\n",
       "</table>\n",
       "</div>"
      ],
      "text/plain": [
       "                   Percentage (%)\n",
       "Time Spent                       \n",
       "Less than 1 h                17.4\n",
       "Between 1 and 5 h            78.7\n",
       "Over 5 h                      3.8"
      ]
     },
     "execution_count": 93,
     "metadata": {},
     "output_type": "execute_result"
    }
   ],
   "source": [
    "social_media_use_t_copy = social_media_use_t\n",
    "social_media_use_t_copy.set_index('Time Spent', inplace=True)\n",
    "delete_columns('Percentage (f)', social_media_use_t_copy)\n",
    "\n",
    "social_media_use_t_copy"
   ]
  },
  {
   "cell_type": "code",
   "execution_count": 188,
   "metadata": {
    "pycharm": {
     "name": "#%%\n"
    }
   },
   "outputs": [
    {
     "data": {
      "image/png": "[encoded data removed]",
      "text/plain": [
       "<Figure size 360x360 with 1 Axes>"
      ]
     },
     "metadata": {},
     "output_type": "display_data"
    }
   ],
   "source": [
    "social_media_use_t_pie = social_media_use_t_copy.plot.pie(y='Percentage (%)', figsize=(5, 5), \n",
    "                                                          colors=[\"#20B2AA\", \"#CD5C5C\", \"#FFE4B5\"],\n",
    "                                                          title=\"Time Spent on Social Media\")"
   ]
  },
  {
   "cell_type": "markdown",
   "metadata": {
    "pycharm": {
     "name": "#%% md\n"
    }
   },
   "source": [
    "The pie chart above is a visual representation of the table just above it. According to the figure about 2/3 of Generation Zers spend between 1 and 5 hours on social media, with 3.8% of them spending over 5 hours, and 17.4% spending less than 1 hour.  \n",
    "\n",
    "From the above data we can see that about 66% of Generation Z spend 1 hours to 5 hours on social. This doesn't seem like such a large number. Though I would like to mention that there is a big difference between 1 hour and 5 hours, 5 hours is exactly 5 times the amount of time- which is a huge difference. To improve on the validity of the data, and to give more detailed data, I believe that the study should have been conducted with smaller categories. I feel as though the jump from 1 to 5 is simply to large.  \n",
    "\n",
    "What I took from this data, was that Generation Z spent a moderate time on social media. I know from reading the source of the data, that those who took part are on the older half of the Generation (18-24). This means that they were possibly working full time, or perhaps studying full time. This suggests that they didn't have as much time to spare on spending hours upon hours on social media. That being said, I saw earlier that they use social media very frequently (majoritity more than 10 times a day). This led me to believe that were constantly checking social media, either during their work breaks, or perhaps during work itself- due to how often the were checking.\n",
    "\n",
    "Overall, this data shows just how much social media is integrated in their system, due to how frequently they use it, and how long they are on it for.\n",
    "\n",
    "That being said, I would be interested to see how the younger half of the generation would fare in this study, seeing as they have more free time, and were born with Instagram and YouTube."
   ]
  },
  {
   "cell_type": "markdown",
   "metadata": {
    "pycharm": {
     "name": "#%% md\n"
    }
   },
   "source": [
    "<hr>"
   ]
  },
  {
   "cell_type": "markdown",
   "metadata": {
    "pycharm": {
     "name": "#%% md\n"
    },
    "tags": []
   },
   "source": [
    "### 3.3 What are Generation Z doing online?"
   ]
  },
  {
   "cell_type": "markdown",
   "metadata": {
    "pycharm": {
     "name": "#%% md\n"
    },
    "tags": []
   },
   "source": [
    "#### 3.3.1 What activities are Generation Z doing online?"
   ]
  },
  {
   "cell_type": "markdown",
   "metadata": {
    "pycharm": {
     "name": "#%% md\n"
    }
   },
   "source": [
    "I established that Generation Z spent a lot of time on social media, but what other activities are they using the internet for? Does social media encompass their time spent online, or are they equally sharing their time?  \n",
    "\n",
    "In order to find an answer to this question I used the data from df_2 which had information about various activities, and the number of correspondents who take part in them. I further refined the data to create a horizontal bar chart that displayed the data visually."
   ]
  },
  {
   "cell_type": "code",
   "execution_count": null,
   "metadata": {
    "pycharm": {
     "name": "#%%\n"
    }
   },
   "outputs": [
    {
     "data": {
      "text/html": [
       "<div>\n",
       "<style scoped>\n",
       "    .dataframe tbody tr th:only-of-type {\n",
       "        vertical-align: middle;\n",
       "    }\n",
       "\n",
       "    .dataframe tbody tr th {\n",
       "        vertical-align: top;\n",
       "    }\n",
       "\n",
       "    .dataframe thead th {\n",
       "        text-align: right;\n",
       "    }\n",
       "</style>\n",
       "<table border=\"1\" class=\"dataframe\">\n",
       "  <thead>\n",
       "    <tr style=\"text-align: right;\">\n",
       "      <th></th>\n",
       "      <th>Share of respondents (f)</th>\n",
       "      <th>Share of respondents (%)</th>\n",
       "    </tr>\n",
       "    <tr>\n",
       "      <th>Activity</th>\n",
       "      <th></th>\n",
       "      <th></th>\n",
       "    </tr>\n",
       "  </thead>\n",
       "  <tbody>\n",
       "    <tr>\n",
       "      <th>Social networking</th>\n",
       "      <td>0.97</td>\n",
       "      <td>97</td>\n",
       "    </tr>\n",
       "    <tr>\n",
       "      <th>Using instant messaging services</th>\n",
       "      <td>0.92</td>\n",
       "      <td>92</td>\n",
       "    </tr>\n",
       "    <tr>\n",
       "      <th>Listening to/downloading music</th>\n",
       "      <td>0.93</td>\n",
       "      <td>93</td>\n",
       "    </tr>\n",
       "    <tr>\n",
       "      <th>Sending/receiving emails</th>\n",
       "      <td>0.94</td>\n",
       "      <td>94</td>\n",
       "    </tr>\n",
       "    <tr>\n",
       "      <th>Internet banking</th>\n",
       "      <td>0.90</td>\n",
       "      <td>90</td>\n",
       "    </tr>\n",
       "    <tr>\n",
       "      <th>Finding information about goods and services</th>\n",
       "      <td>0.84</td>\n",
       "      <td>84</td>\n",
       "    </tr>\n",
       "    <tr>\n",
       "      <th>Reading online news, newspapers or magazines</th>\n",
       "      <td>0.78</td>\n",
       "      <td>78</td>\n",
       "    </tr>\n",
       "    <tr>\n",
       "      <th>Making video or voice calls over the internet</th>\n",
       "      <td>0.70</td>\n",
       "      <td>70</td>\n",
       "    </tr>\n",
       "    <tr>\n",
       "      <th>Uploading content created by you to a website to be shared</th>\n",
       "      <td>0.56</td>\n",
       "      <td>56</td>\n",
       "    </tr>\n",
       "    <tr>\n",
       "      <th>Selling goods or services over the internet</th>\n",
       "      <td>0.22</td>\n",
       "      <td>22</td>\n",
       "    </tr>\n",
       "    <tr>\n",
       "      <th>Watching video content from services such as YouTube</th>\n",
       "      <td>0.95</td>\n",
       "      <td>95</td>\n",
       "    </tr>\n",
       "  </tbody>\n",
       "</table>\n",
       "</div>"
      ],
      "text/plain": [
       "                                                    Share of respondents (f)  \\\n",
       "Activity                                                                       \n",
       "Social networking                                                       0.97   \n",
       "Using instant messaging services                                        0.92   \n",
       "Listening to/downloading music                                          0.93   \n",
       "Sending/receiving emails                                                0.94   \n",
       "Internet banking                                                        0.90   \n",
       "Finding information about goods and services                            0.84   \n",
       "Reading online news, newspapers or magazines                            0.78   \n",
       "Making video or voice calls over the internet                           0.70   \n",
       "Uploading content created by you to a website t...                      0.56   \n",
       "Selling goods or services over the internet                             0.22   \n",
       "Watching video content from services such as Yo...                      0.95   \n",
       "\n",
       "                                                    Share of respondents (%)  \n",
       "Activity                                                                      \n",
       "Social networking                                                         97  \n",
       "Using instant messaging services                                          92  \n",
       "Listening to/downloading music                                            93  \n",
       "Sending/receiving emails                                                  94  \n",
       "Internet banking                                                          90  \n",
       "Finding information about goods and services                              84  \n",
       "Reading online news, newspapers or magazines                              78  \n",
       "Making video or voice calls over the internet                             70  \n",
       "Uploading content created by you to a website t...                        56  \n",
       "Selling goods or services over the internet                               22  \n",
       "Watching video content from services such as Yo...                        95  "
      ]
     },
     "execution_count": 58,
     "metadata": {},
     "output_type": "execute_result"
    }
   ],
   "source": [
    "df_2_copy = df_2\n",
    "df_2_copy.set_index('Activity', inplace=True)\n",
    "\n",
    "df_2_copy"
   ]
  },
  {
   "cell_type": "code",
   "execution_count": 59,
   "metadata": {
    "pycharm": {
     "name": "#%%\n"
    }
   },
   "outputs": [
    {
     "data": {
      "text/html": [
       "<div>\n",
       "<style scoped>\n",
       "    .dataframe tbody tr th:only-of-type {\n",
       "        vertical-align: middle;\n",
       "    }\n",
       "\n",
       "    .dataframe tbody tr th {\n",
       "        vertical-align: top;\n",
       "    }\n",
       "\n",
       "    .dataframe thead th {\n",
       "        text-align: right;\n",
       "    }\n",
       "</style>\n",
       "<table border=\"1\" class=\"dataframe\">\n",
       "  <thead>\n",
       "    <tr style=\"text-align: right;\">\n",
       "      <th></th>\n",
       "      <th>Share of respondents (%)</th>\n",
       "    </tr>\n",
       "    <tr>\n",
       "      <th>Activity</th>\n",
       "      <th></th>\n",
       "    </tr>\n",
       "  </thead>\n",
       "  <tbody>\n",
       "    <tr>\n",
       "      <th>Social networking</th>\n",
       "      <td>97</td>\n",
       "    </tr>\n",
       "    <tr>\n",
       "      <th>Using instant messaging services</th>\n",
       "      <td>92</td>\n",
       "    </tr>\n",
       "    <tr>\n",
       "      <th>Listening to/downloading music</th>\n",
       "      <td>93</td>\n",
       "    </tr>\n",
       "    <tr>\n",
       "      <th>Sending/receiving emails</th>\n",
       "      <td>94</td>\n",
       "    </tr>\n",
       "    <tr>\n",
       "      <th>Internet banking</th>\n",
       "      <td>90</td>\n",
       "    </tr>\n",
       "    <tr>\n",
       "      <th>Finding information about goods and services</th>\n",
       "      <td>84</td>\n",
       "    </tr>\n",
       "    <tr>\n",
       "      <th>Reading online news, newspapers or magazines</th>\n",
       "      <td>78</td>\n",
       "    </tr>\n",
       "    <tr>\n",
       "      <th>Making video or voice calls over the internet</th>\n",
       "      <td>70</td>\n",
       "    </tr>\n",
       "    <tr>\n",
       "      <th>Uploading content created by you to a website to be shared</th>\n",
       "      <td>56</td>\n",
       "    </tr>\n",
       "    <tr>\n",
       "      <th>Selling goods or services over the internet</th>\n",
       "      <td>22</td>\n",
       "    </tr>\n",
       "    <tr>\n",
       "      <th>Watching video content from services such as YouTube</th>\n",
       "      <td>95</td>\n",
       "    </tr>\n",
       "  </tbody>\n",
       "</table>\n",
       "</div>"
      ],
      "text/plain": [
       "                                                    Share of respondents (%)\n",
       "Activity                                                                    \n",
       "Social networking                                                         97\n",
       "Using instant messaging services                                          92\n",
       "Listening to/downloading music                                            93\n",
       "Sending/receiving emails                                                  94\n",
       "Internet banking                                                          90\n",
       "Finding information about goods and services                              84\n",
       "Reading online news, newspapers or magazines                              78\n",
       "Making video or voice calls over the internet                             70\n",
       "Uploading content created by you to a website t...                        56\n",
       "Selling goods or services over the internet                               22\n",
       "Watching video content from services such as Yo...                        95"
      ]
     },
     "execution_count": 59,
     "metadata": {},
     "output_type": "execute_result"
    }
   ],
   "source": [
    "delete_columns('Share of respondents (f)', df_2_copy)\n",
    "df_2_copy"
   ]
  },
  {
   "cell_type": "code",
   "execution_count": 183,
   "metadata": {
    "pycharm": {
     "name": "#%%\n"
    },
    "tags": []
   },
   "outputs": [
    {
     "data": {
      "image/png": "[encoded data removed]",
      "text/plain": [
       "<Figure size 1080x648 with 1 Axes>"
      ]
     },
     "metadata": {
      "needs_background": "light"
     },
     "output_type": "display_data"
    }
   ],
   "source": [
    "df_2_barh = df_2_copy.plot.barh(figsize=(15, 9), color='#DDA0DD', title=\"Online Activities\")"
   ]
  },
  {
   "cell_type": "markdown",
   "metadata": {
    "pycharm": {
     "name": "#%% md\n"
    }
   },
   "source": [
    "The bar chart above displays the percentage of correspondents that do each activity. According to the data, 97% of the correspondents used social networking sites, 95% watched video content online and 94% checked/sent email.  \n",
    "\n",
    "The data shows that there is a fair bit of activities that Generation Z do online, as the majority of the data was over 80%. On the lower end 22% of the correspondents reported selling goods or services over the internet. This led me to believe that the internet was used more for fun activities, or as a way to take a break. As most of the activities were not heavily connected to work.\n",
    "\n",
    "On the other hand, 94% of correspondents checked/sent emails, and who's to say that they weren't work emails. However, it seemed that there was a lot of ambiguity from the data. There was not necessarily more that could have been done, it was just the nature of the categories- they were not very specific. Although if they had been too specific the data wouldn't have been accurate or representative anymore. I believed that formulating an analysis on this would lead to a lot of bias, as there would have been a lot of assumptions from the one analysing, as the data wasn't very niched. \n",
    "\n",
    "All in all, it was pretty hard to come to a solid conclusion from this data, there were more things that I would have needed to know to reach a valid conclusion. But what was quite clear was that most Generation Zers spend time on social networking sites."
   ]
  },
  {
   "cell_type": "markdown",
   "metadata": {
    "pycharm": {
     "name": "#%% md\n"
    }
   },
   "source": [
    "<hr>"
   ]
  },
  {
   "cell_type": "markdown",
   "metadata": {
    "pycharm": {
     "name": "#%% md\n"
    },
    "tags": []
   },
   "source": [
    "#### 3.3.2 What social apps do Generation Z favour, and what does that say about them?"
   ]
  },
  {
   "cell_type": "markdown",
   "metadata": {
    "pycharm": {
     "name": "#%% md\n"
    }
   },
   "source": [
    "I spoke a lot about Generation Z using social media, but what applications have they favoured, and what do they say about them? What impact has it had on them as a whole?  \n",
    "\n",
    "I decided to explore df_1 to approach this. It is a dataframe that represents the number of users (from Generation Z) that were using each social platforms in millions. It also gives data for the specific year, and predicts data for years to come. I transformed the data into a line chart, so that it could display the growth (whether positive or negative) of each social platform over the years."
   ]
  },
  {
   "cell_type": "code",
   "execution_count": 48,
   "metadata": {
    "pycharm": {
     "name": "#%%\n"
    }
   },
   "outputs": [
    {
     "data": {
      "text/html": [
       "<div>\n",
       "<style scoped>\n",
       "    .dataframe tbody tr th:only-of-type {\n",
       "        vertical-align: middle;\n",
       "    }\n",
       "\n",
       "    .dataframe tbody tr th {\n",
       "        vertical-align: top;\n",
       "    }\n",
       "\n",
       "    .dataframe thead th {\n",
       "        text-align: right;\n",
       "    }\n",
       "</style>\n",
       "<table border=\"1\" class=\"dataframe\">\n",
       "  <thead>\n",
       "    <tr style=\"text-align: right;\">\n",
       "      <th></th>\n",
       "      <th>Snapchat</th>\n",
       "      <th>Instagram</th>\n",
       "      <th>TikTok</th>\n",
       "      <th>Facebook</th>\n",
       "      <th>Pinterest</th>\n",
       "      <th>Twitter</th>\n",
       "      <th>Reddit</th>\n",
       "    </tr>\n",
       "    <tr>\n",
       "      <th>Year</th>\n",
       "      <th></th>\n",
       "      <th></th>\n",
       "      <th></th>\n",
       "      <th></th>\n",
       "      <th></th>\n",
       "      <th></th>\n",
       "      <th></th>\n",
       "    </tr>\n",
       "  </thead>\n",
       "  <tbody>\n",
       "    <tr>\n",
       "      <th>2020</th>\n",
       "      <td>38.1</td>\n",
       "      <td>30.0</td>\n",
       "      <td>29.5</td>\n",
       "      <td>26.8</td>\n",
       "      <td>16.7</td>\n",
       "      <td>14.4</td>\n",
       "      <td>8.4</td>\n",
       "    </tr>\n",
       "    <tr>\n",
       "      <th>2021</th>\n",
       "      <td>42.0</td>\n",
       "      <td>33.3</td>\n",
       "      <td>37.3</td>\n",
       "      <td>28.7</td>\n",
       "      <td>18.9</td>\n",
       "      <td>15.8</td>\n",
       "      <td>10.3</td>\n",
       "    </tr>\n",
       "    <tr>\n",
       "      <th>2022</th>\n",
       "      <td>44.5</td>\n",
       "      <td>37.3</td>\n",
       "      <td>41.4</td>\n",
       "      <td>31.8</td>\n",
       "      <td>20.9</td>\n",
       "      <td>16.7</td>\n",
       "      <td>11.9</td>\n",
       "    </tr>\n",
       "    <tr>\n",
       "      <th>2023</th>\n",
       "      <td>47.0</td>\n",
       "      <td>41.4</td>\n",
       "      <td>45.0</td>\n",
       "      <td>35.0</td>\n",
       "      <td>23.0</td>\n",
       "      <td>17.8</td>\n",
       "      <td>13.6</td>\n",
       "    </tr>\n",
       "    <tr>\n",
       "      <th>2024</th>\n",
       "      <td>49.6</td>\n",
       "      <td>45.7</td>\n",
       "      <td>48.2</td>\n",
       "      <td>38.3</td>\n",
       "      <td>25.1</td>\n",
       "      <td>18.8</td>\n",
       "      <td>15.4</td>\n",
       "    </tr>\n",
       "    <tr>\n",
       "      <th>2025</th>\n",
       "      <td>49.5</td>\n",
       "      <td>48.3</td>\n",
       "      <td>48.8</td>\n",
       "      <td>40.7</td>\n",
       "      <td>26.1</td>\n",
       "      <td>19.2</td>\n",
       "      <td>17.1</td>\n",
       "    </tr>\n",
       "  </tbody>\n",
       "</table>\n",
       "</div>"
      ],
      "text/plain": [
       "      Snapchat  Instagram  TikTok  Facebook  Pinterest  Twitter  Reddit\n",
       "Year                                                                   \n",
       "2020      38.1       30.0    29.5      26.8       16.7     14.4     8.4\n",
       "2021      42.0       33.3    37.3      28.7       18.9     15.8    10.3\n",
       "2022      44.5       37.3    41.4      31.8       20.9     16.7    11.9\n",
       "2023      47.0       41.4    45.0      35.0       23.0     17.8    13.6\n",
       "2024      49.6       45.7    48.2      38.3       25.1     18.8    15.4\n",
       "2025      49.5       48.3    48.8      40.7       26.1     19.2    17.1"
      ]
     },
     "execution_count": 48,
     "metadata": {},
     "output_type": "execute_result"
    }
   ],
   "source": [
    "df_1_copy = df_1\n",
    "df_1_copy.set_index('Year', inplace=True)\n",
    "\n",
    "df_1_copy"
   ]
  },
  {
   "cell_type": "code",
   "execution_count": 189,
   "metadata": {
    "pycharm": {
     "name": "#%%\n"
    }
   },
   "outputs": [
    {
     "data": {
      "image/png": "[encoded data removed]",
      "text/plain": [
       "<Figure size 1080x504 with 1 Axes>"
      ]
     },
     "metadata": {
      "needs_background": "light"
     },
     "output_type": "display_data"
    }
   ],
   "source": [
    "df_1_line_chart = df_1_copy.plot.line(figsize = (15, 7), lw=4, title=\"Popular Social Platforms (in millions)\")"
   ]
  },
  {
   "cell_type": "markdown",
   "metadata": {
    "pycharm": {
     "name": "#%% md\n"
    }
   },
   "source": [
    "In the chart above it was clear that there was an increase in the number of users on the various social platforms. This was very representative of the world that we are living in today, being that it is a rapidly growing technological world. However, I decided to look at the data more closely, seeing as they were all increasing, and set to continue increasing.  \n",
    "\n",
    "I noticed that there was a significant difference in users (around 10 million) between the purple (Pinterest), brown (Twitter), pink (Reddit) group, and the blue (Snapchat), green (TikTok), orange (Instagram), red (Facebook) group. This led me to consider what these groups each had in common. I came to the realisation that the group that had the more users (blue group) were the social platforms that had an emphasis on short videos, as opposed to being more text based, with pictures and videos here and there.  \n",
    "\n",
    "*Point to mention- the highest of the lower group was Pinterest, which is set to continue increasing in users steadily. Pinterest is more visual based than the other two, though it lacks as much social interaction- the concept of short videos has slowly been introduced onto the app.\n",
    "\n",
    "Why is that the case? Why are Generation Zers choosing videos and pictures, over more text-based platforms. I had an inkling that it was due to two main things. One that videos are more personal, and two because humans are visual beings.  \n",
    "\n",
    "We have gotten very far in technology, and that has expanded to how we share online. More and more people are using filters or are editing their pictures before posting them. While videos can still be edited, and people can use filters, videos still come across as more authentic. There are also the perfect way for people to share short clips, vlog about their lives. In addition, humans are very visual and seeing things helps the experience feel more real. Many people who follow strangers online feel as though they know those strangers, due to images and video content that they have shared online.  \n",
    "\n",
    "What can we infer from this? Upon analysing the data I realised that there could be a connection between the visual nature of humans and body dysmorphia or body comparison. Body comparison is inevitable when people use such visual platforms where people post their best angles."
   ]
  },
  {
   "cell_type": "markdown",
   "metadata": {
    "pycharm": {
     "name": "#%% md\n"
    }
   },
   "source": [
    "The chart below displays how often Generation Zers post selfies. The data came from the data I acquired from URL\\[6\\] data."
   ]
  },
  {
   "cell_type": "code",
   "execution_count": 110,
   "metadata": {
    "pycharm": {
     "name": "#%%\n"
    }
   },
   "outputs": [
    {
     "data": {
      "text/html": [
       "<div>\n",
       "<style scoped>\n",
       "    .dataframe tbody tr th:only-of-type {\n",
       "        vertical-align: middle;\n",
       "    }\n",
       "\n",
       "    .dataframe tbody tr th {\n",
       "        vertical-align: top;\n",
       "    }\n",
       "\n",
       "    .dataframe thead th {\n",
       "        text-align: right;\n",
       "    }\n",
       "</style>\n",
       "<table border=\"1\" class=\"dataframe\">\n",
       "  <thead>\n",
       "    <tr style=\"text-align: right;\">\n",
       "      <th></th>\n",
       "      <th>Percentage (%)</th>\n",
       "    </tr>\n",
       "    <tr>\n",
       "      <th>Posting Selfies</th>\n",
       "      <th></th>\n",
       "    </tr>\n",
       "  </thead>\n",
       "  <tbody>\n",
       "    <tr>\n",
       "      <th>Never</th>\n",
       "      <td>34.5</td>\n",
       "    </tr>\n",
       "    <tr>\n",
       "      <th>1 or 2 times a month</th>\n",
       "      <td>57.1</td>\n",
       "    </tr>\n",
       "    <tr>\n",
       "      <th>Once a week</th>\n",
       "      <td>7.0</td>\n",
       "    </tr>\n",
       "    <tr>\n",
       "      <th>3 to 4 times a week</th>\n",
       "      <td>1.4</td>\n",
       "    </tr>\n",
       "  </tbody>\n",
       "</table>\n",
       "</div>"
      ],
      "text/plain": [
       "                      Percentage (%)\n",
       "Posting Selfies                     \n",
       "Never                           34.5\n",
       "1 or 2 times a month            57.1\n",
       "Once a week                      7.0\n",
       "3 to 4 times a week              1.4"
      ]
     },
     "execution_count": 110,
     "metadata": {},
     "output_type": "execute_result"
    }
   ],
   "source": [
    "posting_selfies_copy = posting_selfies\n",
    "posting_selfies_copy.set_index('Posting Selfies', inplace=True)\n",
    "delete_columns('Percentage (f)', posting_selfies_copy)\n",
    "\n",
    "posting_selfies_copy"
   ]
  },
  {
   "cell_type": "code",
   "execution_count": 178,
   "metadata": {
    "pycharm": {
     "name": "#%%\n"
    }
   },
   "outputs": [
    {
     "data": {
      "image/png": "[encoded data removed]",
      "text/plain": [
       "<Figure size 504x504 with 1 Axes>"
      ]
     },
     "metadata": {},
     "output_type": "display_data"
    }
   ],
   "source": [
    "posting_selfies_pie = posting_selfies_copy.plot.pie(y='Percentage (%)', figsize=(7, 7), \n",
    "                                                    colors=[\"#87CEFA\", \"#FFA07A\", \"#98FB98\", \"#D8BFD8\"]\n",
    "                                                    ,title=\"Posting Selfies\")"
   ]
  },
  {
   "cell_type": "markdown",
   "metadata": {
    "pycharm": {
     "name": "#%% md\n"
    }
   },
   "source": [
    "The pie chart showed that people are not posting frequently. 57.1% of people post once or twice a month, and 34.5% never post at all. The makes up a total of 91.6% who don't post too frequently. This was a lot to unpack. Why aren't they posting if they are constantly checking social media? \n",
    "\n",
    "Well, this may have come as a surprise since we saw earlier that Generation Zers use social platforms a lot. All in all, I concluded that most users were ghosting, a colloquial term in social media that meant that they were simply just observing but not contributing to what they observed. They kept their social platforms so they could get insight on what was happenning around the world- since we saw earlier that, that was their primary news source. In addition, they keep it so that they can be kept up to date with what is trending, where they get fed a ton of perfection through media, leading to a vicious cycle of body comparison."
   ]
  },
  {
   "cell_type": "markdown",
   "metadata": {
    "pycharm": {
     "name": "#%% md\n"
    }
   },
   "source": [
    "<hr>"
   ]
  },
  {
   "cell_type": "markdown",
   "metadata": {
    "pycharm": {
     "name": "#%% md\n"
    }
   },
   "source": [
    "### 3.4 What are the mental health impacts of all this?"
   ]
  },
  {
   "cell_type": "markdown",
   "metadata": {
    "pycharm": {
     "name": "#%% md\n"
    }
   },
   "source": [
    "We already know that social media leads to body dysmorphia, and I alluded to other issues earlier, but what other mental health impacts are there?"
   ]
  },
  {
   "cell_type": "markdown",
   "metadata": {
    "pycharm": {
     "name": "#%% md\n"
    },
    "tags": []
   },
   "source": [
    "#### 3.4.1 Are people suffering from anxiety?"
   ]
  },
  {
   "cell_type": "markdown",
   "metadata": {
    "pycharm": {
     "name": "#%% md\n"
    }
   },
   "source": [
    "Anxiety is descibed as \"*feeling of unease, such as worry or fear, that can be mild or severe*\" \\[4\\], and is seen at work across a variety of age groups. The graph below displays the percentage of Generation Zers that experienced anxiety from 2020 to 2021."
   ]
  },
  {
   "cell_type": "code",
   "execution_count": 174,
   "metadata": {
    "pycharm": {
     "name": "#%%\n"
    }
   },
   "outputs": [
    {
     "data": {
      "image/png": "[encoded data removed]",
      "text/plain": [
       "<Figure size 1080x432 with 1 Axes>"
      ]
     },
     "metadata": {
      "needs_background": "light"
     },
     "output_type": "display_data"
    }
   ],
   "source": [
    "df_3_line = df_3.plot.line(figsize=(15, 6), lw=3, color=\"#00CED1\", x='TimeFrame', y='Data (%)',\n",
    "                          title=\"The Percentage of People Suffering from Anxiety\")"
   ]
  },
  {
   "cell_type": "markdown",
   "metadata": {
    "pycharm": {
     "name": "#%% md\n"
    }
   },
   "source": [
    "The graph above shows that the number of Generation Zers that suffer from anxiety has not been very constant. There was a peak around Oct to Nov 2020, which could be attributed to the pandemic. Analysing this brought me to the conclusion that there were two ways that I would want to look at the data. First, by ignoring the peaks caused by a global pandemic, as people are bound to become more anxious, and then by looking at the whole data including the peaks.  \n",
    "\n",
    "By ignoring the peaks, I concluded that on average 40% of Generation Z suffered from anxiety- which is incredibly high. Including the peaks brought the average up to about 45%, with the max at one point having been 50%. This meant that there was a time when 1 in 2 Generation Zers suffered from anxiety, which is a collosal amount of people.  \n",
    "\n",
    "What is the cause of their anxiety? We have already seen that they have spent a lot of their time online, and that many compare theirselves to others, all these things are catalysts for anxiety. Though I wasn't able to say for certain that technology was the main cause of their anxiety, I was able to conclude that it plays a large role in causing it, or perhaps adding to it."
   ]
  },
  {
   "cell_type": "markdown",
   "metadata": {
    "pycharm": {
     "name": "#%% md\n"
    }
   },
   "source": [
    "<hr>"
   ]
  },
  {
   "cell_type": "markdown",
   "metadata": {
    "pycharm": {
     "name": "#%% md\n"
    },
    "tags": []
   },
   "source": [
    "#### 3.4.2 Are people suffering from depression?"
   ]
  },
  {
   "cell_type": "markdown",
   "metadata": {
    "pycharm": {
     "name": "#%% md\n"
    }
   },
   "source": [
    "Depression is defined as \"*a low mood that lasts for weeks or months and affects your daily life*\" \\[4\\]. At the begininning of this proposal I stated that Generation Z were seen as a depressed generation. Let's see how true of a statement that was.  \n",
    "\n",
    "Below I created another line graph that represented the percentage of Generation Zers that suffered from depression. It like the anxiety one, was measured over the course of 2020 and 2021."
   ]
  },
  {
   "cell_type": "code",
   "execution_count": 175,
   "metadata": {
    "pycharm": {
     "name": "#%%\n"
    }
   },
   "outputs": [
    {
     "data": {
      "image/png": "[encoded data removed]",
      "text/plain": [
       "<Figure size 1080x432 with 1 Axes>"
      ]
     },
     "metadata": {
      "needs_background": "light"
     },
     "output_type": "display_data"
    }
   ],
   "source": [
    "df_4_line = df_4.plot.line(figsize=(15, 6), lw=3, color=\"#8A2BE2\", x='TimeFrame', y='Data (%)',\n",
    "                          title=\"The Percentage of People Suffering from Depression\")"
   ]
  },
  {
   "cell_type": "markdown",
   "metadata": {
    "pycharm": {
     "name": "#%% md\n"
    }
   },
   "source": [
    "From the chart above I inferred that the number of those that had depression had been increasing over the month until a certain point. I assumed that this was due to an after affect of the pandemic, and that at the point where it dropped, the level of depression was slowly going back to the norm- though it looked to be rising again.  \n",
    "\n",
    "Due to this, it was very hard to draw a conclusion from this data. This proposal was about the impact of technology/internet/social media on mental health not a pandemic. I concluded that the data was accurate however not useful for what I was trying to find an answer too. I then decided to just focus on the part before the rapid jump, and came to this final conclusion. On average about 32% of Generation Z suffer from depression, which is almost 1 in 3, which is another pretty high stat. Therefore to some degree, there was plenty of truth behind my initial statement."
   ]
  },
  {
   "cell_type": "markdown",
   "metadata": {
    "pycharm": {
     "name": "#%% md\n"
    }
   },
   "source": [
    "<hr>"
   ]
  },
  {
   "cell_type": "markdown",
   "metadata": {
    "pycharm": {
     "name": "#%% md\n"
    }
   },
   "source": [
    "# 4 Conclusion and Critical Evaluation"
   ]
  },
  {
   "cell_type": "markdown",
   "metadata": {
    "pycharm": {
     "name": "#%% md\n"
    }
   },
   "source": [
    "In terms of my objectives, I had originally set out to analyse the correlation between body dymorphia and social media with Generation Z, and eventually decided to broaden the proposal to media and technology as a whole, and their impact on the mental health of Generation Z- which I mentioned before.  \n",
    "\n",
    "I was able to analyse what I finally set out to, and I came to the conclusion that there was in fact a correlation. Though I will say that the strength of that correlation most definitely lies heavily on the data that you are able to acquire. I was able to attain a good amount of data that helped me reach my conclusion. Though I found that some of the data could have been impacted by other events that happened over the world, or other factors in general. This is because the data I attained wasn't as niched as I would have liked it to have been, in order to feel more confident with what I discovered- though I still believe that I reached a solid conclusion.  \n",
    "\n",
    "I explored the forms of media that Generation Z take in, and also whether they were the most reliable forms of media to use. I also explored whether people that frequented social platforms more often, were more inclined to develop poor mental health.\n",
    "\n",
    "If I were to have more time, I would go with my original objective, and spend a significant amount of time finding data, or perhaps even conducting surveys to acquire my own data. I believe that this was an important topic as many of this young generation are facing these things, as a result of their technologically influenced upbringing, and they are the hope for tomorrow, so it is in our best interest to ensure that everyone has the opportunity to improve on their mental health.\n",
    "\n",
    "In terms of my aims, I set out to first find the data needed to explore my objects. I was able to successfully do this, though I do acknowledge some bias present in some of the data, due to smaller study sizes in some cases. There may also have been a lack in diversity in the data I collected too. However, I was still able to obtain some solid data, that was able to help me draw a conclusion.  \n",
    "\n",
    "Another of my aims was to consider the methods needed to extract said data and then extact it, which I did. I spent the majority of the extracting time scrapping data, and if I didn't scrap I extracted from excel spreadsheets. With that I achieved another of my aims, which was to clean the data so that I would be able to analyse it- which I did, and I was also able to pick up on strange patterns due to that. My final aim was to carry out exploratory data analysis by identifying links between data, and also potential flaws. I believe that I met this aim, though if I had more time, or I was to approach this again, there are more correlations that I would touch on, and I would also go into more detail, and use more tools."
   ]
  },
  {
   "cell_type": "markdown",
   "metadata": {
    "pycharm": {
     "name": "#%% md\n"
    },
    "tags": []
   },
   "source": [
    "# 5 References and Resources"
   ]
  },
  {
   "cell_type": "markdown",
   "metadata": {
    "pycharm": {
     "name": "#%% md\n"
    },
    "tags": []
   },
   "source": [
    "## 5.1 References"
   ]
  },
  {
   "cell_type": "markdown",
   "metadata": {
    "pycharm": {
     "name": "#%% md\n"
    }
   },
   "source": [
    "<!-- \\[1\\] A. Koivunen, A. Kanner, M. Janicki, A. Harju, J. Hokkanen, E.\n",
    "Mäkelä, \"Emotive, evaluative, epistemic: A linguistic analysis of\n",
    "affectivity in news journalism\", *Journalism*, vol. 22, issue 5, pp.\n",
    "1190-1206, Feb 2021. -->\n",
    "\\[1\\] Harvard Business Review. (2019, October 7) *Research: People Want Their Employers to Talk About Mental Health* \\[online\\]. Available: <https://hbr.org/2019/10/research-people-want-their-employers-to-talk-about-mental-health>  \n",
    "\\[2\\] NHS. *Body dysmorphic disorder (BDD)* \\[Online\\]. Available: <https://www.nhs.uk/mental-health/conditions/body-dysmorphia/#overview>  \n",
    "\\[3\\] The Annie E. Casey Foundation. (2021, March 3) *Generation Z and Mental Health* \\[online\\]. Available: <https://www.aecf.org/blog/generation-z-and-mental-health>  \n",
    "\\[4\\] NHS. *Generalised Anxiety Disorder in Adults* \\[Online\\]. Available: <https://www.nhs.uk/mental-health/conditions/generalised-anxiety-disorder/overview/#:~:text=Anxiety%20is%20a%20feeling%20of,medical%20test%20or%20job%20interview>  \n",
    "\\[5\\] NHS. *Clinical Depression* \\[Online\\]. Available: <https://www.nhs.uk/mental-health/conditions/clinical-depression/overview/>\n"
   ]
  },
  {
   "cell_type": "markdown",
   "metadata": {
    "pycharm": {
     "name": "#%% md\n"
    },
    "tags": []
   },
   "source": [
    "## 5.2 Resources used"
   ]
  },
  {
   "cell_type": "markdown",
   "metadata": {
    "pycharm": {
     "name": "#%% md\n"
    },
    "tags": []
   },
   "source": [
    "#### Webscraping"
   ]
  },
  {
   "cell_type": "markdown",
   "metadata": {
    "pycharm": {
     "name": "#%% md\n"
    }
   },
   "source": [
    "- Frequency of using selected news sources among Generation Z in the United States as of February 2022 | https://www.statista.com/statistics/1124119/gen-z-news-consumption-us/\n",
    "- Number of Gen Z users in the United States on selected social media platforms from 2020 to 2025 | https://www.statista.com/statistics/1276021/instagram-snapchat-tiktok-gen-z-users/  \n",
    "- Activities performed online by Generation Z in Great Britain in 2020 | https://www.statista.com/statistics/1119977/gen-z-internet-activities-in-great-britain/ \n",
    "- Number of Gen Z that suffer from nerves, anxiety, and more in the US in 2020 | https://datacenter.kidscount.org/data/tables/11209-adults-ages-18-to-24-who-felt-nervous-anxious-or-on-edge-for-more-than-half-of-the-days-or-nearly-every-day-in-the-past-week\n",
    "- Number of Gen Z that are depressed and hopeless in the US in 2021 | https://datacenter.kidscount.org/data/tables/11211-adults-ages-18-to-24-who-felt-down-depressed-or-hopeless-for-more-than-half-of-the-days-or-nearly-every-day-for-the-past-two-weeks\n",
    "- Number of Gen Z reporting poor mental health | https://datacenter.kidscount.org/data/tables/11202-young-adults-ages-18-to-24-reporting-zero-poor-mental-health-days-in-the-past-month\n",
    "- The link between social media and body dysmorphia | https://www.ncbi.nlm.nih.gov/pmc/articles/PMC8001450/"
   ]
  }
 ],
 "metadata": {
  "kernelspec": {
   "display_name": "Python 3 (ipykernel)",
   "language": "python",
   "name": "python3"
  },
  "language_info": {
   "codemirror_mode": {
    "name": "ipython",
    "version": 3
   },
   "file_extension": ".py",
   "mimetype": "text/x-python",
   "name": "python",
   "nbconvert_exporter": "python",
   "pygments_lexer": "ipython3",
   "version": "3.9.12"
  }
 },
 "nbformat": 4,
 "nbformat_minor": 4
}
